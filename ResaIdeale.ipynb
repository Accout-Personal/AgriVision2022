{
 "cells": [
  {
   "attachments": {},
   "cell_type": "markdown",
   "metadata": {},
   "source": [
    "# Method of \"ideal yield\""
   ]
  },
  {
   "cell_type": "code",
   "execution_count": null,
   "metadata": {},
   "outputs": [],
   "source": [
    "import numpy as np \n",
    "import matplotlib.pyplot as plt\n",
    "import pickle"
   ]
  },
  {
   "cell_type": "code",
   "execution_count": null,
   "metadata": {},
   "outputs": [],
   "source": [
    "# Test and Train path\n",
    "with open('newResa3.pickle', 'rb') as handle:\n",
    "    newResa3 = pickle.load(handle)\n",
    "\n",
    "with open('AllPixelBand3.pickle', 'rb') as handle:\n",
    "    allPixel3 = pickle.load(handle)"
   ]
  },
  {
   "cell_type": "code",
   "execution_count": null,
   "metadata": {},
   "outputs": [],
   "source": [
    "def ResaIdeale(ndviPicco,rumore):  \n",
    "    ideale = ((ndviPicco**1.6)/2.3)+0.4\n",
    "    return np.random.normal(loc=ideale, scale=rumore, size=None)"
   ]
  },
  {
   "cell_type": "code",
   "execution_count": null,
   "metadata": {},
   "outputs": [],
   "source": [
    "NVDI3Medium = (Pixel3Medium[:,7,:] - Pixel3Medium[:,3,:])/(Pixel3Medium[:,7,:] + Pixel3Medium[:,3,:])\n",
    "Resa3MediumFake = []\n",
    "noise = 0.1 #standard deviation\n",
    "# noise a 0.1 is very similar to original dataset distribution\n",
    "\n",
    "for v in (NVDI3Medium[:,12]):\n",
    "    Resa3MediumFake.append(ResaIdeale(v,noise))\n",
    "\n",
    "Resa3MediumFake = np.array(Resa3MediumFake)\n",
    "fig, ax = plt.subplots()\n",
    "ax.scatter(NVDI3Medium[:,12], Resa3MediumFake, c='blue')\n",
    "ax.set_xlabel(\"ndvi\")\n",
    "ax.set_ylabel(\"resa\")\n",
    "ax.set_ylim([0,1])\n",
    "ax.set_xlim([0,1])\n",
    "plt.show()"
   ]
  }
 ],
 "metadata": {
  "kernelspec": {
   "display_name": "Agrivision",
   "language": "python",
   "name": "python3"
  },
  "language_info": {
   "name": "python",
   "version": "3.8.15"
  },
  "orig_nbformat": 4,
  "vscode": {
   "interpreter": {
    "hash": "a6fd6293ccc705e158ec482904294ec7e16439ac8b2c7ba98f1fba253c109f1f"
   }
  }
 },
 "nbformat": 4,
 "nbformat_minor": 2
}
