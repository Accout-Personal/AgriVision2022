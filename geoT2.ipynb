{
 "cells": [
  {
   "cell_type": "code",
   "execution_count": 2,
   "metadata": {},
   "outputs": [],
   "source": [
    "from matplotlib import pyplot as plt\n",
    "import matplotlib.dates as md\n",
    "import numpy as np\n",
    "from osgeo import gdal\n",
    "from datetime import datetime\n",
    "import time\n",
    "import os"
   ]
  },
  {
   "attachments": {},
   "cell_type": "markdown",
   "metadata": {},
   "source": [
    "# Operazioni di ETL sul dataset"
   ]
  },
  {
   "cell_type": "code",
   "execution_count": 4,
   "metadata": {},
   "outputs": [
    {
     "name": "stdout",
     "output_type": "stream",
     "text": [
      "Files and directories in ' ./content/data ' :\n",
      "['2017-01-01', '2017-01-04', '2017-01-14', '2017-01-24', '2017-01-31', '2017-02-03', '2017-02-10', '2017-02-13', '2017-02-20', '2017-02-23', '2017-03-02', '2017-03-05', '2017-03-12', '2017-03-15', '2017-03-22', '2017-03-25', '2017-04-01', '2017-04-04', '2017-04-11', '2017-04-14', '2017-04-21', '2017-04-24', '2017-05-01', '2017-05-04', '2017-05-11', '2017-05-14', '2017-05-21', '2017-05-24', '2017-05-31', '2017-06-03', '2017-06-10', '2017-06-13', '2017-06-20', '2017-06-23', '2017-06-30', '2017-07-03', '2017-07-08', '2017-07-10', '2017-07-13', '2017-07-15', '2017-07-18', '2017-07-20', '2017-07-23', '2017-07-25', '2017-07-28', '2017-07-30', '2018-11-05', '2018-11-12', '2018-11-15', '2018-11-22', '2018-11-25', '2018-12-02', '2018-12-05', '2018-12-12', '2018-12-15', '2018-12-22', '2018-12-25']\n",
      "(229, 302, 57)\n",
      "(229, 302, 57)\n",
      "(229, 302, 57)\n",
      "[  547   996   377   301  4281 11781  9432 11878 11652  9192  1628  7461\n",
      "  1172  1130  8149  1154  4267  1292  1461  1233  1389  2425   736   715\n",
      "  5355   798   381 10494   758    37  1715   539     1    81  7116   133\n",
      "   271     1    54  1117   262     1   158   223   246   107  1171  3464\n",
      "  5476  4569  8112  8133  2768   149 15499  2373  7116]\n"
     ]
    }
   ],
   "source": [
    "path = r\"./content/data\"\n",
    "\n",
    "dir_list =[x.split('.')[0] for x in os.listdir(path)]\n",
    "dir_list.sort(key=lambda date: datetime.strptime(date, \"%Y-%m-%d\"))\n",
    "print(\"Files and directories in '\", path, \"' :\")\n",
    " \n",
    "# prints all files\n",
    "print(dir_list)\n",
    "#\n",
    "band1 = []\n",
    "band2 = []\n",
    "band3 = []\n",
    "bandMatrix = []\n",
    "for file in dir_list:\n",
    "    tiff_file = r\"content\\data\\\\\"+file+\".tiff\"\n",
    "    dataset = gdal.Open(tiff_file)\n",
    "    for i in range(0,12):\n",
    "        try:\n",
    "            if(len(bandMatrix[i].shape)==2):\n",
    "                bandMatrix[i] = np.stack((bandMatrix[i],dataset.GetRasterBand(i+1).ReadAsArray()), axis=2)\n",
    "            else:\n",
    "                bandMatrix[i] = np.dstack((bandMatrix[i],dataset.GetRasterBand(i+1).ReadAsArray()))\n",
    "        except IndexError:\n",
    "            bandMatrix.append(dataset.GetRasterBand(i+1).ReadAsArray())\n",
    "\n",
    "print(bandMatrix[0].shape)\n",
    "print(bandMatrix[1].shape)\n",
    "print(bandMatrix[2].shape)\n",
    "#esempio: per estrarre il valore nel tempo del terreno nel 100,100 si ha:\n",
    "print(bandMatrix[0][100,100,:])"
   ]
  },
  {
   "attachments": {},
   "cell_type": "markdown",
   "metadata": {},
   "source": [
    "# Calcolo degli indici NDVI e NDRE"
   ]
  },
  {
   "cell_type": "code",
   "execution_count": 22,
   "metadata": {},
   "outputs": [
    {
     "name": "stdout",
     "output_type": "stream",
     "text": [
      "[[[0. 0. 0. ... 0. 0. 0.]\n",
      "  [0. 0. 0. ... 0. 0. 0.]\n",
      "  [0. 0. 0. ... 0. 0. 0.]\n",
      "  ...\n",
      "  [0. 0. 0. ... 0. 0. 0.]\n",
      "  [0. 0. 0. ... 0. 0. 0.]\n",
      "  [0. 0. 0. ... 0. 0. 0.]]\n",
      "\n",
      " [[0. 0. 0. ... 0. 0. 0.]\n",
      "  [0. 0. 0. ... 0. 0. 0.]\n",
      "  [0. 0. 0. ... 0. 0. 0.]\n",
      "  ...\n",
      "  [0. 0. 0. ... 0. 0. 0.]\n",
      "  [0. 0. 0. ... 0. 0. 0.]\n",
      "  [0. 0. 0. ... 0. 0. 0.]]\n",
      "\n",
      " [[0. 0. 0. ... 0. 0. 0.]\n",
      "  [0. 0. 0. ... 0. 0. 0.]\n",
      "  [0. 0. 0. ... 0. 0. 0.]\n",
      "  ...\n",
      "  [0. 0. 0. ... 0. 0. 0.]\n",
      "  [0. 0. 0. ... 0. 0. 0.]\n",
      "  [0. 0. 0. ... 0. 0. 0.]]\n",
      "\n",
      " ...\n",
      "\n",
      " [[0. 0. 0. ... 0. 0. 0.]\n",
      "  [0. 0. 0. ... 0. 0. 0.]\n",
      "  [0. 0. 0. ... 0. 0. 0.]\n",
      "  ...\n",
      "  [0. 0. 0. ... 0. 0. 0.]\n",
      "  [0. 0. 0. ... 0. 0. 0.]\n",
      "  [0. 0. 0. ... 0. 0. 0.]]\n",
      "\n",
      " [[0. 0. 0. ... 0. 0. 0.]\n",
      "  [0. 0. 0. ... 0. 0. 0.]\n",
      "  [0. 0. 0. ... 0. 0. 0.]\n",
      "  ...\n",
      "  [0. 0. 0. ... 0. 0. 0.]\n",
      "  [0. 0. 0. ... 0. 0. 0.]\n",
      "  [0. 0. 0. ... 0. 0. 0.]]\n",
      "\n",
      " [[0. 0. 0. ... 0. 0. 0.]\n",
      "  [0. 0. 0. ... 0. 0. 0.]\n",
      "  [0. 0. 0. ... 0. 0. 0.]\n",
      "  ...\n",
      "  [0. 0. 0. ... 0. 0. 0.]\n",
      "  [0. 0. 0. ... 0. 0. 0.]\n",
      "  [0. 0. 0. ... 0. 0. 0.]]]\n",
      "[[[0. 0. 0. ... 0. 0. 0.]\n",
      "  [0. 0. 0. ... 0. 0. 0.]\n",
      "  [0. 0. 0. ... 0. 0. 0.]\n",
      "  ...\n",
      "  [0. 0. 0. ... 0. 0. 0.]\n",
      "  [0. 0. 0. ... 0. 0. 0.]\n",
      "  [0. 0. 0. ... 0. 0. 0.]]\n",
      "\n",
      " [[0. 0. 0. ... 0. 0. 0.]\n",
      "  [0. 0. 0. ... 0. 0. 0.]\n",
      "  [0. 0. 0. ... 0. 0. 0.]\n",
      "  ...\n",
      "  [0. 0. 0. ... 0. 0. 0.]\n",
      "  [0. 0. 0. ... 0. 0. 0.]\n",
      "  [0. 0. 0. ... 0. 0. 0.]]\n",
      "\n",
      " [[0. 0. 0. ... 0. 0. 0.]\n",
      "  [0. 0. 0. ... 0. 0. 0.]\n",
      "  [0. 0. 0. ... 0. 0. 0.]\n",
      "  ...\n",
      "  [0. 0. 0. ... 0. 0. 0.]\n",
      "  [0. 0. 0. ... 0. 0. 0.]\n",
      "  [0. 0. 0. ... 0. 0. 0.]]\n",
      "\n",
      " ...\n",
      "\n",
      " [[0. 0. 0. ... 0. 0. 0.]\n",
      "  [0. 0. 0. ... 0. 0. 0.]\n",
      "  [0. 0. 0. ... 0. 0. 0.]\n",
      "  ...\n",
      "  [0. 0. 0. ... 0. 0. 0.]\n",
      "  [0. 0. 0. ... 0. 0. 0.]\n",
      "  [0. 0. 0. ... 0. 0. 0.]]\n",
      "\n",
      " [[0. 0. 0. ... 0. 0. 0.]\n",
      "  [0. 0. 0. ... 0. 0. 0.]\n",
      "  [0. 0. 0. ... 0. 0. 0.]\n",
      "  ...\n",
      "  [0. 0. 0. ... 0. 0. 0.]\n",
      "  [0. 0. 0. ... 0. 0. 0.]\n",
      "  [0. 0. 0. ... 0. 0. 0.]]\n",
      "\n",
      " [[0. 0. 0. ... 0. 0. 0.]\n",
      "  [0. 0. 0. ... 0. 0. 0.]\n",
      "  [0. 0. 0. ... 0. 0. 0.]\n",
      "  ...\n",
      "  [0. 0. 0. ... 0. 0. 0.]\n",
      "  [0. 0. 0. ... 0. 0. 0.]\n",
      "  [0. 0. 0. ... 0. 0. 0.]]]\n"
     ]
    },
    {
     "name": "stderr",
     "output_type": "stream",
     "text": [
      "C:\\Users\\pc\\AppData\\Local\\Temp\\ipykernel_16168\\1500366461.py:1: RuntimeWarning: invalid value encountered in divide\n",
      "  NDVI = np.divide(np.subtract(bandMatrix[11],bandMatrix[7]),np.add(bandMatrix[11],bandMatrix[7]))\n",
      "C:\\Users\\pc\\AppData\\Local\\Temp\\ipykernel_16168\\1500366461.py:4: RuntimeWarning: invalid value encountered in divide\n",
      "  NDRE = np.divide(np.subtract(bandMatrix[7],bandMatrix[4]),np.add(bandMatrix[7],bandMatrix[4]))\n"
     ]
    }
   ],
   "source": [
    "NDVI = np.divide(np.subtract(bandMatrix[11],bandMatrix[7]),np.add(bandMatrix[11],bandMatrix[7]))\n",
    "np.nan_to_num(NDVI,0)\n",
    "print(NDVI)\n",
    "NDRE = np.divide(np.subtract(bandMatrix[7],bandMatrix[4]),np.add(bandMatrix[7],bandMatrix[4]))\n",
    "np.nan_to_num(NDRE,0)\n",
    "print(NDRE)"
   ]
  }
 ],
 "metadata": {
  "kernelspec": {
   "display_name": "agrivision",
   "language": "python",
   "name": "python3"
  },
  "language_info": {
   "codemirror_mode": {
    "name": "ipython",
    "version": 3
   },
   "file_extension": ".py",
   "mimetype": "text/x-python",
   "name": "python",
   "nbconvert_exporter": "python",
   "pygments_lexer": "ipython3",
   "version": "3.8.15"
  },
  "orig_nbformat": 4,
  "vscode": {
   "interpreter": {
    "hash": "033a2480c22a6a7c8c0f850d957c0585f369c429c8c308b563cd4dfd4620b21f"
   }
  }
 },
 "nbformat": 4,
 "nbformat_minor": 2
}
