{
 "cells": [
  {
   "attachments": {},
   "cell_type": "markdown",
   "metadata": {},
   "source": [
    "# Librerie utilizzate"
   ]
  },
  {
   "cell_type": "code",
   "execution_count": 8,
   "metadata": {},
   "outputs": [],
   "source": [
    "from matplotlib import pyplot as plt\n",
    "\n",
    "import matplotlib.dates as md\n",
    "import numpy as np\n",
    "from osgeo import gdal\n",
    "from datetime import datetime\n",
    "import time\n",
    "import os\n",
    "from os import listdir\n",
    "from os.path import isfile, join,isdir\n",
    "import rasterio\n",
    "from rasterio import features,MemoryFile\n",
    "from rasterio.enums import Resampling\n",
    "import pprint\n",
    "import rasterio.mask\n",
    "import fiona"
   ]
  },
  {
   "attachments": {},
   "cell_type": "markdown",
   "metadata": {},
   "source": [
    "# Reorder scl files from directory"
   ]
  },
  {
   "cell_type": "code",
   "execution_count": 9,
   "metadata": {},
   "outputs": [
    {
     "name": "stdout",
     "output_type": "stream",
     "text": [
      "c:\\Users\\Leo\\Desktop\\AgriVision2022\n",
      "['2016', '2017']\n"
     ]
    }
   ],
   "source": [
    "import os\n",
    "from os import listdir\n",
    "from os.path import isfile, join,isdir\n",
    "import shutil\n",
    "\n",
    "#Extract all SCL files from subdirectory and put them all under one folder\n",
    "#original directory structure scl/year/month/day/0/R20m/SCL.tiff\n",
    "\n",
    "path = join(os.path.abspath(os.getcwd()),\"scl\")\n",
    "pathdest = join(os.path.abspath(os.getcwd()),\"sclOrdered\")\n",
    "onlyfolders = [f for f in listdir(path) if (isdir(join(path, f)))]\n",
    "\n",
    "\n",
    "for year in listdir(path):\n",
    "    if (isdir(join(path, year))):\n",
    "        for month in listdir(join(path,year)):\n",
    "            for day in listdir(join(path,year,month)):\n",
    "                file = join(path,year,month,day,\"0\",\"R20m\",\"SCL.jp2\")\n",
    "                month1 = month\n",
    "                day1 = day\n",
    "                if(len(month1)<2):\n",
    "                    month1 = \"0\"+month1\n",
    "                \n",
    "                if(len(day1)<2):\n",
    "                    day1 = \"0\"+day1\n",
    "\n",
    "                shutil.copy(file, join(pathdest,(year+\"-\"+month1+\"-\"+day1+\".jp2\")))\n",
    "        \n",
    "path = os.path.abspath(os.getcwd())\n",
    "print(path)\n",
    "print(onlyfolders)"
   ]
  },
  {
   "attachments": {},
   "cell_type": "markdown",
   "metadata": {},
   "source": [
    "# Scan and sort the name of files"
   ]
  },
  {
   "cell_type": "code",
   "execution_count": 10,
   "metadata": {},
   "outputs": [
    {
     "name": "stdout",
     "output_type": "stream",
     "text": [
      "Files and directories in ' c:\\Users\\Leo\\Desktop\\AgriVision2022\\content\\data ' :\n",
      "['2016-11-05', '2016-11-12', '2016-11-15', '2016-11-22', '2016-11-25', '2016-12-02', '2016-12-05', '2016-12-12', '2016-12-15', '2016-12-22', '2016-12-25', '2017-01-01', '2017-01-04', '2017-01-14', '2017-01-24', '2017-01-31', '2017-02-03', '2017-02-10', '2017-02-13', '2017-02-20', '2017-02-23', '2017-03-02', '2017-03-05', '2017-03-12', '2017-03-15', '2017-03-22', '2017-03-25', '2017-04-01', '2017-04-04', '2017-04-11', '2017-04-14', '2017-04-21', '2017-04-24', '2017-05-01', '2017-05-04', '2017-05-11', '2017-05-14', '2017-05-21', '2017-05-24', '2017-05-31', '2017-06-03', '2017-06-10', '2017-06-13', '2017-06-20', '2017-06-23', '2017-06-30', '2017-07-03', '2017-07-08', '2017-07-10', '2017-07-13', '2017-07-15', '2017-07-18', '2017-07-20', '2017-07-23', '2017-07-25', '2017-07-28', '2017-07-30']\n",
      "31\n",
      "57\n"
     ]
    }
   ],
   "source": [
    "img_path = join(os.path.abspath(os.getcwd()),\"content\",\"data\")\n",
    "scal_path = join(os.path.abspath(os.getcwd()),\"sclOrdered\")\n",
    "\n",
    "img_list =[x.split('.')[0] for x in os.listdir(img_path)]\n",
    "img_list.sort(key=lambda date: datetime.strptime(date, \"%Y-%m-%d\"))\n",
    "print(\"Files and directories in '\", img_path, \"' :\")\n",
    " \n",
    "# prints all files\n",
    "print(img_list)\n",
    "\n",
    "print(img_list.index('2017-04-21'))\n",
    "print(len(img_list))\n"
   ]
  },
  {
   "attachments": {},
   "cell_type": "markdown",
   "metadata": {},
   "source": [
    "# Refill the transform"
   ]
  },
  {
   "cell_type": "code",
   "execution_count": 18,
   "metadata": {},
   "outputs": [
    {
     "name": "stdout",
     "output_type": "stream",
     "text": [
      "no folder to remove, proceeds to create a new folder.\n"
     ]
    }
   ],
   "source": [
    "\n",
    "with rasterio.open(join(scal_path,img_list[30]+\".jp2\")) as referenceFile:\n",
    "    TransformData = referenceFile.transform\n",
    "CrsData = rasterio.open(join(scal_path,img_list[30]+\".jp2\")).crs\n",
    "\n",
    "targetPath = join(os.path.abspath(os.getcwd()),\"sclWriteTarget\")\n",
    "try:\n",
    "    shutil.rmtree(targetPath)\n",
    "    print(\"folder removed. proceeds to create a new folder.\")\n",
    "except:\n",
    "    print(\"no folder to remove, proceeds to create a new folder.\")\n",
    "finally:\n",
    "    os.makedirs(targetPath, exist_ok=True)\n",
    "\n",
    "for img in range(31,57):\n",
    "\n",
    "    dir = join(scal_path,img_list[img]+\".jp2\")\n",
    "    scl = rasterio.open(dir)\n",
    "    Data = scl.read(1)\n",
    "    outSclMeta = scl.meta\n",
    "    outSclMeta.update({\"driver\": \"GTiff\",\n",
    "                 \"height\": Data.shape[0],\n",
    "                 \"width\": Data.shape[1],\n",
    "                 \"transform\": TransformData,\n",
    "                 \"crs\":CrsData})\n",
    "    scl.close()\n",
    "    with rasterio.open(join(targetPath,img_list[img]+\".jp2\"), 'w', **outSclMeta) as dst:\n",
    "        dst.write_band(1, Data)\n",
    "    #re-copy to original destination\n",
    "    shutil.copy(join(targetPath,img_list[img]+\".jp2\"), join(scal_path,(img_list[img]+\".jp2\")))\n",
    "\n",
    "shutil.rmtree(targetPath)"
   ]
  },
  {
   "cell_type": "code",
   "execution_count": null,
   "metadata": {},
   "outputs": [],
   "source": []
  }
 ],
 "metadata": {
  "kernelspec": {
   "display_name": "Agrivision",
   "language": "python",
   "name": "python3"
  },
  "language_info": {
   "codemirror_mode": {
    "name": "ipython",
    "version": 3
   },
   "file_extension": ".py",
   "mimetype": "text/x-python",
   "name": "python",
   "nbconvert_exporter": "python",
   "pygments_lexer": "ipython3",
   "version": "3.8.15"
  },
  "orig_nbformat": 4,
  "vscode": {
   "interpreter": {
    "hash": "a6fd6293ccc705e158ec482904294ec7e16439ac8b2c7ba98f1fba253c109f1f"
   }
  }
 },
 "nbformat": 4,
 "nbformat_minor": 2
}
