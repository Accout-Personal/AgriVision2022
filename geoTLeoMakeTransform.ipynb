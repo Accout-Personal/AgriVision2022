{
 "cells": [
  {
   "attachments": {},
   "cell_type": "markdown",
   "metadata": {},
   "source": [
    "# Librerie utilizzate"
   ]
  },
  {
   "cell_type": "code",
   "execution_count": 4,
   "metadata": {},
   "outputs": [],
   "source": [
    "from matplotlib import pyplot as plt\n",
    "\n",
    "import matplotlib.dates as md\n",
    "import numpy as np\n",
    "from osgeo import gdal\n",
    "from datetime import datetime\n",
    "import time\n",
    "import os\n",
    "from os import listdir\n",
    "from os.path import isfile, join,isdir\n",
    "import rasterio\n",
    "from rasterio import features,MemoryFile\n",
    "from rasterio.enums import Resampling\n",
    "import pprint\n",
    "import rasterio.mask\n",
    "import fiona"
   ]
  },
  {
   "attachments": {},
   "cell_type": "markdown",
   "metadata": {},
   "source": [
    "# Scan and sort the name of files"
   ]
  },
  {
   "cell_type": "code",
   "execution_count": 5,
   "metadata": {},
   "outputs": [
    {
     "name": "stdout",
     "output_type": "stream",
     "text": [
      "Files and directories in ' c:\\Users\\Leo\\Desktop\\AgriVision2022\\bands\\content\\data ' :\n",
      "['2016-11-05', '2016-11-05', '2016-11-12', '2016-11-15', '2016-11-22', '2016-11-25', '2016-12-02', '2016-12-05', '2016-12-12', '2016-12-15', '2016-12-22', '2016-12-25', '2017-01-01', '2017-01-04', '2017-01-14', '2017-01-24', '2017-01-31', '2017-02-03', '2017-02-10', '2017-02-13', '2017-02-20', '2017-02-23', '2017-03-02', '2017-03-05', '2017-03-12', '2017-03-15', '2017-03-22', '2017-03-25', '2017-04-01', '2017-04-04', '2017-04-11', '2017-04-14', '2017-04-21', '2017-04-21', '2017-04-24', '2017-05-01', '2017-05-04', '2017-05-11', '2017-05-14', '2017-05-21', '2017-05-24', '2017-05-31', '2017-06-03', '2017-06-10', '2017-06-13', '2017-06-20', '2017-06-23', '2017-06-30', '2017-07-03', '2017-07-08', '2017-07-10', '2017-07-13', '2017-07-15', '2017-07-18', '2017-07-20', '2017-07-23', '2017-07-25', '2017-07-28', '2017-07-30']\n",
      "32\n",
      "59\n"
     ]
    }
   ],
   "source": [
    "img_path = join(os.path.abspath(os.getcwd()),\"bands\",\"content\",\"data\")\n",
    "scal_path = join(os.path.abspath(os.getcwd()),\"sclOrdered\")\n",
    "\n",
    "img_list =[x.split('.')[0] for x in os.listdir(img_path)]\n",
    "img_list.sort(key=lambda date: datetime.strptime(date, \"%Y-%m-%d\"))\n",
    "print(\"Files and directories in '\", img_path, \"' :\")\n",
    " \n",
    "# prints all files\n",
    "print(img_list)\n",
    "\n",
    "print(img_list.index('2017-04-21'))\n",
    "print(len(img_list))\n"
   ]
  },
  {
   "attachments": {},
   "cell_type": "markdown",
   "metadata": {},
   "source": [
    "# Refill the transform"
   ]
  },
  {
   "cell_type": "code",
   "execution_count": 10,
   "metadata": {},
   "outputs": [
    {
     "name": "stderr",
     "output_type": "stream",
     "text": [
      "c:\\Users\\Leo\\.conda\\envs\\Agrivision\\lib\\site-packages\\rasterio\\__init__.py:332: NotGeoreferencedWarning: Dataset has no geotransform, gcps, or rpcs. The identity matrix will be returned.\n",
      "  dataset = DatasetReader(path, driver=driver, sharing=sharing, **kwargs)\n"
     ]
    }
   ],
   "source": [
    "\n",
    "with rasterio.open(join(scal_path,img_list[31]+\".jp2\")) as referenceFile:\n",
    "    TransformData = referenceFile.transform\n",
    "CrsData = rasterio.open(join(scal_path,img_list[31]+\".jp2\")).crs\n",
    "targetPath = join(os.path.abspath(os.getcwd()),\"sclWriteTarget\")\n",
    "for img in range(32,59):\n",
    "\n",
    "    dir = join(scal_path,img_list[img]+\".jp2\")\n",
    "    scl = rasterio.open(dir)\n",
    "    Data = scl.read(1)\n",
    "    outSclMeta = scl.meta\n",
    "    outSclMeta.update({\"driver\": \"GTiff\",\n",
    "                 \"height\": Data.shape[0],\n",
    "                 \"width\": Data.shape[1],\n",
    "                 \"transform\": TransformData,\n",
    "                 \"crs\":CrsData})\n",
    "    scl.close()\n",
    "    with rasterio.open(join(targetPath,img_list[img]+\".jp2\"), 'w', **outSclMeta) as dst:\n",
    "        dst.write_band(1, Data)\n",
    "\n"
   ]
  }
 ],
 "metadata": {
  "kernelspec": {
   "display_name": "Agrivision",
   "language": "python",
   "name": "python3"
  },
  "language_info": {
   "codemirror_mode": {
    "name": "ipython",
    "version": 3
   },
   "file_extension": ".py",
   "mimetype": "text/x-python",
   "name": "python",
   "nbconvert_exporter": "python",
   "pygments_lexer": "ipython3",
   "version": "3.8.15"
  },
  "orig_nbformat": 4,
  "vscode": {
   "interpreter": {
    "hash": "a6fd6293ccc705e158ec482904294ec7e16439ac8b2c7ba98f1fba253c109f1f"
   }
  }
 },
 "nbformat": 4,
 "nbformat_minor": 2
}
