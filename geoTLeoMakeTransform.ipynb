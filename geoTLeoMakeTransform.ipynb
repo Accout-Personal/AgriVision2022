{
 "cells": [
  {
   "attachments": {},
   "cell_type": "markdown",
   "metadata": {},
   "source": [
    "# Librerie utilizzate"
   ]
  },
  {
   "cell_type": "code",
   "execution_count": 8,
   "metadata": {},
   "outputs": [],
   "source": [
    "from matplotlib import pyplot as plt\n",
    "\n",
    "import matplotlib.dates as md\n",
    "import numpy as np\n",
    "from osgeo import gdal\n",
    "from datetime import datetime\n",
    "import time\n",
    "import os\n",
    "from os import listdir\n",
    "from os.path import isfile, join,isdir\n",
    "import rasterio\n",
    "from rasterio import features,MemoryFile\n",
    "from rasterio.enums import Resampling\n",
    "import pprint\n",
    "import rasterio.mask\n",
    "import fiona"
   ]
  },
  {
   "attachments": {},
   "cell_type": "markdown",
   "metadata": {},
   "source": [
    "# Scan and sort the name of files"
   ]
  },
  {
   "cell_type": "code",
   "execution_count": 9,
   "metadata": {},
   "outputs": [
    {
     "name": "stdout",
     "output_type": "stream",
     "text": [
      "Files and directories in ' c:\\Users\\pc\\Desktop\\Università\\Computer vision and Deep Learning\\Progetto\\AgriVision2022\\content2\\data ' :\n",
      "['2016-11-05', '2016-11-12', '2016-11-15', '2016-11-22', '2016-11-25', '2016-12-02', '2016-12-05', '2016-12-12', '2016-12-15', '2016-12-22', '2016-12-25', '2017-01-01', '2017-01-04', '2017-01-14', '2017-01-24', '2017-01-31', '2017-02-03', '2017-02-10', '2017-02-13', '2017-02-20', '2017-02-23', '2017-03-02', '2017-03-05', '2017-03-12', '2017-03-15', '2017-03-22', '2017-03-25', '2017-04-01', '2017-04-04', '2017-04-11', '2017-04-14', '2017-04-21', '2017-04-24', '2017-05-01', '2017-05-04', '2017-05-11', '2017-05-14', '2017-05-21', '2017-05-24', '2017-05-31', '2017-06-03', '2017-06-10', '2017-06-13', '2017-06-20', '2017-06-23', '2017-06-30', '2017-07-03', '2017-07-08', '2017-07-10', '2017-07-13', '2017-07-15', '2017-07-18', '2017-07-20', '2017-07-23', '2017-07-25', '2017-07-28', '2017-07-30']\n",
      "31\n",
      "57\n"
     ]
    }
   ],
   "source": [
    "img_path = join(os.path.abspath(os.getcwd()),\"content2\",\"data\")\n",
    "scal_path = join(os.path.abspath(os.getcwd()),\"sclOrdered\")\n",
    "\n",
    "img_list =[x.split('.')[0] for x in os.listdir(img_path)]\n",
    "img_list.sort(key=lambda date: datetime.strptime(date, \"%Y-%m-%d\"))\n",
    "print(\"Files and directories in '\", img_path, \"' :\")\n",
    " \n",
    "# prints all files\n",
    "print(img_list)\n",
    "\n",
    "print(img_list.index('2017-04-21'))\n",
    "print(len(img_list))\n"
   ]
  },
  {
   "attachments": {},
   "cell_type": "markdown",
   "metadata": {},
   "source": [
    "# Refill the transform"
   ]
  },
  {
   "cell_type": "code",
   "execution_count": 10,
   "metadata": {},
   "outputs": [],
   "source": [
    "\n",
    "with rasterio.open(join(scal_path,img_list[30]+\".jp2\")) as referenceFile:\n",
    "    TransformData = referenceFile.transform\n",
    "CrsData = rasterio.open(join(scal_path,img_list[30]+\".jp2\")).crs\n",
    "targetPath = join(os.path.abspath(os.getcwd()),\"sclWriteTarget\")\n",
    "for img in range(31,57):\n",
    "\n",
    "    dir = join(scal_path,img_list[img]+\".jp2\")\n",
    "    scl = rasterio.open(dir)\n",
    "    Data = scl.read(1)\n",
    "    outSclMeta = scl.meta\n",
    "    outSclMeta.update({\"driver\": \"GTiff\",\n",
    "                 \"height\": Data.shape[0],\n",
    "                 \"width\": Data.shape[1],\n",
    "                 \"transform\": TransformData,\n",
    "                 \"crs\":CrsData})\n",
    "    scl.close()\n",
    "    with rasterio.open(join(targetPath,img_list[img]+\".jp2\"), 'w', **outSclMeta) as dst:\n",
    "        dst.write_band(1, Data)\n",
    "\n"
   ]
  }
 ],
 "metadata": {
  "kernelspec": {
   "display_name": "agrivision",
   "language": "python",
   "name": "python3"
  },
  "language_info": {
   "codemirror_mode": {
    "name": "ipython",
    "version": 3
   },
   "file_extension": ".py",
   "mimetype": "text/x-python",
   "name": "python",
   "nbconvert_exporter": "python",
   "pygments_lexer": "ipython3",
   "version": "3.8.15"
  },
  "orig_nbformat": 4,
  "vscode": {
   "interpreter": {
    "hash": "033a2480c22a6a7c8c0f850d957c0585f369c429c8c308b563cd4dfd4620b21f"
   }
  }
 },
 "nbformat": 4,
 "nbformat_minor": 2
}
