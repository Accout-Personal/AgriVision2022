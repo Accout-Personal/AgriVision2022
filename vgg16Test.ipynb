{
 "cells": [
  {
   "cell_type": "code",
   "execution_count": 38,
   "metadata": {},
   "outputs": [],
   "source": [
    "# Import Library\n",
    "%reset\n",
    "import numpy as np \n",
    "import pandas as pd\n",
    "import matplotlib.pyplot as plt\n",
    "from glob import glob\n",
    "from keras.preprocessing.image import ImageDataGenerator #, img_to_array, \n",
    "from tensorflow.keras.utils import img_to_array, load_img\n",
    "from keras.models import Sequential\n",
    "from keras.layers import Dense\n",
    "from keras.applications.vgg16 import VGG16\n",
    "from keras.applications.vgg19 import VGG19\n",
    "import os\n",
    "import pickle\n",
    "import warnings\n",
    "warnings.filterwarnings(\"ignore\")\n",
    "from PIL import Image"
   ]
  },
  {
   "attachments": {},
   "cell_type": "markdown",
   "metadata": {},
   "source": [
    "# Prepare and Review Dataset"
   ]
  },
  {
   "cell_type": "code",
   "execution_count": 39,
   "metadata": {},
   "outputs": [],
   "source": [
    "# Test and Train path\n",
    "with open('newResa3.pickle', 'rb') as handle:\n",
    "    newResa3 = pickle.load(handle)\n",
    "\n",
    "with open('AllPixelBand3.pickle', 'rb') as handle:\n",
    "    allPixel3 = pickle.load(handle)"
   ]
  },
  {
   "attachments": {},
   "cell_type": "markdown",
   "metadata": {},
   "source": [
    "# Costruisco le immagini"
   ]
  },
  {
   "cell_type": "code",
   "execution_count": 40,
   "metadata": {},
   "outputs": [
    {
     "name": "stdout",
     "output_type": "stream",
     "text": [
      "[ 373.4    0.  5764.5   77.2   72.  7891.4 5227.  5149.8 6322.4 6056.8]\n"
     ]
    },
    {
     "data": {
      "image/png": "[encoded data removed]",
      "text/plain": [
       "<Figure size 640x480 with 1 Axes>"
      ]
     },
     "metadata": {},
     "output_type": "display_data"
    }
   ],
   "source": [
    "# Test and Train path\n",
    "train_path = \"dataset\\\\train\\\\\"\n",
    "test_path = \"dataset\\\\test\\\\\"\n",
    "\n",
    "max = allPixel3.max()\n",
    "min = allPixel3.min()\n",
    "training_set = []\n",
    "test_set = []\n",
    "choice = np.random.choice(range(allPixel3.shape[0]), size=(790,), replace=False)\n",
    "ind = np.zeros(allPixel3.shape[0], dtype=bool)\n",
    "ind[choice] = True\n",
    "rest = ~ind\n",
    "training_setX = allPixel3[ind,:,:]\n",
    "training_setY = newResa3[ind]\n",
    "training_setX = np.array(training_setX)\n",
    "training_setY = np.array(training_setY)\n",
    "\n",
    "test_setX = allPixel3[rest,:,:]\n",
    "test_setY = newResa3[rest]\n",
    "test_setX = np.array(test_setX)\n",
    "test_setY = np.array(test_setY)\n",
    "\n",
    "print(training_setY[10:20])\n",
    "plt.imshow(np.transpose(training_setX[0,:,:]))\n",
    "\n",
    "#Train Set\n",
    "for a in range(0,training_setX.shape[0]):\n",
    "    img = Image.fromarray(training_setX[a,:,:])\n",
    "    img.save(train_path+str(a)+'.tiff')\n",
    "\n",
    "#Test Set\n",
    "for a in range(0,test_setX.shape[0]):\n",
    "    img = Image.fromarray(test_setX[a,:,:])\n",
    "    img.save(test_path+str(a)+'.tiff')\n"
   ]
  },
  {
   "cell_type": "code",
   "execution_count": 41,
   "metadata": {},
   "outputs": [
    {
     "name": "stdout",
     "output_type": "stream",
     "text": [
      "       id    target\n",
      "0  0.tiff  0.122000\n",
      "1  1.tiff  0.201148\n",
      "2  2.tiff  0.198501\n",
      "3  3.tiff  0.196035\n",
      "4  4.tiff  0.003445\n",
      "Found 790 validated image filenames.\n",
      "Found 789 validated image filenames.\n"
     ]
    }
   ],
   "source": [
    "\n",
    "\n",
    "# Costruiamo un dataframe Train\n",
    "dFTrain = pd.DataFrame(columns=['id','target'])\n",
    "dFTrain['id'] = [str(x)+\".tiff\" for x in list(range(0,training_setX.shape[0]))]\n",
    "dFTrain['target'] = training_setY/training_setY.max()\n",
    "print(dFTrain.head())\n",
    "\n",
    "# Costruiamo un dataframe Test\n",
    "dFTest = pd.DataFrame(columns=['id','target'])\n",
    "dFTest['id'] = [str(x)+\".tiff\" for x in list(range(0,test_setX.shape[0]))]\n",
    "dFTest['target'] = test_setY/test_setY.max()\n",
    "\n",
    "# Prepare the dataset\n",
    "#Train dataset\n",
    "train_data = ImageDataGenerator().flow_from_dataframe(dataframe=dFTrain, target_size = (32,32),\n",
    "                                                      directory=train_path,\n",
    "                                                      x_col=\"id\",\n",
    "                                                      y_col=\"target\",\n",
    "                                                      class_mode=\"other\")\n",
    "\n",
    "#Test Dataset\n",
    "test_data = ImageDataGenerator().flow_from_dataframe(dataframe=dFTest, target_size = (32,32),\n",
    "                                                      directory=test_path,\n",
    "                                                      x_col=\"id\",\n",
    "                                                      y_col=\"target\",\n",
    "                                                      class_mode=\"other\")"
   ]
  },
  {
   "attachments": {},
   "cell_type": "markdown",
   "metadata": {},
   "source": [
    "# Creazione del modello di Vgg16"
   ]
  },
  {
   "cell_type": "code",
   "execution_count": 42,
   "metadata": {},
   "outputs": [],
   "source": [
    "# Import model\n",
    "vgg16 = VGG16(input_shape=(32,32,3),include_top=False)\n",
    "\n",
    "# Import model\n",
    "#vgg16 = VGG16()"
   ]
  },
  {
   "cell_type": "code",
   "execution_count": 43,
   "metadata": {},
   "outputs": [
    {
     "name": "stdout",
     "output_type": "stream",
     "text": [
      "<keras.engine.input_layer.InputLayer object at 0x000001A7257B0EE0>\n",
      "<keras.layers.convolutional.conv2d.Conv2D object at 0x000001A72462EF40>\n",
      "<keras.layers.convolutional.conv2d.Conv2D object at 0x000001A724639B80>\n",
      "<keras.layers.pooling.max_pooling2d.MaxPooling2D object at 0x000001A724639910>\n",
      "<keras.layers.convolutional.conv2d.Conv2D object at 0x000001A724C09850>\n",
      "<keras.layers.convolutional.conv2d.Conv2D object at 0x000001A7257E6550>\n",
      "<keras.layers.pooling.max_pooling2d.MaxPooling2D object at 0x000001A7255D8580>\n",
      "<keras.layers.convolutional.conv2d.Conv2D object at 0x000001A7255D8BB0>\n",
      "<keras.layers.convolutional.conv2d.Conv2D object at 0x000001A7255D89D0>\n",
      "<keras.layers.convolutional.conv2d.Conv2D object at 0x000001A724750E80>\n",
      "<keras.layers.pooling.max_pooling2d.MaxPooling2D object at 0x000001A724639760>\n",
      "<keras.layers.convolutional.conv2d.Conv2D object at 0x000001A724750460>\n",
      "<keras.layers.convolutional.conv2d.Conv2D object at 0x000001A7247506A0>\n",
      "<keras.layers.convolutional.conv2d.Conv2D object at 0x000001A724748190>\n",
      "<keras.layers.pooling.max_pooling2d.MaxPooling2D object at 0x000001A724746250>\n",
      "<keras.layers.convolutional.conv2d.Conv2D object at 0x000001A724748340>\n",
      "<keras.layers.convolutional.conv2d.Conv2D object at 0x000001A7258094F0>\n",
      "<keras.layers.convolutional.conv2d.Conv2D object at 0x000001A72475AEE0>\n",
      "<keras.layers.pooling.max_pooling2d.MaxPooling2D object at 0x000001A724760F70>\n"
     ]
    }
   ],
   "source": [
    "# layers of vgg16\n",
    "vgg16_layer_list = vgg16.layers\n",
    "for i in vgg16_layer_list:\n",
    "    print(i)"
   ]
  },
  {
   "cell_type": "code",
   "execution_count": 44,
   "metadata": {},
   "outputs": [],
   "source": [
    "# add the layers of vgg16 in my created model.\n",
    "vgg16Model = Sequential()\n",
    "for i in range(len(vgg16_layer_list)-1):\n",
    "    vgg16Model.add(vgg16_layer_list[i])"
   ]
  },
  {
   "cell_type": "code",
   "execution_count": 45,
   "metadata": {},
   "outputs": [],
   "source": [
    "# Close the layers of vgg16\n",
    "for layers in vgg16Model.layers:\n",
    "    layers.trainable = False"
   ]
  },
  {
   "cell_type": "code",
   "execution_count": 46,
   "metadata": {},
   "outputs": [],
   "source": [
    "# Last layer\n",
    "#vgg16Model.add(Dense(units=1))\n",
    "\n",
    "vgg16Model.add(Dense(units=1))"
   ]
  },
  {
   "cell_type": "code",
   "execution_count": 47,
   "metadata": {},
   "outputs": [
    {
     "name": "stdout",
     "output_type": "stream",
     "text": [
      "Model: \"sequential_2\"\n",
      "_________________________________________________________________\n",
      " Layer (type)                Output Shape              Param #   \n",
      "=================================================================\n",
      " block1_conv1 (Conv2D)       (None, 32, 32, 64)        1792      \n",
      "                                                                 \n",
      " block1_conv2 (Conv2D)       (None, 32, 32, 64)        36928     \n",
      "                                                                 \n",
      " block1_pool (MaxPooling2D)  (None, 16, 16, 64)        0         \n",
      "                                                                 \n",
      " block2_conv1 (Conv2D)       (None, 16, 16, 128)       73856     \n",
      "                                                                 \n",
      " block2_conv2 (Conv2D)       (None, 16, 16, 128)       147584    \n",
      "                                                                 \n",
      " block2_pool (MaxPooling2D)  (None, 8, 8, 128)         0         \n",
      "                                                                 \n",
      " block3_conv1 (Conv2D)       (None, 8, 8, 256)         295168    \n",
      "                                                                 \n",
      " block3_conv2 (Conv2D)       (None, 8, 8, 256)         590080    \n",
      "                                                                 \n",
      " block3_conv3 (Conv2D)       (None, 8, 8, 256)         590080    \n",
      "                                                                 \n",
      " block3_pool (MaxPooling2D)  (None, 4, 4, 256)         0         \n",
      "                                                                 \n",
      " block4_conv1 (Conv2D)       (None, 4, 4, 512)         1180160   \n",
      "                                                                 \n",
      " block4_conv2 (Conv2D)       (None, 4, 4, 512)         2359808   \n",
      "                                                                 \n",
      " block4_conv3 (Conv2D)       (None, 4, 4, 512)         2359808   \n",
      "                                                                 \n",
      " block4_pool (MaxPooling2D)  (None, 2, 2, 512)         0         \n",
      "                                                                 \n",
      " block5_conv1 (Conv2D)       (None, 2, 2, 512)         2359808   \n",
      "                                                                 \n",
      " block5_conv2 (Conv2D)       (None, 2, 2, 512)         2359808   \n",
      "                                                                 \n",
      " block5_conv3 (Conv2D)       (None, 2, 2, 512)         2359808   \n",
      "                                                                 \n",
      " dense_2 (Dense)             (None, 2, 2, 1)           513       \n",
      "                                                                 \n",
      "=================================================================\n",
      "Total params: 14,715,201\n",
      "Trainable params: 513\n",
      "Non-trainable params: 14,714,688\n",
      "_________________________________________________________________\n"
     ]
    }
   ],
   "source": [
    "# After I added last layer in created model.\n",
    "vgg16Model.summary()"
   ]
  },
  {
   "cell_type": "code",
   "execution_count": 48,
   "metadata": {},
   "outputs": [],
   "source": [
    "# I create compile part.\n",
    "vgg16Model.compile(loss = \"mean_squared_error\",\n",
    "             optimizer = \"rmsprop\",\n",
    "             metrics = [\"mse\",\"mae\",\"accuracy\"])"
   ]
  },
  {
   "attachments": {},
   "cell_type": "markdown",
   "metadata": {},
   "source": [
    "# Training Model "
   ]
  },
  {
   "cell_type": "code",
   "execution_count": 49,
   "metadata": {},
   "outputs": [
    {
     "name": "stdout",
     "output_type": "stream",
     "text": [
      "Epoch 1/10\n",
      "25/25 [==============================] - 5s 176ms/step - loss: 0.0229 - mse: 0.0229 - mae: 0.1010 - accuracy: 0.0139 - val_loss: 0.0123 - val_mse: 0.0123 - val_mae: 0.0740 - val_accuracy: 0.0089\n",
      "Epoch 2/10\n",
      "25/25 [==============================] - 4s 160ms/step - loss: 0.0164 - mse: 0.0164 - mae: 0.0750 - accuracy: 0.0139 - val_loss: 0.0101 - val_mse: 0.0101 - val_mae: 0.0612 - val_accuracy: 0.0089\n",
      "Epoch 3/10\n",
      "25/25 [==============================] - 4s 157ms/step - loss: 0.0160 - mse: 0.0160 - mae: 0.0730 - accuracy: 0.0139 - val_loss: 0.0148 - val_mse: 0.0148 - val_mae: 0.0885 - val_accuracy: 0.0089\n",
      "Epoch 4/10\n",
      "25/25 [==============================] - 4s 157ms/step - loss: 0.0157 - mse: 0.0157 - mae: 0.0716 - accuracy: 0.0139 - val_loss: 0.0114 - val_mse: 0.0114 - val_mae: 0.0690 - val_accuracy: 0.0089\n",
      "Epoch 5/10\n",
      "25/25 [==============================] - 4s 156ms/step - loss: 0.0155 - mse: 0.0155 - mae: 0.0694 - accuracy: 0.0139 - val_loss: 0.0092 - val_mse: 0.0092 - val_mae: 0.0548 - val_accuracy: 0.0089\n",
      "Epoch 6/10\n",
      "25/25 [==============================] - 4s 159ms/step - loss: 0.0151 - mse: 0.0151 - mae: 0.0671 - accuracy: 0.0139 - val_loss: 0.0102 - val_mse: 0.0102 - val_mae: 0.0608 - val_accuracy: 0.0089\n",
      "Epoch 7/10\n",
      "25/25 [==============================] - 4s 162ms/step - loss: 0.0152 - mse: 0.0152 - mae: 0.0694 - accuracy: 0.0139 - val_loss: 0.0104 - val_mse: 0.0104 - val_mae: 0.0654 - val_accuracy: 0.0089\n",
      "Epoch 8/10\n",
      "25/25 [==============================] - 4s 165ms/step - loss: 0.0153 - mse: 0.0153 - mae: 0.0687 - accuracy: 0.0139 - val_loss: 0.0169 - val_mse: 0.0169 - val_mae: 0.1025 - val_accuracy: 0.0089\n",
      "Epoch 9/10\n",
      "25/25 [==============================] - 4s 165ms/step - loss: 0.0149 - mse: 0.0149 - mae: 0.0678 - accuracy: 0.0139 - val_loss: 0.0089 - val_mse: 0.0089 - val_mae: 0.0527 - val_accuracy: 0.0089\n",
      "Epoch 10/10\n",
      "25/25 [==============================] - 4s 152ms/step - loss: 0.0155 - mse: 0.0155 - mae: 0.0674 - accuracy: 0.0139 - val_loss: 0.0092 - val_mse: 0.0092 - val_mae: 0.0540 - val_accuracy: 0.0089\n"
     ]
    }
   ],
   "source": [
    "# Traning with model\n",
    "batch_size = 32\n",
    "\n",
    "hist_vgg16 = vgg16Model.fit(train_data, \n",
    "                                epochs = 10,\n",
    "                                validation_data=test_data\n",
    "                                )"
   ]
  },
  {
   "cell_type": "code",
   "execution_count": 50,
   "metadata": {},
   "outputs": [],
   "source": [
    "# Save the weights of model\n",
    "vgg16Model.save_weights(\"previsioneResa.h5\")"
   ]
  },
  {
   "attachments": {},
   "cell_type": "markdown",
   "metadata": {},
   "source": [
    "# Andiamo a visualizzare i risultati della rete"
   ]
  },
  {
   "cell_type": "code",
   "execution_count": 51,
   "metadata": {},
   "outputs": [
    {
     "data": {
      "image/png": "[encoded data removed]",
      "text/plain": [
       "<Figure size 640x480 with 1 Axes>"
      ]
     },
     "metadata": {},
     "output_type": "display_data"
    }
   ],
   "source": [
    "# Loss and Validation Loss\n",
    "plt.plot(hist_vgg16.history[\"loss\"], label = \"training loss\")\n",
    "#plt.plot(hist_vgg16.history[\"val_loss\"], label = \"validation loss\")\n",
    "plt.legend()\n",
    "plt.show()"
   ]
  },
  {
   "cell_type": "code",
   "execution_count": 52,
   "metadata": {},
   "outputs": [
    {
     "data": {
      "image/png": "[encoded data removed]",
      "text/plain": [
       "<Figure size 640x480 with 1 Axes>"
      ]
     },
     "metadata": {},
     "output_type": "display_data"
    }
   ],
   "source": [
    "# Accuracy and Validation Accuracy\n",
    "plt.plot(hist_vgg16.history[\"accuracy\"], label = \"accuracy\")\n",
    "plt.plot(hist_vgg16.history[\"val_accuracy\"], label = \"validation accuracy\")\n",
    "plt.legend()\n",
    "plt.show()"
   ]
  },
  {
   "attachments": {},
   "cell_type": "markdown",
   "metadata": {},
   "source": [
    "# Salviamo e carichiamo i risultati"
   ]
  },
  {
   "cell_type": "code",
   "execution_count": 53,
   "metadata": {},
   "outputs": [],
   "source": [
    "import json, codecs\n",
    "with open(\"deneme.json\",\"w\") as f:\n",
    "    json.dump(hist_vgg16.history, f)"
   ]
  },
  {
   "cell_type": "code",
   "execution_count": 54,
   "metadata": {},
   "outputs": [],
   "source": [
    "with codecs.open(\"./deneme.json\",\"r\", encoding = \"utf-8\") as f:\n",
    "    load_result = json.loads(f.read())"
   ]
  },
  {
   "cell_type": "code",
   "execution_count": 55,
   "metadata": {},
   "outputs": [
    {
     "data": {
      "text/plain": [
       "{'loss': [0.022938000038266182,\n",
       "  0.01644052192568779,\n",
       "  0.01597210206091404,\n",
       "  0.01571747660636902,\n",
       "  0.015525237657129765,\n",
       "  0.015128458850085735,\n",
       "  0.015222406014800072,\n",
       "  0.015336986631155014,\n",
       "  0.014946887269616127,\n",
       "  0.015471967868506908],\n",
       " 'mse': [0.022938000038266182,\n",
       "  0.01644052192568779,\n",
       "  0.01597210206091404,\n",
       "  0.01571747660636902,\n",
       "  0.015525237657129765,\n",
       "  0.015128458850085735,\n",
       "  0.015222406014800072,\n",
       "  0.015336986631155014,\n",
       "  0.014946887269616127,\n",
       "  0.015471967868506908],\n",
       " 'mae': [0.10096035897731781,\n",
       "  0.07502230256795883,\n",
       "  0.07301010191440582,\n",
       "  0.07164958119392395,\n",
       "  0.06939570605754852,\n",
       "  0.06705830991268158,\n",
       "  0.06942993402481079,\n",
       "  0.06868299096822739,\n",
       "  0.06776731461286545,\n",
       "  0.06736220419406891],\n",
       " 'accuracy': [0.01391416136175394,\n",
       "  0.013924051076173782,\n",
       "  0.013924051076173782,\n",
       "  0.013924051076173782,\n",
       "  0.013924051076173782,\n",
       "  0.013924051076173782,\n",
       "  0.013924051076173782,\n",
       "  0.013924051076173782,\n",
       "  0.013924051076173782,\n",
       "  0.013924051076173782],\n",
       " 'val_loss': [0.012341983616352081,\n",
       "  0.010074274614453316,\n",
       "  0.014761493541300297,\n",
       "  0.011403372511267662,\n",
       "  0.009180719032883644,\n",
       "  0.010191981680691242,\n",
       "  0.01043082308024168,\n",
       "  0.016911581158638,\n",
       "  0.008946247398853302,\n",
       "  0.009227911941707134],\n",
       " 'val_mse': [0.012341983616352081,\n",
       "  0.010074274614453316,\n",
       "  0.014761493541300297,\n",
       "  0.011403372511267662,\n",
       "  0.009180719032883644,\n",
       "  0.010191981680691242,\n",
       "  0.01043082308024168,\n",
       "  0.016911581158638,\n",
       "  0.008946247398853302,\n",
       "  0.009227911941707134],\n",
       " 'val_mae': [0.07397860288619995,\n",
       "  0.06123879924416542,\n",
       "  0.08853516727685928,\n",
       "  0.06899377703666687,\n",
       "  0.05479494854807854,\n",
       "  0.06083138287067413,\n",
       "  0.06544571369886398,\n",
       "  0.10248225182294846,\n",
       "  0.052728794515132904,\n",
       "  0.05403045937418938],\n",
       " 'val_accuracy': [0.008871990256011486,\n",
       "  0.008871990256011486,\n",
       "  0.008871990256011486,\n",
       "  0.008871990256011486,\n",
       "  0.008871990256011486,\n",
       "  0.008871990256011486,\n",
       "  0.008871990256011486,\n",
       "  0.008871990256011486,\n",
       "  0.008871990256011486,\n",
       "  0.008871990256011486]}"
      ]
     },
     "execution_count": 55,
     "metadata": {},
     "output_type": "execute_result"
    }
   ],
   "source": [
    "load_result"
   ]
  },
  {
   "cell_type": "code",
   "execution_count": 56,
   "metadata": {},
   "outputs": [
    {
     "data": {
      "image/png": "[encoded data removed]",
      "text/plain": [
       "<Figure size 640x480 with 1 Axes>"
      ]
     },
     "metadata": {},
     "output_type": "display_data"
    }
   ],
   "source": [
    "# Loss And Validation Loss\n",
    "plt.plot(load_result[\"loss\"], label = \"training loss\")\n",
    "plt.plot(load_result[\"val_loss\"], label = \"validation loss\")\n",
    "plt.legend()\n",
    "plt.show()"
   ]
  },
  {
   "cell_type": "code",
   "execution_count": 57,
   "metadata": {},
   "outputs": [
    {
     "data": {
      "image/png": "[encoded data removed]",
      "text/plain": [
       "<Figure size 640x480 with 1 Axes>"
      ]
     },
     "metadata": {},
     "output_type": "display_data"
    }
   ],
   "source": [
    "plt.plot(load_result[\"accuracy\"], label = \"accuracy\")\n",
    "plt.plot(load_result[\"val_accuracy\"], label = \"validation accuracy\")\n",
    "plt.legend()\n",
    "plt.show()"
   ]
  },
  {
   "attachments": {},
   "cell_type": "markdown",
   "metadata": {},
   "source": [
    "# Vgg19"
   ]
  },
  {
   "cell_type": "code",
   "execution_count": 71,
   "metadata": {},
   "outputs": [
    {
     "name": "stdout",
     "output_type": "stream",
     "text": [
      "Downloading data from https://storage.googleapis.com/tensorflow/keras-applications/vgg19/vgg19_weights_tf_dim_ordering_tf_kernels_notop.h5\n",
      "80134624/80134624 [==============================] - 3s 0us/step\n"
     ]
    }
   ],
   "source": [
    "# Import VGG19 model\n",
    "vgg19 = VGG19(input_shape=(32,32,3),include_top=False)"
   ]
  },
  {
   "cell_type": "code",
   "execution_count": 72,
   "metadata": {},
   "outputs": [
    {
     "name": "stdout",
     "output_type": "stream",
     "text": [
      "Model: \"vgg19\"\n",
      "_________________________________________________________________\n",
      " Layer (type)                Output Shape              Param #   \n",
      "=================================================================\n",
      " input_5 (InputLayer)        [(None, 32, 32, 3)]       0         \n",
      "                                                                 \n",
      " block1_conv1 (Conv2D)       (None, 32, 32, 64)        1792      \n",
      "                                                                 \n",
      " block1_conv2 (Conv2D)       (None, 32, 32, 64)        36928     \n",
      "                                                                 \n",
      " block1_pool (MaxPooling2D)  (None, 16, 16, 64)        0         \n",
      "                                                                 \n",
      " block2_conv1 (Conv2D)       (None, 16, 16, 128)       73856     \n",
      "                                                                 \n",
      " block2_conv2 (Conv2D)       (None, 16, 16, 128)       147584    \n",
      "                                                                 \n",
      " block2_pool (MaxPooling2D)  (None, 8, 8, 128)         0         \n",
      "                                                                 \n",
      " block3_conv1 (Conv2D)       (None, 8, 8, 256)         295168    \n",
      "                                                                 \n",
      " block3_conv2 (Conv2D)       (None, 8, 8, 256)         590080    \n",
      "                                                                 \n",
      " block3_conv3 (Conv2D)       (None, 8, 8, 256)         590080    \n",
      "                                                                 \n",
      " block3_conv4 (Conv2D)       (None, 8, 8, 256)         590080    \n",
      "                                                                 \n",
      " block3_pool (MaxPooling2D)  (None, 4, 4, 256)         0         \n",
      "                                                                 \n",
      " block4_conv1 (Conv2D)       (None, 4, 4, 512)         1180160   \n",
      "                                                                 \n",
      " block4_conv2 (Conv2D)       (None, 4, 4, 512)         2359808   \n",
      "                                                                 \n",
      " block4_conv3 (Conv2D)       (None, 4, 4, 512)         2359808   \n",
      "                                                                 \n",
      " block4_conv4 (Conv2D)       (None, 4, 4, 512)         2359808   \n",
      "                                                                 \n",
      " block4_pool (MaxPooling2D)  (None, 2, 2, 512)         0         \n",
      "                                                                 \n",
      " block5_conv1 (Conv2D)       (None, 2, 2, 512)         2359808   \n",
      "                                                                 \n",
      " block5_conv2 (Conv2D)       (None, 2, 2, 512)         2359808   \n",
      "                                                                 \n",
      " block5_conv3 (Conv2D)       (None, 2, 2, 512)         2359808   \n",
      "                                                                 \n",
      " block5_conv4 (Conv2D)       (None, 2, 2, 512)         2359808   \n",
      "                                                                 \n",
      " block5_pool (MaxPooling2D)  (None, 1, 1, 512)         0         \n",
      "                                                                 \n",
      "=================================================================\n",
      "Total params: 20,024,384\n",
      "Trainable params: 20,024,384\n",
      "Non-trainable params: 0\n",
      "_________________________________________________________________\n"
     ]
    }
   ],
   "source": [
    "# Layers of vgg19\n",
    "vgg19.summary()"
   ]
  },
  {
   "cell_type": "code",
   "execution_count": 73,
   "metadata": {},
   "outputs": [
    {
     "name": "stdout",
     "output_type": "stream",
     "text": [
      "<keras.engine.input_layer.InputLayer object at 0x000001A72B710B80>\n",
      "<keras.layers.convolutional.conv2d.Conv2D object at 0x000001A72B710CA0>\n",
      "<keras.layers.convolutional.conv2d.Conv2D object at 0x000001A72538FC70>\n",
      "<keras.layers.pooling.max_pooling2d.MaxPooling2D object at 0x000001A72B75DB50>\n",
      "<keras.layers.convolutional.conv2d.Conv2D object at 0x000001A72B75FD00>\n",
      "<keras.layers.convolutional.conv2d.Conv2D object at 0x000001A72B75FD60>\n",
      "<keras.layers.pooling.max_pooling2d.MaxPooling2D object at 0x000001A72B763040>\n",
      "<keras.layers.convolutional.conv2d.Conv2D object at 0x000001A72B765B80>\n",
      "<keras.layers.convolutional.conv2d.Conv2D object at 0x000001A72B765DF0>\n",
      "<keras.layers.convolutional.conv2d.Conv2D object at 0x000001A72B7653A0>\n",
      "<keras.layers.convolutional.conv2d.Conv2D object at 0x000001A72B76A100>\n",
      "<keras.layers.pooling.max_pooling2d.MaxPooling2D object at 0x000001A72B76F1F0>\n",
      "<keras.layers.convolutional.conv2d.Conv2D object at 0x000001A72B768EE0>\n",
      "<keras.layers.convolutional.conv2d.Conv2D object at 0x000001A72B772430>\n",
      "<keras.layers.convolutional.conv2d.Conv2D object at 0x000001A72B775130>\n",
      "<keras.layers.convolutional.conv2d.Conv2D object at 0x000001A72B768EB0>\n",
      "<keras.layers.pooling.max_pooling2d.MaxPooling2D object at 0x000001A72B77B670>\n",
      "<keras.layers.convolutional.conv2d.Conv2D object at 0x000001A72B77FC40>\n",
      "<keras.layers.convolutional.conv2d.Conv2D object at 0x000001A72B77F4C0>\n",
      "<keras.layers.convolutional.conv2d.Conv2D object at 0x000001A72B77BF40>\n",
      "<keras.layers.convolutional.conv2d.Conv2D object at 0x000001A72B787FA0>\n",
      "<keras.layers.pooling.max_pooling2d.MaxPooling2D object at 0x000001A72B789DF0>\n"
     ]
    }
   ],
   "source": [
    "# Layers of vgg19 \n",
    "vgg19_layer_list = vgg19.layers\n",
    "for i in vgg19_layer_list:\n",
    "    print(i)"
   ]
  },
  {
   "cell_type": "code",
   "execution_count": 74,
   "metadata": {},
   "outputs": [],
   "source": [
    "# add the layers of vgg16 in my created model.\n",
    "vgg19Model = Sequential()\n",
    "for i in range(len(vgg19_layer_list)-1):\n",
    "    vgg19Model.add(vgg19_layer_list[i])"
   ]
  },
  {
   "cell_type": "code",
   "execution_count": 75,
   "metadata": {},
   "outputs": [
    {
     "name": "stdout",
     "output_type": "stream",
     "text": [
      "Model: \"sequential_4\"\n",
      "_________________________________________________________________\n",
      " Layer (type)                Output Shape              Param #   \n",
      "=================================================================\n",
      " block1_conv1 (Conv2D)       (None, 32, 32, 64)        1792      \n",
      "                                                                 \n",
      " block1_conv2 (Conv2D)       (None, 32, 32, 64)        36928     \n",
      "                                                                 \n",
      " block1_pool (MaxPooling2D)  (None, 16, 16, 64)        0         \n",
      "                                                                 \n",
      " block2_conv1 (Conv2D)       (None, 16, 16, 128)       73856     \n",
      "                                                                 \n",
      " block2_conv2 (Conv2D)       (None, 16, 16, 128)       147584    \n",
      "                                                                 \n",
      " block2_pool (MaxPooling2D)  (None, 8, 8, 128)         0         \n",
      "                                                                 \n",
      " block3_conv1 (Conv2D)       (None, 8, 8, 256)         295168    \n",
      "                                                                 \n",
      " block3_conv2 (Conv2D)       (None, 8, 8, 256)         590080    \n",
      "                                                                 \n",
      " block3_conv3 (Conv2D)       (None, 8, 8, 256)         590080    \n",
      "                                                                 \n",
      " block3_conv4 (Conv2D)       (None, 8, 8, 256)         590080    \n",
      "                                                                 \n",
      " block3_pool (MaxPooling2D)  (None, 4, 4, 256)         0         \n",
      "                                                                 \n",
      " block4_conv1 (Conv2D)       (None, 4, 4, 512)         1180160   \n",
      "                                                                 \n",
      " block4_conv2 (Conv2D)       (None, 4, 4, 512)         2359808   \n",
      "                                                                 \n",
      " block4_conv3 (Conv2D)       (None, 4, 4, 512)         2359808   \n",
      "                                                                 \n",
      " block4_conv4 (Conv2D)       (None, 4, 4, 512)         2359808   \n",
      "                                                                 \n",
      " block4_pool (MaxPooling2D)  (None, 2, 2, 512)         0         \n",
      "                                                                 \n",
      " block5_conv1 (Conv2D)       (None, 2, 2, 512)         2359808   \n",
      "                                                                 \n",
      " block5_conv2 (Conv2D)       (None, 2, 2, 512)         2359808   \n",
      "                                                                 \n",
      " block5_conv3 (Conv2D)       (None, 2, 2, 512)         2359808   \n",
      "                                                                 \n",
      " block5_conv4 (Conv2D)       (None, 2, 2, 512)         2359808   \n",
      "                                                                 \n",
      "=================================================================\n",
      "Total params: 20,024,384\n",
      "Trainable params: 20,024,384\n",
      "Non-trainable params: 0\n",
      "_________________________________________________________________\n"
     ]
    }
   ],
   "source": [
    "# Finish version of my created model.\n",
    "vgg19Model.summary()"
   ]
  },
  {
   "cell_type": "code",
   "execution_count": 76,
   "metadata": {},
   "outputs": [],
   "source": [
    "# Close the layers of vgg16\n",
    "for layers in vgg19Model.layers:\n",
    "    layers.trainable = False"
   ]
  },
  {
   "cell_type": "code",
   "execution_count": 77,
   "metadata": {},
   "outputs": [],
   "source": [
    "# Last layer\n",
    "vgg19Model.add(Dense(1))"
   ]
  },
  {
   "cell_type": "code",
   "execution_count": 78,
   "metadata": {},
   "outputs": [
    {
     "name": "stdout",
     "output_type": "stream",
     "text": [
      "Model: \"sequential_4\"\n",
      "_________________________________________________________________\n",
      " Layer (type)                Output Shape              Param #   \n",
      "=================================================================\n",
      " block1_conv1 (Conv2D)       (None, 32, 32, 64)        1792      \n",
      "                                                                 \n",
      " block1_conv2 (Conv2D)       (None, 32, 32, 64)        36928     \n",
      "                                                                 \n",
      " block1_pool (MaxPooling2D)  (None, 16, 16, 64)        0         \n",
      "                                                                 \n",
      " block2_conv1 (Conv2D)       (None, 16, 16, 128)       73856     \n",
      "                                                                 \n",
      " block2_conv2 (Conv2D)       (None, 16, 16, 128)       147584    \n",
      "                                                                 \n",
      " block2_pool (MaxPooling2D)  (None, 8, 8, 128)         0         \n",
      "                                                                 \n",
      " block3_conv1 (Conv2D)       (None, 8, 8, 256)         295168    \n",
      "                                                                 \n",
      " block3_conv2 (Conv2D)       (None, 8, 8, 256)         590080    \n",
      "                                                                 \n",
      " block3_conv3 (Conv2D)       (None, 8, 8, 256)         590080    \n",
      "                                                                 \n",
      " block3_conv4 (Conv2D)       (None, 8, 8, 256)         590080    \n",
      "                                                                 \n",
      " block3_pool (MaxPooling2D)  (None, 4, 4, 256)         0         \n",
      "                                                                 \n",
      " block4_conv1 (Conv2D)       (None, 4, 4, 512)         1180160   \n",
      "                                                                 \n",
      " block4_conv2 (Conv2D)       (None, 4, 4, 512)         2359808   \n",
      "                                                                 \n",
      " block4_conv3 (Conv2D)       (None, 4, 4, 512)         2359808   \n",
      "                                                                 \n",
      " block4_conv4 (Conv2D)       (None, 4, 4, 512)         2359808   \n",
      "                                                                 \n",
      " block4_pool (MaxPooling2D)  (None, 2, 2, 512)         0         \n",
      "                                                                 \n",
      " block5_conv1 (Conv2D)       (None, 2, 2, 512)         2359808   \n",
      "                                                                 \n",
      " block5_conv2 (Conv2D)       (None, 2, 2, 512)         2359808   \n",
      "                                                                 \n",
      " block5_conv3 (Conv2D)       (None, 2, 2, 512)         2359808   \n",
      "                                                                 \n",
      " block5_conv4 (Conv2D)       (None, 2, 2, 512)         2359808   \n",
      "                                                                 \n",
      " dense_4 (Dense)             (None, 2, 2, 1)           513       \n",
      "                                                                 \n",
      "=================================================================\n",
      "Total params: 20,024,897\n",
      "Trainable params: 513\n",
      "Non-trainable params: 20,024,384\n",
      "_________________________________________________________________\n"
     ]
    }
   ],
   "source": [
    "# the final version of the model\n",
    "vgg19Model.summary()"
   ]
  },
  {
   "cell_type": "code",
   "execution_count": 79,
   "metadata": {},
   "outputs": [],
   "source": [
    "# I create compile part.\n",
    "vgg19Model.compile(loss = \"mean_squared_error\",\n",
    "             optimizer = \"rmsprop\",\n",
    "             metrics = [\"accuracy\",\"mse\",\"mae\"])"
   ]
  },
  {
   "attachments": {},
   "cell_type": "markdown",
   "metadata": {},
   "source": [
    "# Addestramento"
   ]
  },
  {
   "cell_type": "code",
   "execution_count": 80,
   "metadata": {},
   "outputs": [
    {
     "name": "stdout",
     "output_type": "stream",
     "text": [
      "Epoch 1/10\n",
      "25/25 [==============================] - 6s 205ms/step - loss: 0.0363 - accuracy: 0.0128 - mse: 0.0363 - mae: 0.1275 - val_loss: 0.0137 - val_accuracy: 0.0089 - val_mse: 0.0137 - val_mae: 0.0789\n",
      "Epoch 2/10\n",
      "25/25 [==============================] - 5s 199ms/step - loss: 0.0174 - accuracy: 0.0139 - mse: 0.0174 - mae: 0.0806 - val_loss: 0.0106 - val_accuracy: 0.0089 - val_mse: 0.0106 - val_mae: 0.0650\n",
      "Epoch 3/10\n",
      "25/25 [==============================] - 5s 196ms/step - loss: 0.0172 - accuracy: 0.0139 - mse: 0.0172 - mae: 0.0781 - val_loss: 0.0106 - val_accuracy: 0.0089 - val_mse: 0.0106 - val_mae: 0.0625\n",
      "Epoch 4/10\n",
      "25/25 [==============================] - 5s 193ms/step - loss: 0.0165 - accuracy: 0.0139 - mse: 0.0165 - mae: 0.0740 - val_loss: 0.0102 - val_accuracy: 0.0089 - val_mse: 0.0102 - val_mae: 0.0608\n",
      "Epoch 5/10\n",
      "25/25 [==============================] - 5s 203ms/step - loss: 0.0159 - accuracy: 0.0139 - mse: 0.0159 - mae: 0.0707 - val_loss: 0.0091 - val_accuracy: 0.0089 - val_mse: 0.0091 - val_mae: 0.0534\n",
      "Epoch 6/10\n",
      "25/25 [==============================] - 5s 199ms/step - loss: 0.0153 - accuracy: 0.0139 - mse: 0.0153 - mae: 0.0696 - val_loss: 0.0092 - val_accuracy: 0.0089 - val_mse: 0.0092 - val_mae: 0.0556\n",
      "Epoch 7/10\n",
      "25/25 [==============================] - 5s 191ms/step - loss: 0.0160 - accuracy: 0.0139 - mse: 0.0160 - mae: 0.0722 - val_loss: 0.0113 - val_accuracy: 0.0089 - val_mse: 0.0113 - val_mae: 0.0689\n",
      "Epoch 8/10\n",
      "25/25 [==============================] - 5s 204ms/step - loss: 0.0158 - accuracy: 0.0139 - mse: 0.0158 - mae: 0.0716 - val_loss: 0.0092 - val_accuracy: 0.0089 - val_mse: 0.0092 - val_mae: 0.0535\n",
      "Epoch 9/10\n",
      "25/25 [==============================] - 5s 209ms/step - loss: 0.0153 - accuracy: 0.0139 - mse: 0.0153 - mae: 0.0684 - val_loss: 0.0135 - val_accuracy: 0.0089 - val_mse: 0.0135 - val_mae: 0.0839\n",
      "Epoch 10/10\n",
      "25/25 [==============================] - 5s 193ms/step - loss: 0.0151 - accuracy: 0.0139 - mse: 0.0151 - mae: 0.0692 - val_loss: 0.0120 - val_accuracy: 0.0089 - val_mse: 0.0120 - val_mae: 0.0737\n"
     ]
    }
   ],
   "source": [
    "# Traning with model\n",
    "batch_size = 32\n",
    "\n",
    "# Training with my created model\n",
    "hisy_vgg19 = vgg19Model.fit_generator(train_data,\n",
    "                               epochs = 10,\n",
    "                               validation_data = test_data\n",
    "                               )"
   ]
  },
  {
   "attachments": {},
   "cell_type": "markdown",
   "metadata": {},
   "source": [
    "# Visualizziamo i risultati ottenuti"
   ]
  },
  {
   "cell_type": "code",
   "execution_count": 81,
   "metadata": {},
   "outputs": [
    {
     "data": {
      "image/png": "[encoded data removed]",
      "text/plain": [
       "<Figure size 640x480 with 1 Axes>"
      ]
     },
     "metadata": {},
     "output_type": "display_data"
    }
   ],
   "source": [
    "# Loss And Validation Loss\n",
    "plt.plot(hisy_vgg19.history[\"loss\"], label = \"training loss\")\n",
    "plt.plot(hisy_vgg19.history[\"val_loss\"], label = \"validation loss\")\n",
    "plt.legend()\n",
    "plt.show()"
   ]
  },
  {
   "cell_type": "code",
   "execution_count": 82,
   "metadata": {},
   "outputs": [
    {
     "data": {
      "image/png": "[encoded data removed]",
      "text/plain": [
       "<Figure size 640x480 with 1 Axes>"
      ]
     },
     "metadata": {},
     "output_type": "display_data"
    }
   ],
   "source": [
    "# Accuracy And Validation Accuracy\n",
    "plt.plot(hisy_vgg19.history[\"accuracy\"], label = \"accuracy\")\n",
    "plt.plot(hisy_vgg19.history[\"val_accuracy\"], label = \"validation accuracy\")\n",
    "plt.legend()\n",
    "plt.show()"
   ]
  }
 ],
 "metadata": {
  "kernelspec": {
   "display_name": "Agrivision",
   "language": "python",
   "name": "python3"
  },
  "language_info": {
   "codemirror_mode": {
    "name": "ipython",
    "version": 3
   },
   "file_extension": ".py",
   "mimetype": "text/x-python",
   "name": "python",
   "nbconvert_exporter": "python",
   "pygments_lexer": "ipython3",
   "version": "3.8.15"
  },
  "orig_nbformat": 4,
  "vscode": {
   "interpreter": {
    "hash": "a6fd6293ccc705e158ec482904294ec7e16439ac8b2c7ba98f1fba253c109f1f"
   }
  }
 },
 "nbformat": 4,
 "nbformat_minor": 2
}
