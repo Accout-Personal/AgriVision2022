{
 "cells": [
  {
   "cell_type": "code",
   "execution_count": 1,
   "metadata": {},
   "outputs": [],
   "source": [
    "# Import Library\n",
    "%reset\n",
    "import numpy as np \n",
    "import pandas as pd\n",
    "import matplotlib.pyplot as plt\n",
    "from glob import glob\n",
    "from keras.preprocessing.image import ImageDataGenerator #, img_to_array, \n",
    "from tensorflow.keras.utils import img_to_array, load_img\n",
    "from keras.models import Sequential\n",
    "from keras.layers import Dense\n",
    "from keras.applications.vgg16 import VGG16\n",
    "from keras.applications.vgg19 import VGG19\n",
    "import os\n",
    "import pickle\n",
    "import warnings\n",
    "warnings.filterwarnings(\"ignore\")\n",
    "from PIL import Image"
   ]
  },
  {
   "attachments": {},
   "cell_type": "markdown",
   "metadata": {},
   "source": [
    "# Prepare and Review Dataset"
   ]
  },
  {
   "cell_type": "code",
   "execution_count": 2,
   "metadata": {},
   "outputs": [],
   "source": [
    "# Test and Train path\n",
    "with open('newResa3.pickle', 'rb') as handle:\n",
    "    newResa3 = pickle.load(handle)\n",
    "\n",
    "with open('AllPixelBand3.pickle', 'rb') as handle:\n",
    "    allPixel3 = pickle.load(handle)"
   ]
  },
  {
   "attachments": {},
   "cell_type": "markdown",
   "metadata": {},
   "source": [
    "# Costruisco le immagini"
   ]
  },
  {
   "cell_type": "code",
   "execution_count": 3,
   "metadata": {},
   "outputs": [
    {
     "name": "stdout",
     "output_type": "stream",
     "text": [
      "[5503.7    0.  6993.  7891.4    0.  5255.9 6056.8 7754.3 8344.2 4936.4]\n"
     ]
    },
    {
     "data": {
      "image/png": "[encoded data removed]",
      "text/plain": [
       "<Figure size 640x480 with 1 Axes>"
      ]
     },
     "metadata": {},
     "output_type": "display_data"
    }
   ],
   "source": [
    "# Test and Train path\n",
    "train_path = \"dataset\\\\train\\\\\"\n",
    "test_path = \"dataset\\\\test\\\\\"\n",
    "\n",
    "max = allPixel3.max()\n",
    "min = allPixel3.min()\n",
    "training_set = []\n",
    "test_set = []\n",
    "choice = np.random.choice(range(allPixel3.shape[0]), size=(790,), replace=False)\n",
    "ind = np.zeros(allPixel3.shape[0], dtype=bool)\n",
    "ind[choice] = True\n",
    "rest = ~ind\n",
    "training_setX = allPixel3[ind,:,:]\n",
    "training_setY = newResa3[ind]\n",
    "training_setX = np.array(training_setX)\n",
    "training_setY = np.array(training_setY)\n",
    "\n",
    "test_setX = allPixel3[rest,:,:]\n",
    "test_setY = newResa3[rest]\n",
    "test_setX = np.array(test_setX)\n",
    "test_setY = np.array(test_setY)\n",
    "\n",
    "print(training_setY[10:20])\n",
    "plt.imshow(np.transpose(training_setX[0,:,:]))\n",
    "\n",
    "#Train Set\n",
    "for a in range(0,training_setX.shape[0]):\n",
    "    img = Image.fromarray(training_setX[a,:,:])\n",
    "    img.save(train_path+str(a)+'.tiff')\n",
    "\n",
    "#Test Set\n",
    "for a in range(0,test_setX.shape[0]):\n",
    "    img = Image.fromarray(test_setX[a,:,:])\n",
    "    img.save(test_path+str(a)+'.tiff')\n"
   ]
  },
  {
   "cell_type": "code",
   "execution_count": 4,
   "metadata": {},
   "outputs": [
    {
     "name": "stdout",
     "output_type": "stream",
     "text": [
      "       id    target\n",
      "0  0.tiff  0.115171\n",
      "1  1.tiff  0.187392\n",
      "2  2.tiff  0.185063\n",
      "3  3.tiff  0.003252\n",
      "4  4.tiff  0.200996\n",
      "Found 790 validated image filenames.\n",
      "Found 789 validated image filenames.\n"
     ]
    }
   ],
   "source": [
    "\n",
    "\n",
    "# Costruiamo un dataframe Train\n",
    "dFTrain = pd.DataFrame(columns=['id','target'])\n",
    "dFTrain['id'] = [str(x)+\".tiff\" for x in list(range(0,training_setX.shape[0]))]\n",
    "dFTrain['target'] = training_setY/training_setY.max()\n",
    "print(dFTrain.head())\n",
    "\n",
    "# Costruiamo un dataframe Test\n",
    "dFTest = pd.DataFrame(columns=['id','target'])\n",
    "dFTest['id'] = [str(x)+\".tiff\" for x in list(range(0,test_setX.shape[0]))]\n",
    "dFTest['target'] = test_setY/test_setY.max()\n",
    "\n",
    "# Prepare the dataset\n",
    "#Train dataset\n",
    "train_data = ImageDataGenerator().flow_from_dataframe(dataframe=dFTrain, target_size = (32,32),\n",
    "                                                      directory=train_path,\n",
    "                                                      x_col=\"id\",\n",
    "                                                      y_col=\"target\",\n",
    "                                                      class_mode=\"other\")\n",
    "\n",
    "#Test Dataset\n",
    "test_data = ImageDataGenerator().flow_from_dataframe(dataframe=dFTest, target_size = (32,32),\n",
    "                                                      directory=test_path,\n",
    "                                                      x_col=\"id\",\n",
    "                                                      y_col=\"target\",\n",
    "                                                      class_mode=\"other\")"
   ]
  },
  {
   "cell_type": "code",
   "execution_count": 5,
   "metadata": {},
   "outputs": [
    {
     "name": "stdout",
     "output_type": "stream",
     "text": [
      "0.26362675428390503\n",
      "0.2608710527420044\n",
      "0.27094337344169617\n",
      "0.27312996983528137\n"
     ]
    }
   ],
   "source": [
    "print(dFTrain['target'].mean())\n",
    "print(dFTrain['target'].median())\n",
    "\n",
    "print(dFTest['target'].mean())\n",
    "print(dFTest['target'].median())"
   ]
  },
  {
   "attachments": {},
   "cell_type": "markdown",
   "metadata": {},
   "source": [
    "# Creazione del modello di Vgg16"
   ]
  },
  {
   "cell_type": "code",
   "execution_count": 6,
   "metadata": {},
   "outputs": [],
   "source": [
    "# Import model\n",
    "vgg16 = VGG16(input_shape=(32,32,3),include_top=False)\n",
    "\n",
    "# Import model\n",
    "#vgg16 = VGG16()"
   ]
  },
  {
   "cell_type": "code",
   "execution_count": 7,
   "metadata": {},
   "outputs": [
    {
     "name": "stdout",
     "output_type": "stream",
     "text": [
      "<keras.engine.input_layer.InputLayer object at 0x000001DFEB722280>\n",
      "<keras.layers.convolutional.conv2d.Conv2D object at 0x000001DFEB6C7BE0>\n",
      "<keras.layers.convolutional.conv2d.Conv2D object at 0x000001DFF7833FD0>\n",
      "<keras.layers.pooling.max_pooling2d.MaxPooling2D object at 0x000001DFF77DDCA0>\n",
      "<keras.layers.convolutional.conv2d.Conv2D object at 0x000001DFF7833040>\n",
      "<keras.layers.convolutional.conv2d.Conv2D object at 0x000001DFF78449D0>\n",
      "<keras.layers.pooling.max_pooling2d.MaxPooling2D object at 0x000001DFF7844D60>\n",
      "<keras.layers.convolutional.conv2d.Conv2D object at 0x000001DFF78448B0>\n",
      "<keras.layers.convolutional.conv2d.Conv2D object at 0x000001DFF7844C10>\n",
      "<keras.layers.convolutional.conv2d.Conv2D object at 0x000001DFF80B6F40>\n",
      "<keras.layers.pooling.max_pooling2d.MaxPooling2D object at 0x000001DFF80B6370>\n",
      "<keras.layers.convolutional.conv2d.Conv2D object at 0x000001DFF80B6DF0>\n",
      "<keras.layers.convolutional.conv2d.Conv2D object at 0x000001DFF80B6D00>\n",
      "<keras.layers.convolutional.conv2d.Conv2D object at 0x000001DFF80C5310>\n",
      "<keras.layers.pooling.max_pooling2d.MaxPooling2D object at 0x000001DFF80CBA30>\n",
      "<keras.layers.convolutional.conv2d.Conv2D object at 0x000001DFF80CB880>\n",
      "<keras.layers.convolutional.conv2d.Conv2D object at 0x000001DFF80D3F10>\n",
      "<keras.layers.convolutional.conv2d.Conv2D object at 0x000001DFF80CB190>\n",
      "<keras.layers.pooling.max_pooling2d.MaxPooling2D object at 0x000001DFF80BDFA0>\n"
     ]
    }
   ],
   "source": [
    "# layers of vgg16\n",
    "vgg16_layer_list = vgg16.layers\n",
    "for i in vgg16_layer_list:\n",
    "    print(i)"
   ]
  },
  {
   "cell_type": "code",
   "execution_count": 8,
   "metadata": {},
   "outputs": [],
   "source": [
    "# add the layers of vgg16 in my created model.\n",
    "vgg16Model = Sequential()\n",
    "for i in range(len(vgg16_layer_list)-1):\n",
    "    vgg16Model.add(vgg16_layer_list[i])"
   ]
  },
  {
   "cell_type": "code",
   "execution_count": 9,
   "metadata": {},
   "outputs": [],
   "source": [
    "# Close the layers of vgg16\n",
    "for layers in vgg16Model.layers:\n",
    "    layers.trainable = False"
   ]
  },
  {
   "cell_type": "code",
   "execution_count": 10,
   "metadata": {},
   "outputs": [],
   "source": [
    "# Last layer\n",
    "#vgg16Model.add(Dense(units=1))\n",
    "\n",
    "vgg16Model.add(Dense(units=1))"
   ]
  },
  {
   "cell_type": "code",
   "execution_count": 11,
   "metadata": {},
   "outputs": [
    {
     "name": "stdout",
     "output_type": "stream",
     "text": [
      "Model: \"sequential\"\n",
      "_________________________________________________________________\n",
      " Layer (type)                Output Shape              Param #   \n",
      "=================================================================\n",
      " block1_conv1 (Conv2D)       (None, 32, 32, 64)        1792      \n",
      "                                                                 \n",
      " block1_conv2 (Conv2D)       (None, 32, 32, 64)        36928     \n",
      "                                                                 \n",
      " block1_pool (MaxPooling2D)  (None, 16, 16, 64)        0         \n",
      "                                                                 \n",
      " block2_conv1 (Conv2D)       (None, 16, 16, 128)       73856     \n",
      "                                                                 \n",
      " block2_conv2 (Conv2D)       (None, 16, 16, 128)       147584    \n",
      "                                                                 \n",
      " block2_pool (MaxPooling2D)  (None, 8, 8, 128)         0         \n",
      "                                                                 \n",
      " block3_conv1 (Conv2D)       (None, 8, 8, 256)         295168    \n",
      "                                                                 \n",
      " block3_conv2 (Conv2D)       (None, 8, 8, 256)         590080    \n",
      "                                                                 \n",
      " block3_conv3 (Conv2D)       (None, 8, 8, 256)         590080    \n",
      "                                                                 \n",
      " block3_pool (MaxPooling2D)  (None, 4, 4, 256)         0         \n",
      "                                                                 \n",
      " block4_conv1 (Conv2D)       (None, 4, 4, 512)         1180160   \n",
      "                                                                 \n",
      " block4_conv2 (Conv2D)       (None, 4, 4, 512)         2359808   \n",
      "                                                                 \n",
      " block4_conv3 (Conv2D)       (None, 4, 4, 512)         2359808   \n",
      "                                                                 \n",
      " block4_pool (MaxPooling2D)  (None, 2, 2, 512)         0         \n",
      "                                                                 \n",
      " block5_conv1 (Conv2D)       (None, 2, 2, 512)         2359808   \n",
      "                                                                 \n",
      " block5_conv2 (Conv2D)       (None, 2, 2, 512)         2359808   \n",
      "                                                                 \n",
      " block5_conv3 (Conv2D)       (None, 2, 2, 512)         2359808   \n",
      "                                                                 \n",
      " dense (Dense)               (None, 2, 2, 1)           513       \n",
      "                                                                 \n",
      "=================================================================\n",
      "Total params: 14,715,201\n",
      "Trainable params: 513\n",
      "Non-trainable params: 14,714,688\n",
      "_________________________________________________________________\n"
     ]
    }
   ],
   "source": [
    "# After I added last layer in created model.\n",
    "vgg16Model.summary()"
   ]
  },
  {
   "cell_type": "code",
   "execution_count": 12,
   "metadata": {},
   "outputs": [],
   "source": [
    "# I create compile part.\n",
    "vgg16Model.compile(loss = \"mean_squared_error\",\n",
    "             optimizer = \"rmsprop\",\n",
    "             metrics = [\"mse\",\"mae\"])"
   ]
  },
  {
   "attachments": {},
   "cell_type": "markdown",
   "metadata": {},
   "source": [
    "# Training Model "
   ]
  },
  {
   "cell_type": "code",
   "execution_count": 13,
   "metadata": {},
   "outputs": [
    {
     "name": "stdout",
     "output_type": "stream",
     "text": [
      "Epoch 1/10\n",
      "25/25 [==============================] - 5s 173ms/step - loss: 0.0844 - mse: 0.0844 - mae: 0.2098 - val_loss: 0.0177 - val_mse: 0.0177 - val_mae: 0.0948\n",
      "Epoch 2/10\n",
      "25/25 [==============================] - 4s 162ms/step - loss: 0.0142 - mse: 0.0142 - mae: 0.0746 - val_loss: 0.0171 - val_mse: 0.0171 - val_mae: 0.0929\n",
      "Epoch 3/10\n",
      "25/25 [==============================] - 4s 161ms/step - loss: 0.0133 - mse: 0.0133 - mae: 0.0678 - val_loss: 0.0119 - val_mse: 0.0119 - val_mae: 0.0635\n",
      "Epoch 4/10\n",
      "25/25 [==============================] - 4s 158ms/step - loss: 0.0127 - mse: 0.0127 - mae: 0.0644 - val_loss: 0.0129 - val_mse: 0.0129 - val_mae: 0.0703\n",
      "Epoch 5/10\n",
      "25/25 [==============================] - 4s 157ms/step - loss: 0.0118 - mse: 0.0118 - mae: 0.0614 - val_loss: 0.0114 - val_mse: 0.0114 - val_mae: 0.0601\n",
      "Epoch 6/10\n",
      "25/25 [==============================] - 4s 156ms/step - loss: 0.0131 - mse: 0.0131 - mae: 0.0630 - val_loss: 0.0114 - val_mse: 0.0114 - val_mae: 0.0585\n",
      "Epoch 7/10\n",
      "25/25 [==============================] - 4s 154ms/step - loss: 0.0122 - mse: 0.0122 - mae: 0.0621 - val_loss: 0.0120 - val_mse: 0.0120 - val_mae: 0.0626\n",
      "Epoch 8/10\n",
      "25/25 [==============================] - 4s 154ms/step - loss: 0.0123 - mse: 0.0123 - mae: 0.0610 - val_loss: 0.0137 - val_mse: 0.0137 - val_mae: 0.0753\n",
      "Epoch 9/10\n",
      "25/25 [==============================] - 4s 155ms/step - loss: 0.0123 - mse: 0.0123 - mae: 0.0624 - val_loss: 0.0114 - val_mse: 0.0114 - val_mae: 0.0603\n",
      "Epoch 10/10\n",
      "25/25 [==============================] - 4s 154ms/step - loss: 0.0120 - mse: 0.0120 - mae: 0.0593 - val_loss: 0.0115 - val_mse: 0.0115 - val_mae: 0.0590\n"
     ]
    }
   ],
   "source": [
    "# Traning with model\n",
    "batch_size = 32\n",
    "\n",
    "hist_vgg16 = vgg16Model.fit(train_data, \n",
    "                                epochs = 10,\n",
    "                                validation_data=test_data\n",
    "                                )"
   ]
  },
  {
   "cell_type": "code",
   "execution_count": 14,
   "metadata": {},
   "outputs": [],
   "source": [
    "# Save the weights of model\n",
    "vgg16Model.save_weights(\"previsioneResa.h5\")"
   ]
  },
  {
   "attachments": {},
   "cell_type": "markdown",
   "metadata": {},
   "source": [
    "# Andiamo a visualizzare i risultati della rete"
   ]
  },
  {
   "cell_type": "code",
   "execution_count": 15,
   "metadata": {},
   "outputs": [
    {
     "data": {
      "image/png": "[encoded data removed]",
      "text/plain": [
       "<Figure size 640x480 with 1 Axes>"
      ]
     },
     "metadata": {},
     "output_type": "display_data"
    }
   ],
   "source": [
    "# Loss and Validation Loss\n",
    "plt.plot(hist_vgg16.history[\"loss\"], label = \"training loss\")\n",
    "plt.plot(hist_vgg16.history[\"val_loss\"], label = \"validation loss\")\n",
    "plt.legend()\n",
    "plt.show()"
   ]
  },
  {
   "cell_type": "code",
   "execution_count": 31,
   "metadata": {},
   "outputs": [
    {
     "data": {
      "image/png": "[encoded data removed]",
      "text/plain": [
       "<Figure size 640x480 with 1 Axes>"
      ]
     },
     "metadata": {},
     "output_type": "display_data"
    }
   ],
   "source": [
    "# mae e val mae\n",
    "plt.plot(hist_vgg16.history[\"mae\"], label = \"training mae\")\n",
    "plt.plot(hist_vgg16.history[\"val_mae\"], label = \"validation mae\")\n",
    "plt.legend()\n",
    "plt.show()"
   ]
  },
  {
   "attachments": {},
   "cell_type": "markdown",
   "metadata": {},
   "source": [
    "# Salviamo e carichiamo i risultati"
   ]
  },
  {
   "cell_type": "code",
   "execution_count": 16,
   "metadata": {},
   "outputs": [],
   "source": [
    "import json, codecs\n",
    "with open(\"previsioneResa.json\",\"w\") as f:\n",
    "    json.dump(hist_vgg16.history, f)"
   ]
  },
  {
   "cell_type": "code",
   "execution_count": 17,
   "metadata": {},
   "outputs": [],
   "source": [
    "with codecs.open(\"./previsioneResa.json\",\"r\", encoding = \"utf-8\") as f:\n",
    "    load_result = json.loads(f.read())"
   ]
  },
  {
   "cell_type": "code",
   "execution_count": 18,
   "metadata": {},
   "outputs": [
    {
     "data": {
      "text/plain": [
       "{'loss': [0.0844399556517601,\n",
       "  0.014210737310349941,\n",
       "  0.013267287984490395,\n",
       "  0.012688735499978065,\n",
       "  0.011816967278718948,\n",
       "  0.01308476086705923,\n",
       "  0.012194804847240448,\n",
       "  0.012260437943041325,\n",
       "  0.012278043664991856,\n",
       "  0.011957979761064053],\n",
       " 'mse': [0.0844399556517601,\n",
       "  0.014210737310349941,\n",
       "  0.013267287984490395,\n",
       "  0.012688735499978065,\n",
       "  0.011816967278718948,\n",
       "  0.01308476086705923,\n",
       "  0.012194804847240448,\n",
       "  0.012260437943041325,\n",
       "  0.012278043664991856,\n",
       "  0.011957979761064053],\n",
       " 'mae': [0.20981192588806152,\n",
       "  0.0746292918920517,\n",
       "  0.06777667999267578,\n",
       "  0.06440647691488266,\n",
       "  0.06138705089688301,\n",
       "  0.06301872432231903,\n",
       "  0.06208916753530502,\n",
       "  0.06104874983429909,\n",
       "  0.06235367804765701,\n",
       "  0.05929495766758919],\n",
       " 'val_loss': [0.017660999670624733,\n",
       "  0.017054883763194084,\n",
       "  0.011932410299777985,\n",
       "  0.01286035031080246,\n",
       "  0.011446380987763405,\n",
       "  0.011353249661624432,\n",
       "  0.011960550211369991,\n",
       "  0.013744095340371132,\n",
       "  0.011426158249378204,\n",
       "  0.011452504433691502],\n",
       " 'val_mse': [0.017660999670624733,\n",
       "  0.017054883763194084,\n",
       "  0.011932410299777985,\n",
       "  0.01286035031080246,\n",
       "  0.011446380987763405,\n",
       "  0.011353249661624432,\n",
       "  0.011960550211369991,\n",
       "  0.013744095340371132,\n",
       "  0.011426158249378204,\n",
       "  0.011452504433691502],\n",
       " 'val_mae': [0.09478310495615005,\n",
       "  0.09287901222705841,\n",
       "  0.06351783126592636,\n",
       "  0.07026149332523346,\n",
       "  0.06006314232945442,\n",
       "  0.05851246789097786,\n",
       "  0.06263566762208939,\n",
       "  0.07529488950967789,\n",
       "  0.06025245785713196,\n",
       "  0.0590231716632843]}"
      ]
     },
     "execution_count": 18,
     "metadata": {},
     "output_type": "execute_result"
    }
   ],
   "source": [
    "load_result"
   ]
  },
  {
   "attachments": {},
   "cell_type": "markdown",
   "metadata": {},
   "source": [
    "# Vgg19"
   ]
  },
  {
   "cell_type": "code",
   "execution_count": 20,
   "metadata": {},
   "outputs": [],
   "source": [
    "# Import VGG19 model\n",
    "vgg19 = VGG19(input_shape=(32,32,3),include_top=False)"
   ]
  },
  {
   "cell_type": "code",
   "execution_count": 21,
   "metadata": {},
   "outputs": [
    {
     "name": "stdout",
     "output_type": "stream",
     "text": [
      "Model: \"vgg19\"\n",
      "_________________________________________________________________\n",
      " Layer (type)                Output Shape              Param #   \n",
      "=================================================================\n",
      " input_2 (InputLayer)        [(None, 32, 32, 3)]       0         \n",
      "                                                                 \n",
      " block1_conv1 (Conv2D)       (None, 32, 32, 64)        1792      \n",
      "                                                                 \n",
      " block1_conv2 (Conv2D)       (None, 32, 32, 64)        36928     \n",
      "                                                                 \n",
      " block1_pool (MaxPooling2D)  (None, 16, 16, 64)        0         \n",
      "                                                                 \n",
      " block2_conv1 (Conv2D)       (None, 16, 16, 128)       73856     \n",
      "                                                                 \n",
      " block2_conv2 (Conv2D)       (None, 16, 16, 128)       147584    \n",
      "                                                                 \n",
      " block2_pool (MaxPooling2D)  (None, 8, 8, 128)         0         \n",
      "                                                                 \n",
      " block3_conv1 (Conv2D)       (None, 8, 8, 256)         295168    \n",
      "                                                                 \n",
      " block3_conv2 (Conv2D)       (None, 8, 8, 256)         590080    \n",
      "                                                                 \n",
      " block3_conv3 (Conv2D)       (None, 8, 8, 256)         590080    \n",
      "                                                                 \n",
      " block3_conv4 (Conv2D)       (None, 8, 8, 256)         590080    \n",
      "                                                                 \n",
      " block3_pool (MaxPooling2D)  (None, 4, 4, 256)         0         \n",
      "                                                                 \n",
      " block4_conv1 (Conv2D)       (None, 4, 4, 512)         1180160   \n",
      "                                                                 \n",
      " block4_conv2 (Conv2D)       (None, 4, 4, 512)         2359808   \n",
      "                                                                 \n",
      " block4_conv3 (Conv2D)       (None, 4, 4, 512)         2359808   \n",
      "                                                                 \n",
      " block4_conv4 (Conv2D)       (None, 4, 4, 512)         2359808   \n",
      "                                                                 \n",
      " block4_pool (MaxPooling2D)  (None, 2, 2, 512)         0         \n",
      "                                                                 \n",
      " block5_conv1 (Conv2D)       (None, 2, 2, 512)         2359808   \n",
      "                                                                 \n",
      " block5_conv2 (Conv2D)       (None, 2, 2, 512)         2359808   \n",
      "                                                                 \n",
      " block5_conv3 (Conv2D)       (None, 2, 2, 512)         2359808   \n",
      "                                                                 \n",
      " block5_conv4 (Conv2D)       (None, 2, 2, 512)         2359808   \n",
      "                                                                 \n",
      " block5_pool (MaxPooling2D)  (None, 1, 1, 512)         0         \n",
      "                                                                 \n",
      "=================================================================\n",
      "Total params: 20,024,384\n",
      "Trainable params: 20,024,384\n",
      "Non-trainable params: 0\n",
      "_________________________________________________________________\n"
     ]
    }
   ],
   "source": [
    "# Layers of vgg19\n",
    "vgg19.summary()"
   ]
  },
  {
   "cell_type": "code",
   "execution_count": 22,
   "metadata": {},
   "outputs": [
    {
     "name": "stdout",
     "output_type": "stream",
     "text": [
      "<keras.engine.input_layer.InputLayer object at 0x000001DFF80D3730>\n",
      "<keras.layers.convolutional.conv2d.Conv2D object at 0x000001DFF78334C0>\n",
      "<keras.layers.convolutional.conv2d.Conv2D object at 0x000001DFF979DF40>\n",
      "<keras.layers.pooling.max_pooling2d.MaxPooling2D object at 0x000001DFF97C86D0>\n",
      "<keras.layers.convolutional.conv2d.Conv2D object at 0x000001DFF78280A0>\n",
      "<keras.layers.convolutional.conv2d.Conv2D object at 0x000001DFF7828B20>\n",
      "<keras.layers.pooling.max_pooling2d.MaxPooling2D object at 0x000001DFF77DCFA0>\n",
      "<keras.layers.convolutional.conv2d.Conv2D object at 0x000001DFF7728280>\n",
      "<keras.layers.convolutional.conv2d.Conv2D object at 0x000001DFF7728BB0>\n",
      "<keras.layers.convolutional.conv2d.Conv2D object at 0x000001DFF97FA9D0>\n",
      "<keras.layers.convolutional.conv2d.Conv2D object at 0x000001DFF77DE550>\n",
      "<keras.layers.pooling.max_pooling2d.MaxPooling2D object at 0x000001DFF770E910>\n",
      "<keras.layers.convolutional.conv2d.Conv2D object at 0x000001DFF97F5B50>\n",
      "<keras.layers.convolutional.conv2d.Conv2D object at 0x000001DFF76F5D00>\n",
      "<keras.layers.convolutional.conv2d.Conv2D object at 0x000001DFEB722400>\n",
      "<keras.layers.convolutional.conv2d.Conv2D object at 0x000001DFF7278640>\n",
      "<keras.layers.pooling.max_pooling2d.MaxPooling2D object at 0x000001DFF725F5E0>\n",
      "<keras.layers.convolutional.conv2d.Conv2D object at 0x000001DFF97D34C0>\n",
      "<keras.layers.convolutional.conv2d.Conv2D object at 0x000001DFF97D3880>\n",
      "<keras.layers.convolutional.conv2d.Conv2D object at 0x000001DFF97D3310>\n",
      "<keras.layers.convolutional.conv2d.Conv2D object at 0x000001DFF9961F40>\n",
      "<keras.layers.pooling.max_pooling2d.MaxPooling2D object at 0x000001DFF77C9EB0>\n"
     ]
    }
   ],
   "source": [
    "# Layers of vgg19 \n",
    "vgg19_layer_list = vgg19.layers\n",
    "for i in vgg19_layer_list:\n",
    "    print(i)"
   ]
  },
  {
   "cell_type": "code",
   "execution_count": 23,
   "metadata": {},
   "outputs": [],
   "source": [
    "# add the layers of vgg16 in my created model.\n",
    "vgg19Model = Sequential()\n",
    "for i in range(len(vgg19_layer_list)-1):\n",
    "    vgg19Model.add(vgg19_layer_list[i])"
   ]
  },
  {
   "cell_type": "code",
   "execution_count": 24,
   "metadata": {},
   "outputs": [
    {
     "name": "stdout",
     "output_type": "stream",
     "text": [
      "Model: \"sequential_1\"\n",
      "_________________________________________________________________\n",
      " Layer (type)                Output Shape              Param #   \n",
      "=================================================================\n",
      " block1_conv1 (Conv2D)       (None, 32, 32, 64)        1792      \n",
      "                                                                 \n",
      " block1_conv2 (Conv2D)       (None, 32, 32, 64)        36928     \n",
      "                                                                 \n",
      " block1_pool (MaxPooling2D)  (None, 16, 16, 64)        0         \n",
      "                                                                 \n",
      " block2_conv1 (Conv2D)       (None, 16, 16, 128)       73856     \n",
      "                                                                 \n",
      " block2_conv2 (Conv2D)       (None, 16, 16, 128)       147584    \n",
      "                                                                 \n",
      " block2_pool (MaxPooling2D)  (None, 8, 8, 128)         0         \n",
      "                                                                 \n",
      " block3_conv1 (Conv2D)       (None, 8, 8, 256)         295168    \n",
      "                                                                 \n",
      " block3_conv2 (Conv2D)       (None, 8, 8, 256)         590080    \n",
      "                                                                 \n",
      " block3_conv3 (Conv2D)       (None, 8, 8, 256)         590080    \n",
      "                                                                 \n",
      " block3_conv4 (Conv2D)       (None, 8, 8, 256)         590080    \n",
      "                                                                 \n",
      " block3_pool (MaxPooling2D)  (None, 4, 4, 256)         0         \n",
      "                                                                 \n",
      " block4_conv1 (Conv2D)       (None, 4, 4, 512)         1180160   \n",
      "                                                                 \n",
      " block4_conv2 (Conv2D)       (None, 4, 4, 512)         2359808   \n",
      "                                                                 \n",
      " block4_conv3 (Conv2D)       (None, 4, 4, 512)         2359808   \n",
      "                                                                 \n",
      " block4_conv4 (Conv2D)       (None, 4, 4, 512)         2359808   \n",
      "                                                                 \n",
      " block4_pool (MaxPooling2D)  (None, 2, 2, 512)         0         \n",
      "                                                                 \n",
      " block5_conv1 (Conv2D)       (None, 2, 2, 512)         2359808   \n",
      "                                                                 \n",
      " block5_conv2 (Conv2D)       (None, 2, 2, 512)         2359808   \n",
      "                                                                 \n",
      " block5_conv3 (Conv2D)       (None, 2, 2, 512)         2359808   \n",
      "                                                                 \n",
      " block5_conv4 (Conv2D)       (None, 2, 2, 512)         2359808   \n",
      "                                                                 \n",
      "=================================================================\n",
      "Total params: 20,024,384\n",
      "Trainable params: 20,024,384\n",
      "Non-trainable params: 0\n",
      "_________________________________________________________________\n"
     ]
    }
   ],
   "source": [
    "# Finish version of my created model.\n",
    "vgg19Model.summary()"
   ]
  },
  {
   "cell_type": "code",
   "execution_count": 25,
   "metadata": {},
   "outputs": [],
   "source": [
    "# Close the layers of vgg16\n",
    "for layers in vgg19Model.layers:\n",
    "    layers.trainable = False"
   ]
  },
  {
   "cell_type": "code",
   "execution_count": 26,
   "metadata": {},
   "outputs": [],
   "source": [
    "# Last layer\n",
    "vgg19Model.add(Dense(1))"
   ]
  },
  {
   "cell_type": "code",
   "execution_count": 27,
   "metadata": {},
   "outputs": [
    {
     "name": "stdout",
     "output_type": "stream",
     "text": [
      "Model: \"sequential_1\"\n",
      "_________________________________________________________________\n",
      " Layer (type)                Output Shape              Param #   \n",
      "=================================================================\n",
      " block1_conv1 (Conv2D)       (None, 32, 32, 64)        1792      \n",
      "                                                                 \n",
      " block1_conv2 (Conv2D)       (None, 32, 32, 64)        36928     \n",
      "                                                                 \n",
      " block1_pool (MaxPooling2D)  (None, 16, 16, 64)        0         \n",
      "                                                                 \n",
      " block2_conv1 (Conv2D)       (None, 16, 16, 128)       73856     \n",
      "                                                                 \n",
      " block2_conv2 (Conv2D)       (None, 16, 16, 128)       147584    \n",
      "                                                                 \n",
      " block2_pool (MaxPooling2D)  (None, 8, 8, 128)         0         \n",
      "                                                                 \n",
      " block3_conv1 (Conv2D)       (None, 8, 8, 256)         295168    \n",
      "                                                                 \n",
      " block3_conv2 (Conv2D)       (None, 8, 8, 256)         590080    \n",
      "                                                                 \n",
      " block3_conv3 (Conv2D)       (None, 8, 8, 256)         590080    \n",
      "                                                                 \n",
      " block3_conv4 (Conv2D)       (None, 8, 8, 256)         590080    \n",
      "                                                                 \n",
      " block3_pool (MaxPooling2D)  (None, 4, 4, 256)         0         \n",
      "                                                                 \n",
      " block4_conv1 (Conv2D)       (None, 4, 4, 512)         1180160   \n",
      "                                                                 \n",
      " block4_conv2 (Conv2D)       (None, 4, 4, 512)         2359808   \n",
      "                                                                 \n",
      " block4_conv3 (Conv2D)       (None, 4, 4, 512)         2359808   \n",
      "                                                                 \n",
      " block4_conv4 (Conv2D)       (None, 4, 4, 512)         2359808   \n",
      "                                                                 \n",
      " block4_pool (MaxPooling2D)  (None, 2, 2, 512)         0         \n",
      "                                                                 \n",
      " block5_conv1 (Conv2D)       (None, 2, 2, 512)         2359808   \n",
      "                                                                 \n",
      " block5_conv2 (Conv2D)       (None, 2, 2, 512)         2359808   \n",
      "                                                                 \n",
      " block5_conv3 (Conv2D)       (None, 2, 2, 512)         2359808   \n",
      "                                                                 \n",
      " block5_conv4 (Conv2D)       (None, 2, 2, 512)         2359808   \n",
      "                                                                 \n",
      " dense_1 (Dense)             (None, 2, 2, 1)           513       \n",
      "                                                                 \n",
      "=================================================================\n",
      "Total params: 20,024,897\n",
      "Trainable params: 513\n",
      "Non-trainable params: 20,024,384\n",
      "_________________________________________________________________\n"
     ]
    }
   ],
   "source": [
    "# the final version of the model\n",
    "vgg19Model.summary()"
   ]
  },
  {
   "cell_type": "code",
   "execution_count": 28,
   "metadata": {},
   "outputs": [],
   "source": [
    "# I create compile part.\n",
    "vgg19Model.compile(loss = \"mean_squared_error\",\n",
    "             optimizer = \"rmsprop\",\n",
    "             metrics = [\"mse\",\"mae\"])"
   ]
  },
  {
   "attachments": {},
   "cell_type": "markdown",
   "metadata": {},
   "source": [
    "# Addestramento"
   ]
  },
  {
   "cell_type": "code",
   "execution_count": 29,
   "metadata": {},
   "outputs": [
    {
     "name": "stdout",
     "output_type": "stream",
     "text": [
      "Epoch 1/10\n",
      "25/25 [==============================] - 6s 205ms/step - loss: 0.2055 - mse: 0.2055 - mae: 0.3307 - val_loss: 0.0215 - val_mse: 0.0215 - val_mae: 0.1103\n",
      "Epoch 2/10\n",
      "25/25 [==============================] - 5s 191ms/step - loss: 0.0173 - mse: 0.0173 - mae: 0.0890 - val_loss: 0.0145 - val_mse: 0.0145 - val_mae: 0.0765\n",
      "Epoch 3/10\n",
      "25/25 [==============================] - 5s 197ms/step - loss: 0.0147 - mse: 0.0147 - mae: 0.0747 - val_loss: 0.0139 - val_mse: 0.0139 - val_mae: 0.0750\n",
      "Epoch 4/10\n",
      "25/25 [==============================] - 5s 192ms/step - loss: 0.0147 - mse: 0.0147 - mae: 0.0742 - val_loss: 0.0128 - val_mse: 0.0128 - val_mae: 0.0678\n",
      "Epoch 5/10\n",
      "25/25 [==============================] - 5s 192ms/step - loss: 0.0136 - mse: 0.0136 - mae: 0.0689 - val_loss: 0.0124 - val_mse: 0.0124 - val_mae: 0.0661\n",
      "Epoch 6/10\n",
      "25/25 [==============================] - 5s 195ms/step - loss: 0.0143 - mse: 0.0143 - mae: 0.0715 - val_loss: 0.0132 - val_mse: 0.0132 - val_mae: 0.0721\n",
      "Epoch 7/10\n",
      "25/25 [==============================] - 5s 196ms/step - loss: 0.0134 - mse: 0.0134 - mae: 0.0688 - val_loss: 0.0136 - val_mse: 0.0136 - val_mae: 0.0750\n",
      "Epoch 8/10\n",
      "25/25 [==============================] - 5s 199ms/step - loss: 0.0128 - mse: 0.0128 - mae: 0.0638 - val_loss: 0.0114 - val_mse: 0.0114 - val_mae: 0.0597\n",
      "Epoch 9/10\n",
      "25/25 [==============================] - 5s 208ms/step - loss: 0.0129 - mse: 0.0129 - mae: 0.0654 - val_loss: 0.0131 - val_mse: 0.0131 - val_mae: 0.0720\n",
      "Epoch 10/10\n",
      "25/25 [==============================] - 5s 203ms/step - loss: 0.0136 - mse: 0.0136 - mae: 0.0689 - val_loss: 0.0153 - val_mse: 0.0153 - val_mae: 0.0851\n"
     ]
    }
   ],
   "source": [
    "# Traning with model\n",
    "batch_size = 32\n",
    "\n",
    "# Training with my created model\n",
    "hisy_vgg19 = vgg19Model.fit_generator(train_data,\n",
    "                               epochs = 10,\n",
    "                               validation_data = test_data\n",
    "                               )"
   ]
  },
  {
   "attachments": {},
   "cell_type": "markdown",
   "metadata": {},
   "source": [
    "# Visualizziamo i risultati ottenuti"
   ]
  },
  {
   "cell_type": "code",
   "execution_count": 30,
   "metadata": {},
   "outputs": [
    {
     "data": {
      "image/png": "[encoded data removed]",
      "text/plain": [
       "<Figure size 640x480 with 1 Axes>"
      ]
     },
     "metadata": {},
     "output_type": "display_data"
    }
   ],
   "source": [
    "# Loss And Validation Loss\n",
    "plt.plot(hisy_vgg19.history[\"loss\"], label = \"training loss\")\n",
    "plt.plot(hisy_vgg19.history[\"val_loss\"], label = \"validation loss\")\n",
    "plt.legend()\n",
    "plt.show()"
   ]
  },
  {
   "cell_type": "code",
   "execution_count": 32,
   "metadata": {},
   "outputs": [
    {
     "data": {
      "image/png": "[encoded data removed]",
      "text/plain": [
       "<Figure size 640x480 with 1 Axes>"
      ]
     },
     "metadata": {},
     "output_type": "display_data"
    }
   ],
   "source": [
    "# mae e val mae\n",
    "plt.plot(hisy_vgg19.history[\"mae\"], label = \"training mae\")\n",
    "plt.plot(hisy_vgg19.history[\"val_mae\"], label = \"validation mae\")\n",
    "plt.legend()\n",
    "plt.show()"
   ]
  }
 ],
 "metadata": {
  "kernelspec": {
   "display_name": "Agrivision",
   "language": "python",
   "name": "python3"
  },
  "language_info": {
   "codemirror_mode": {
    "name": "ipython",
    "version": 3
   },
   "file_extension": ".py",
   "mimetype": "text/x-python",
   "name": "python",
   "nbconvert_exporter": "python",
   "pygments_lexer": "ipython3",
   "version": "3.8.15"
  },
  "orig_nbformat": 4,
  "vscode": {
   "interpreter": {
    "hash": "a6fd6293ccc705e158ec482904294ec7e16439ac8b2c7ba98f1fba253c109f1f"
   }
  }
 },
 "nbformat": 4,
 "nbformat_minor": 2
}
