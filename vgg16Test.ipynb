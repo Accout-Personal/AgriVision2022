{
 "cells": [
  {
   "cell_type": "code",
   "execution_count": 25,
   "metadata": {},
   "outputs": [],
   "source": [
    "# Import Library\n",
    "import numpy as np \n",
    "import pandas as pd\n",
    "import matplotlib.pyplot as plt\n",
    "from glob import glob\n",
    "from keras.preprocessing.image import ImageDataGenerator #, img_to_array, \n",
    "from tensorflow.keras.utils import img_to_array, load_img\n",
    "from keras.models import Sequential\n",
    "from keras.layers import Dense\n",
    "from keras.applications.vgg16 import VGG16\n",
    "from keras.applications.vgg19 import VGG19\n",
    "import os\n",
    "import pickle\n",
    "import warnings\n",
    "warnings.filterwarnings(\"ignore\")"
   ]
  },
  {
   "attachments": {},
   "cell_type": "markdown",
   "metadata": {},
   "source": [
    "# Prepare and Review Dataset"
   ]
  },
  {
   "cell_type": "code",
   "execution_count": 26,
   "metadata": {},
   "outputs": [],
   "source": [
    "# Test and Train path\n",
    "with open('newResa3.pickle', 'rb') as handle:\n",
    "    newResa3 = pickle.load(handle)\n",
    "\n",
    "with open('AllPixelBand3.pickle', 'rb') as handle:\n",
    "    allPixel3 = pickle.load(handle)"
   ]
  },
  {
   "attachments": {},
   "cell_type": "markdown",
   "metadata": {},
   "source": [
    "# Costruisco le immagini"
   ]
  },
  {
   "cell_type": "code",
   "execution_count": 41,
   "metadata": {},
   "outputs": [],
   "source": [
    "for a in range(0,newResa3.shape[0]):\n",
    "    if newResa3[a] >3500:\n",
    "        fig, ax = plt.subplots( nrows=1, ncols=1 )\n",
    "        ax.imshow(np.transpose(allPixel3[a,:,:]))\n",
    "        plt.savefig('dataset\\\\train\\\\1\\\\'+str(newResa3[a])+'.png')\n",
    "        if a % 2 == 0:\n",
    "            plt.savefig('dataset\\\\test\\\\1\\\\'+str(newResa3[a])+'.png')\n",
    "        plt.close(fig) \n",
    "    else:\n",
    "        fig, ax = plt.subplots( nrows=1, ncols=1 )\n",
    "        ax.imshow(np.transpose(allPixel3[a,:,:]))\n",
    "        plt.savefig('dataset\\\\train\\\\0\\\\'+str(newResa3[a])+'.png')\n",
    "        if a % 2 == 1:\n",
    "            plt.savefig('dataset\\\\test\\\\0\\\\'+str(newResa3[a])+'.png')\n",
    "        plt.close(fig) \n",
    "\n"
   ]
  },
  {
   "cell_type": "code",
   "execution_count": 43,
   "metadata": {},
   "outputs": [
    {
     "name": "stdout",
     "output_type": "stream",
     "text": [
      "Number Of Class:  2\n",
      "Found 1293 images belonging to 2 classes.\n",
      "<class 'keras.preprocessing.image.DirectoryIterator'>\n",
      "Found 697 images belonging to 2 classes.\n"
     ]
    }
   ],
   "source": [
    "# Test and Train path\n",
    "train_path = \"dataset\\\\train\"\n",
    "test_path = \"dataset\\\\test\"\n",
    "\n",
    "# The number of classes of dataset\n",
    "numberOfClass = len(glob(train_path + \"/*\"))\n",
    "print(\"Number Of Class: \", numberOfClass)\n",
    "\n",
    "# Prepare the datasef for vgg16\n",
    "train_data = ImageDataGenerator().flow_from_directory(train_path, target_size = (224,224))\n",
    "print(type(train_data))\n",
    "test_data = ImageDataGenerator().flow_from_directory(test_path, target_size = (224,224))"
   ]
  },
  {
   "cell_type": "code",
   "execution_count": 32,
   "metadata": {},
   "outputs": [
    {
     "name": "stdout",
     "output_type": "stream",
     "text": [
      "[ 214.3 3034.  4681.6  111.5    0.  5764.5 6993.  7891.4 5227.  5149.8]\n"
     ]
    },
    {
     "data": {
      "text/plain": [
       "<matplotlib.image.AxesImage at 0x198be0e4e50>"
      ]
     },
     "execution_count": 32,
     "metadata": {},
     "output_type": "execute_result"
    },
    {
     "data": {
      "image/png": "[encoded data removed]",
      "text/plain": [
       "<Figure size 640x480 with 1 Axes>"
      ]
     },
     "metadata": {},
     "output_type": "display_data"
    }
   ],
   "source": [
    "training_set = []\n",
    "test_set = []\n",
    "\n",
    "choice = np.random.choice(range(allPixel3.shape[0]), size=(790,), replace=False)    \n",
    "ind = np.zeros(allPixel3.shape[0], dtype=bool)\n",
    "ind[choice] = True\n",
    "rest = ~ind\n",
    "\n",
    "training_setX = allPixel3[ind,:,:]\n",
    "test_setX = allPixel3[rest,:,:]\n",
    "\n",
    "training_setY = newResa3[ind]\n",
    "test_setY = newResa3[rest]\n",
    "\n",
    "training_setX = np.array(training_setX)\n",
    "test_setX = np.array(test_setX)\n",
    "\n",
    "training_setY = np.array(training_setY)\n",
    "test_setY = np.array(test_setY)\n",
    "\n",
    "'''print(training_setX.shape)\n",
    "print(test_setX.shape)\n",
    "print(training_setY.shape)\n",
    "print(test_setY.shape)'''\n",
    "print(training_setY[10:20])\n",
    "plt.imshow(np.transpose(training_setX[0,:,:]))"
   ]
  },
  {
   "attachments": {},
   "cell_type": "markdown",
   "metadata": {},
   "source": [
    "# Creazione del modello di Vgg16"
   ]
  },
  {
   "cell_type": "code",
   "execution_count": 44,
   "metadata": {},
   "outputs": [],
   "source": [
    "# Import model\n",
    "#vgg16 = VGG16(input_shape=(allPixel3.shape[1],allPixel3.shape[2],3),include_top=False)\n",
    "\n",
    "# Import model\n",
    "vgg16 = VGG16()"
   ]
  },
  {
   "cell_type": "code",
   "execution_count": 45,
   "metadata": {},
   "outputs": [
    {
     "name": "stdout",
     "output_type": "stream",
     "text": [
      "Model: \"vgg16\"\n",
      "_________________________________________________________________\n",
      " Layer (type)                Output Shape              Param #   \n",
      "=================================================================\n",
      " input_1 (InputLayer)        [(None, 224, 224, 3)]     0         \n",
      "                                                                 \n",
      " block1_conv1 (Conv2D)       (None, 224, 224, 64)      1792      \n",
      "                                                                 \n",
      " block1_conv2 (Conv2D)       (None, 224, 224, 64)      36928     \n",
      "                                                                 \n",
      " block1_pool (MaxPooling2D)  (None, 112, 112, 64)      0         \n",
      "                                                                 \n",
      " block2_conv1 (Conv2D)       (None, 112, 112, 128)     73856     \n",
      "                                                                 \n",
      " block2_conv2 (Conv2D)       (None, 112, 112, 128)     147584    \n",
      "                                                                 \n",
      " block2_pool (MaxPooling2D)  (None, 56, 56, 128)       0         \n",
      "                                                                 \n",
      " block3_conv1 (Conv2D)       (None, 56, 56, 256)       295168    \n",
      "                                                                 \n",
      " block3_conv2 (Conv2D)       (None, 56, 56, 256)       590080    \n",
      "                                                                 \n",
      " block3_conv3 (Conv2D)       (None, 56, 56, 256)       590080    \n",
      "                                                                 \n",
      " block3_pool (MaxPooling2D)  (None, 28, 28, 256)       0         \n",
      "                                                                 \n",
      " block4_conv1 (Conv2D)       (None, 28, 28, 512)       1180160   \n",
      "                                                                 \n",
      " block4_conv2 (Conv2D)       (None, 28, 28, 512)       2359808   \n",
      "                                                                 \n",
      " block4_conv3 (Conv2D)       (None, 28, 28, 512)       2359808   \n",
      "                                                                 \n",
      " block4_pool (MaxPooling2D)  (None, 14, 14, 512)       0         \n",
      "                                                                 \n",
      " block5_conv1 (Conv2D)       (None, 14, 14, 512)       2359808   \n",
      "                                                                 \n",
      " block5_conv2 (Conv2D)       (None, 14, 14, 512)       2359808   \n",
      "                                                                 \n",
      " block5_conv3 (Conv2D)       (None, 14, 14, 512)       2359808   \n",
      "                                                                 \n",
      " block5_pool (MaxPooling2D)  (None, 7, 7, 512)         0         \n",
      "                                                                 \n",
      " flatten (Flatten)           (None, 25088)             0         \n",
      "                                                                 \n",
      " fc1 (Dense)                 (None, 4096)              102764544 \n",
      "                                                                 \n",
      " fc2 (Dense)                 (None, 4096)              16781312  \n",
      "                                                                 \n",
      " predictions (Dense)         (None, 1000)              4097000   \n",
      "                                                                 \n",
      "=================================================================\n",
      "Total params: 138,357,544\n",
      "Trainable params: 138,357,544\n",
      "Non-trainable params: 0\n",
      "_________________________________________________________________\n"
     ]
    }
   ],
   "source": [
    "# Layers of vgg16 \n",
    "vgg16.summary()"
   ]
  },
  {
   "cell_type": "code",
   "execution_count": 46,
   "metadata": {},
   "outputs": [
    {
     "name": "stdout",
     "output_type": "stream",
     "text": [
      "<keras.engine.input_layer.InputLayer object at 0x000001994862F400>\n",
      "<keras.layers.convolutional.conv2d.Conv2D object at 0x000001993E5E2B50>\n",
      "<keras.layers.convolutional.conv2d.Conv2D object at 0x000001993E5E2A60>\n",
      "<keras.layers.pooling.max_pooling2d.MaxPooling2D object at 0x000001993E5D2430>\n",
      "<keras.layers.convolutional.conv2d.Conv2D object at 0x000001993E705A90>\n",
      "<keras.layers.convolutional.conv2d.Conv2D object at 0x000001993E705F40>\n",
      "<keras.layers.pooling.max_pooling2d.MaxPooling2D object at 0x0000019926AC3EB0>\n",
      "<keras.layers.convolutional.conv2d.Conv2D object at 0x0000019926AC3FD0>\n",
      "<keras.layers.convolutional.conv2d.Conv2D object at 0x000001993E7693D0>\n",
      "<keras.layers.convolutional.conv2d.Conv2D object at 0x000001993E705EE0>\n",
      "<keras.layers.pooling.max_pooling2d.MaxPooling2D object at 0x000001993E766160>\n",
      "<keras.layers.convolutional.conv2d.Conv2D object at 0x000001993E766220>\n",
      "<keras.layers.convolutional.conv2d.Conv2D object at 0x000001993E775CA0>\n",
      "<keras.layers.convolutional.conv2d.Conv2D object at 0x000001993E775BE0>\n",
      "<keras.layers.pooling.max_pooling2d.MaxPooling2D object at 0x000001993E766250>\n",
      "<keras.layers.convolutional.conv2d.Conv2D object at 0x000001993E785220>\n",
      "<keras.layers.convolutional.conv2d.Conv2D object at 0x000001993E785D00>\n",
      "<keras.layers.convolutional.conv2d.Conv2D object at 0x000001993E785640>\n",
      "<keras.layers.pooling.max_pooling2d.MaxPooling2D object at 0x000001993E794520>\n",
      "<keras.layers.reshaping.flatten.Flatten object at 0x000001993E794BB0>\n",
      "<keras.layers.core.dense.Dense object at 0x000001993E78FDF0>\n",
      "<keras.layers.core.dense.Dense object at 0x000001993E7668E0>\n",
      "<keras.layers.core.dense.Dense object at 0x000001993E79C640>\n"
     ]
    }
   ],
   "source": [
    "# layers of vgg16\n",
    "vgg16_layer_list = vgg16.layers\n",
    "for i in vgg16_layer_list:\n",
    "    print(i)"
   ]
  },
  {
   "cell_type": "code",
   "execution_count": 47,
   "metadata": {},
   "outputs": [],
   "source": [
    "# add the layers of vgg16 in my created model.\n",
    "vgg16Model = Sequential()\n",
    "for i in range(len(vgg16_layer_list)-1):\n",
    "    vgg16Model.add(vgg16_layer_list[i])"
   ]
  },
  {
   "cell_type": "code",
   "execution_count": 48,
   "metadata": {},
   "outputs": [],
   "source": [
    "# Close the layers of vgg16\n",
    "for layers in vgg16Model.layers:\n",
    "    layers.trainable = False"
   ]
  },
  {
   "cell_type": "code",
   "execution_count": 49,
   "metadata": {},
   "outputs": [],
   "source": [
    "# Last layer\n",
    "#vgg16Model.add(Dense(units=1))\n",
    "\n",
    "vgg16Model.add(Dense(numberOfClass, activation = \"softmax\"))"
   ]
  },
  {
   "cell_type": "code",
   "execution_count": 50,
   "metadata": {},
   "outputs": [
    {
     "name": "stdout",
     "output_type": "stream",
     "text": [
      "Model: \"sequential\"\n",
      "_________________________________________________________________\n",
      " Layer (type)                Output Shape              Param #   \n",
      "=================================================================\n",
      " block1_conv1 (Conv2D)       (None, 224, 224, 64)      1792      \n",
      "                                                                 \n",
      " block1_conv2 (Conv2D)       (None, 224, 224, 64)      36928     \n",
      "                                                                 \n",
      " block1_pool (MaxPooling2D)  (None, 112, 112, 64)      0         \n",
      "                                                                 \n",
      " block2_conv1 (Conv2D)       (None, 112, 112, 128)     73856     \n",
      "                                                                 \n",
      " block2_conv2 (Conv2D)       (None, 112, 112, 128)     147584    \n",
      "                                                                 \n",
      " block2_pool (MaxPooling2D)  (None, 56, 56, 128)       0         \n",
      "                                                                 \n",
      " block3_conv1 (Conv2D)       (None, 56, 56, 256)       295168    \n",
      "                                                                 \n",
      " block3_conv2 (Conv2D)       (None, 56, 56, 256)       590080    \n",
      "                                                                 \n",
      " block3_conv3 (Conv2D)       (None, 56, 56, 256)       590080    \n",
      "                                                                 \n",
      " block3_pool (MaxPooling2D)  (None, 28, 28, 256)       0         \n",
      "                                                                 \n",
      " block4_conv1 (Conv2D)       (None, 28, 28, 512)       1180160   \n",
      "                                                                 \n",
      " block4_conv2 (Conv2D)       (None, 28, 28, 512)       2359808   \n",
      "                                                                 \n",
      " block4_conv3 (Conv2D)       (None, 28, 28, 512)       2359808   \n",
      "                                                                 \n",
      " block4_pool (MaxPooling2D)  (None, 14, 14, 512)       0         \n",
      "                                                                 \n",
      " block5_conv1 (Conv2D)       (None, 14, 14, 512)       2359808   \n",
      "                                                                 \n",
      " block5_conv2 (Conv2D)       (None, 14, 14, 512)       2359808   \n",
      "                                                                 \n",
      " block5_conv3 (Conv2D)       (None, 14, 14, 512)       2359808   \n",
      "                                                                 \n",
      " block5_pool (MaxPooling2D)  (None, 7, 7, 512)         0         \n",
      "                                                                 \n",
      " flatten (Flatten)           (None, 25088)             0         \n",
      "                                                                 \n",
      " fc1 (Dense)                 (None, 4096)              102764544 \n",
      "                                                                 \n",
      " fc2 (Dense)                 (None, 4096)              16781312  \n",
      "                                                                 \n",
      " dense (Dense)               (None, 2)                 8194      \n",
      "                                                                 \n",
      "=================================================================\n",
      "Total params: 134,268,738\n",
      "Trainable params: 8,194\n",
      "Non-trainable params: 134,260,544\n",
      "_________________________________________________________________\n"
     ]
    }
   ],
   "source": [
    "# After I added last layer in created model.\n",
    "vgg16Model.summary()"
   ]
  },
  {
   "cell_type": "code",
   "execution_count": 51,
   "metadata": {},
   "outputs": [],
   "source": [
    "# I create compile part.\n",
    "vgg16Model.compile(loss = \"categorical_crossentropy\",\n",
    "             optimizer = \"rmsprop\",\n",
    "             metrics = [\"accuracy\"])"
   ]
  },
  {
   "attachments": {},
   "cell_type": "markdown",
   "metadata": {},
   "source": [
    "# Training Model "
   ]
  },
  {
   "cell_type": "code",
   "execution_count": 56,
   "metadata": {},
   "outputs": [
    {
     "name": "stdout",
     "output_type": "stream",
     "text": [
      "Epoch 1/3\n",
      "41/41 [==============================] - 220s 5s/step - loss: 0.3556 - accuracy: 0.9072 - val_loss: 0.1770 - val_accuracy: 0.9656\n",
      "Epoch 2/3\n",
      "41/41 [==============================] - 212s 5s/step - loss: 0.3504 - accuracy: 0.9312 - val_loss: 0.1726 - val_accuracy: 0.9656\n",
      "Epoch 3/3\n",
      "41/41 [==============================] - 209s 5s/step - loss: 0.3494 - accuracy: 0.9265 - val_loss: 0.1763 - val_accuracy: 0.9656\n"
     ]
    }
   ],
   "source": [
    "# Traning with model\n",
    "batch_size = 32\n",
    "\n",
    "hist_vgg16 = vgg16Model.fit(train_data, \n",
    "                                epochs = 3, \n",
    "                                validation_data = test_data\n",
    "                                )"
   ]
  },
  {
   "cell_type": "code",
   "execution_count": 34,
   "metadata": {},
   "outputs": [],
   "source": [
    "# Save the weights of model\n",
    "vgg16Model.save_weights(\"deneme.h5\")"
   ]
  },
  {
   "attachments": {},
   "cell_type": "markdown",
   "metadata": {},
   "source": [
    "# Andiamo a visualizzare i risultati della rete"
   ]
  },
  {
   "cell_type": "code",
   "execution_count": 57,
   "metadata": {},
   "outputs": [
    {
     "data": {
      "image/png": "[encoded data removed]",
      "text/plain": [
       "<Figure size 640x480 with 1 Axes>"
      ]
     },
     "metadata": {},
     "output_type": "display_data"
    }
   ],
   "source": [
    "# Loss and Validation Loss\n",
    "plt.plot(hist_vgg16.history[\"loss\"], label = \"training loss\")\n",
    "plt.plot(hist_vgg16.history[\"val_loss\"], label = \"validation loss\")\n",
    "plt.legend()\n",
    "plt.show()"
   ]
  },
  {
   "cell_type": "code",
   "execution_count": 58,
   "metadata": {},
   "outputs": [
    {
     "data": {
      "image/png": "[encoded data removed]",
      "text/plain": [
       "<Figure size 640x480 with 1 Axes>"
      ]
     },
     "metadata": {},
     "output_type": "display_data"
    }
   ],
   "source": [
    "# Accuracy and Validation Accuracy\n",
    "plt.plot(hist_vgg16.history[\"accuracy\"], label = \"accuracy\")\n",
    "plt.plot(hist_vgg16.history[\"val_accuracy\"], label = \"validation accuracy\")\n",
    "plt.legend()\n",
    "plt.show()"
   ]
  },
  {
   "attachments": {},
   "cell_type": "markdown",
   "metadata": {},
   "source": [
    "# Salviamo e carichiamo i risultati"
   ]
  },
  {
   "cell_type": "code",
   "execution_count": 37,
   "metadata": {},
   "outputs": [],
   "source": [
    "import json, codecs\n",
    "with open(\"deneme.json\",\"w\") as f:\n",
    "    json.dump(hist_vgg16.history, f)"
   ]
  },
  {
   "cell_type": "code",
   "execution_count": 38,
   "metadata": {},
   "outputs": [],
   "source": [
    "with codecs.open(\"./deneme.json\",\"r\", encoding = \"utf-8\") as f:\n",
    "    load_result = json.loads(f.read())"
   ]
  },
  {
   "cell_type": "code",
   "execution_count": 39,
   "metadata": {},
   "outputs": [
    {
     "data": {
      "text/plain": [
       "{'loss': [0.7054945230484009,\n",
       "  0.5136629343032837,\n",
       "  0.3976057469844818,\n",
       "  0.4307115972042084,\n",
       "  0.3863684833049774,\n",
       "  0.3716677725315094,\n",
       "  0.40057018399238586,\n",
       "  0.3416111469268799,\n",
       "  0.40405699610710144,\n",
       "  0.28724029660224915],\n",
       " 'accuracy': [0.7649999856948853,\n",
       "  0.828125,\n",
       "  0.8637499809265137,\n",
       "  0.8662499785423279,\n",
       "  0.8799999952316284,\n",
       "  0.8837500214576721,\n",
       "  0.8650000095367432,\n",
       "  0.8962500095367432,\n",
       "  0.8731250166893005,\n",
       "  0.9043750166893005],\n",
       " 'val_loss': [0.5836769342422485,\n",
       "  0.3789961338043213,\n",
       "  0.37915927171707153,\n",
       "  0.38540345430374146,\n",
       "  0.42800384759902954,\n",
       "  0.3940734565258026,\n",
       "  0.39924734830856323,\n",
       "  0.41608214378356934,\n",
       "  0.3162184953689575,\n",
       "  0.40526703000068665],\n",
       " 'val_accuracy': [0.7749999761581421,\n",
       "  0.8575000166893005,\n",
       "  0.875,\n",
       "  0.8725000023841858,\n",
       "  0.8637499809265137,\n",
       "  0.8725000023841858,\n",
       "  0.8799999952316284,\n",
       "  0.8587499856948853,\n",
       "  0.9012500047683716,\n",
       "  0.8799999952316284]}"
      ]
     },
     "execution_count": 39,
     "metadata": {},
     "output_type": "execute_result"
    }
   ],
   "source": [
    "load_result"
   ]
  },
  {
   "cell_type": "code",
   "execution_count": null,
   "metadata": {},
   "outputs": [],
   "source": [
    "# Loss And Validation Loss\n",
    "plt.plot(load_result[\"loss\"], label = \"training loss\")\n",
    "plt.plot(load_result[\"val_loss\"], label = \"validation loss\")\n",
    "plt.legend()\n",
    "plt.show()"
   ]
  },
  {
   "cell_type": "code",
   "execution_count": 41,
   "metadata": {},
   "outputs": [
    {
     "data": {
      "image/png": "[encoded data removed]",
      "text/plain": [
       "<Figure size 640x480 with 1 Axes>"
      ]
     },
     "metadata": {},
     "output_type": "display_data"
    }
   ],
   "source": [
    "plt.plot(load_result[\"accuracy\"], label = \"accuracy\")\n",
    "plt.plot(load_result[\"val_accuracy\"], label = \"validation accuracy\")\n",
    "plt.legend()\n",
    "plt.show()"
   ]
  },
  {
   "attachments": {},
   "cell_type": "markdown",
   "metadata": {},
   "source": [
    "# Vgg19"
   ]
  },
  {
   "cell_type": "code",
   "execution_count": 8,
   "metadata": {},
   "outputs": [
    {
     "name": "stdout",
     "output_type": "stream",
     "text": [
      "Downloading data from https://storage.googleapis.com/tensorflow/keras-applications/vgg19/vgg19_weights_tf_dim_ordering_tf_kernels.h5\n",
      "574710816/574710816 [==============================] - 114s 0us/step\n"
     ]
    }
   ],
   "source": [
    "# Import VGG19 model\n",
    "vgg19 = VGG19()"
   ]
  },
  {
   "cell_type": "code",
   "execution_count": 9,
   "metadata": {},
   "outputs": [
    {
     "name": "stdout",
     "output_type": "stream",
     "text": [
      "Model: \"vgg19\"\n",
      "_________________________________________________________________\n",
      " Layer (type)                Output Shape              Param #   \n",
      "=================================================================\n",
      " input_1 (InputLayer)        [(None, 224, 224, 3)]     0         \n",
      "                                                                 \n",
      " block1_conv1 (Conv2D)       (None, 224, 224, 64)      1792      \n",
      "                                                                 \n",
      " block1_conv2 (Conv2D)       (None, 224, 224, 64)      36928     \n",
      "                                                                 \n",
      " block1_pool (MaxPooling2D)  (None, 112, 112, 64)      0         \n",
      "                                                                 \n",
      " block2_conv1 (Conv2D)       (None, 112, 112, 128)     73856     \n",
      "                                                                 \n",
      " block2_conv2 (Conv2D)       (None, 112, 112, 128)     147584    \n",
      "                                                                 \n",
      " block2_pool (MaxPooling2D)  (None, 56, 56, 128)       0         \n",
      "                                                                 \n",
      " block3_conv1 (Conv2D)       (None, 56, 56, 256)       295168    \n",
      "                                                                 \n",
      " block3_conv2 (Conv2D)       (None, 56, 56, 256)       590080    \n",
      "                                                                 \n",
      " block3_conv3 (Conv2D)       (None, 56, 56, 256)       590080    \n",
      "                                                                 \n",
      " block3_conv4 (Conv2D)       (None, 56, 56, 256)       590080    \n",
      "                                                                 \n",
      " block3_pool (MaxPooling2D)  (None, 28, 28, 256)       0         \n",
      "                                                                 \n",
      " block4_conv1 (Conv2D)       (None, 28, 28, 512)       1180160   \n",
      "                                                                 \n",
      " block4_conv2 (Conv2D)       (None, 28, 28, 512)       2359808   \n",
      "                                                                 \n",
      " block4_conv3 (Conv2D)       (None, 28, 28, 512)       2359808   \n",
      "                                                                 \n",
      " block4_conv4 (Conv2D)       (None, 28, 28, 512)       2359808   \n",
      "                                                                 \n",
      " block4_pool (MaxPooling2D)  (None, 14, 14, 512)       0         \n",
      "                                                                 \n",
      " block5_conv1 (Conv2D)       (None, 14, 14, 512)       2359808   \n",
      "                                                                 \n",
      " block5_conv2 (Conv2D)       (None, 14, 14, 512)       2359808   \n",
      "                                                                 \n",
      " block5_conv3 (Conv2D)       (None, 14, 14, 512)       2359808   \n",
      "                                                                 \n",
      " block5_conv4 (Conv2D)       (None, 14, 14, 512)       2359808   \n",
      "                                                                 \n",
      " block5_pool (MaxPooling2D)  (None, 7, 7, 512)         0         \n",
      "                                                                 \n",
      " flatten (Flatten)           (None, 25088)             0         \n",
      "                                                                 \n",
      " fc1 (Dense)                 (None, 4096)              102764544 \n",
      "                                                                 \n",
      " fc2 (Dense)                 (None, 4096)              16781312  \n",
      "                                                                 \n",
      " predictions (Dense)         (None, 1000)              4097000   \n",
      "                                                                 \n",
      "=================================================================\n",
      "Total params: 143,667,240\n",
      "Trainable params: 143,667,240\n",
      "Non-trainable params: 0\n",
      "_________________________________________________________________\n"
     ]
    }
   ],
   "source": [
    "# Layers of vgg19\n",
    "vgg19.summary()"
   ]
  },
  {
   "cell_type": "code",
   "execution_count": 10,
   "metadata": {},
   "outputs": [
    {
     "name": "stdout",
     "output_type": "stream",
     "text": [
      "<keras.engine.input_layer.InputLayer object at 0x00000235FECF37F0>\n",
      "<keras.layers.convolutional.conv2d.Conv2D object at 0x00000235FF4E2790>\n",
      "<keras.layers.convolutional.conv2d.Conv2D object at 0x00000235FF93F5E0>\n",
      "<keras.layers.pooling.max_pooling2d.MaxPooling2D object at 0x00000235FF948550>\n",
      "<keras.layers.convolutional.conv2d.Conv2D object at 0x00000235FFA2CC10>\n",
      "<keras.layers.convolutional.conv2d.Conv2D object at 0x00000235FFA3CF40>\n",
      "<keras.layers.pooling.max_pooling2d.MaxPooling2D object at 0x00000235FFA3C6A0>\n",
      "<keras.layers.convolutional.conv2d.Conv2D object at 0x00000235FFA41610>\n",
      "<keras.layers.convolutional.conv2d.Conv2D object at 0x00000235FFA440A0>\n",
      "<keras.layers.convolutional.conv2d.Conv2D object at 0x00000235FFA44C40>\n",
      "<keras.layers.convolutional.conv2d.Conv2D object at 0x00000235FF948DF0>\n",
      "<keras.layers.pooling.max_pooling2d.MaxPooling2D object at 0x00000235FFA48CD0>\n",
      "<keras.layers.convolutional.conv2d.Conv2D object at 0x00000235FFA45850>\n",
      "<keras.layers.convolutional.conv2d.Conv2D object at 0x00000235FFA45940>\n",
      "<keras.layers.convolutional.conv2d.Conv2D object at 0x00000235FFA44700>\n",
      "<keras.layers.convolutional.conv2d.Conv2D object at 0x0000023580FD28E0>\n",
      "<keras.layers.pooling.max_pooling2d.MaxPooling2D object at 0x0000023580FD2730>\n",
      "<keras.layers.convolutional.conv2d.Conv2D object at 0x0000023580FD7D30>\n",
      "<keras.layers.convolutional.conv2d.Conv2D object at 0x0000023580FDA7C0>\n",
      "<keras.layers.convolutional.conv2d.Conv2D object at 0x0000023580FDAB80>\n",
      "<keras.layers.convolutional.conv2d.Conv2D object at 0x0000023580FDEA90>\n",
      "<keras.layers.pooling.max_pooling2d.MaxPooling2D object at 0x0000023580FE53A0>\n",
      "<keras.layers.reshaping.flatten.Flatten object at 0x0000023580FE5880>\n",
      "<keras.layers.core.dense.Dense object at 0x0000023580FDED30>\n",
      "<keras.layers.core.dense.Dense object at 0x0000023580FE8730>\n",
      "<keras.layers.core.dense.Dense object at 0x0000023580FEDE80>\n"
     ]
    }
   ],
   "source": [
    "# Layers of vgg19 \n",
    "vgg19_layer_list = vgg19.layers\n",
    "for i in vgg19_layer_list:\n",
    "    print(i)"
   ]
  },
  {
   "cell_type": "code",
   "execution_count": 11,
   "metadata": {},
   "outputs": [],
   "source": [
    "# add the layers of vgg16 in my created model.\n",
    "vgg19Model = Sequential()\n",
    "for i in range(len(vgg19_layer_list)-1):\n",
    "    vgg19Model.add(vgg19_layer_list[i])"
   ]
  },
  {
   "cell_type": "code",
   "execution_count": 12,
   "metadata": {},
   "outputs": [
    {
     "name": "stdout",
     "output_type": "stream",
     "text": [
      "Model: \"sequential\"\n",
      "_________________________________________________________________\n",
      " Layer (type)                Output Shape              Param #   \n",
      "=================================================================\n",
      " block1_conv1 (Conv2D)       (None, 224, 224, 64)      1792      \n",
      "                                                                 \n",
      " block1_conv2 (Conv2D)       (None, 224, 224, 64)      36928     \n",
      "                                                                 \n",
      " block1_pool (MaxPooling2D)  (None, 112, 112, 64)      0         \n",
      "                                                                 \n",
      " block2_conv1 (Conv2D)       (None, 112, 112, 128)     73856     \n",
      "                                                                 \n",
      " block2_conv2 (Conv2D)       (None, 112, 112, 128)     147584    \n",
      "                                                                 \n",
      " block2_pool (MaxPooling2D)  (None, 56, 56, 128)       0         \n",
      "                                                                 \n",
      " block3_conv1 (Conv2D)       (None, 56, 56, 256)       295168    \n",
      "                                                                 \n",
      " block3_conv2 (Conv2D)       (None, 56, 56, 256)       590080    \n",
      "                                                                 \n",
      " block3_conv3 (Conv2D)       (None, 56, 56, 256)       590080    \n",
      "                                                                 \n",
      " block3_conv4 (Conv2D)       (None, 56, 56, 256)       590080    \n",
      "                                                                 \n",
      " block3_pool (MaxPooling2D)  (None, 28, 28, 256)       0         \n",
      "                                                                 \n",
      " block4_conv1 (Conv2D)       (None, 28, 28, 512)       1180160   \n",
      "                                                                 \n",
      " block4_conv2 (Conv2D)       (None, 28, 28, 512)       2359808   \n",
      "                                                                 \n",
      " block4_conv3 (Conv2D)       (None, 28, 28, 512)       2359808   \n",
      "                                                                 \n",
      " block4_conv4 (Conv2D)       (None, 28, 28, 512)       2359808   \n",
      "                                                                 \n",
      " block4_pool (MaxPooling2D)  (None, 14, 14, 512)       0         \n",
      "                                                                 \n",
      " block5_conv1 (Conv2D)       (None, 14, 14, 512)       2359808   \n",
      "                                                                 \n",
      " block5_conv2 (Conv2D)       (None, 14, 14, 512)       2359808   \n",
      "                                                                 \n",
      " block5_conv3 (Conv2D)       (None, 14, 14, 512)       2359808   \n",
      "                                                                 \n",
      " block5_conv4 (Conv2D)       (None, 14, 14, 512)       2359808   \n",
      "                                                                 \n",
      " block5_pool (MaxPooling2D)  (None, 7, 7, 512)         0         \n",
      "                                                                 \n",
      " flatten (Flatten)           (None, 25088)             0         \n",
      "                                                                 \n",
      " fc1 (Dense)                 (None, 4096)              102764544 \n",
      "                                                                 \n",
      " fc2 (Dense)                 (None, 4096)              16781312  \n",
      "                                                                 \n",
      "=================================================================\n",
      "Total params: 139,570,240\n",
      "Trainable params: 139,570,240\n",
      "Non-trainable params: 0\n",
      "_________________________________________________________________\n"
     ]
    }
   ],
   "source": [
    "# Finish version of my created model.\n",
    "vgg19Model.summary()"
   ]
  },
  {
   "cell_type": "code",
   "execution_count": 13,
   "metadata": {},
   "outputs": [],
   "source": [
    "# Close the layers of vgg16\n",
    "for layers in vgg19Model.layers:\n",
    "    layers.trainable = False"
   ]
  },
  {
   "cell_type": "code",
   "execution_count": 14,
   "metadata": {},
   "outputs": [],
   "source": [
    "# Last layer\n",
    "vgg19Model.add(Dense(numberOfClass, activation = \"softmax\"))"
   ]
  },
  {
   "cell_type": "code",
   "execution_count": 15,
   "metadata": {},
   "outputs": [
    {
     "name": "stdout",
     "output_type": "stream",
     "text": [
      "Model: \"sequential\"\n",
      "_________________________________________________________________\n",
      " Layer (type)                Output Shape              Param #   \n",
      "=================================================================\n",
      " block1_conv1 (Conv2D)       (None, 224, 224, 64)      1792      \n",
      "                                                                 \n",
      " block1_conv2 (Conv2D)       (None, 224, 224, 64)      36928     \n",
      "                                                                 \n",
      " block1_pool (MaxPooling2D)  (None, 112, 112, 64)      0         \n",
      "                                                                 \n",
      " block2_conv1 (Conv2D)       (None, 112, 112, 128)     73856     \n",
      "                                                                 \n",
      " block2_conv2 (Conv2D)       (None, 112, 112, 128)     147584    \n",
      "                                                                 \n",
      " block2_pool (MaxPooling2D)  (None, 56, 56, 128)       0         \n",
      "                                                                 \n",
      " block3_conv1 (Conv2D)       (None, 56, 56, 256)       295168    \n",
      "                                                                 \n",
      " block3_conv2 (Conv2D)       (None, 56, 56, 256)       590080    \n",
      "                                                                 \n",
      " block3_conv3 (Conv2D)       (None, 56, 56, 256)       590080    \n",
      "                                                                 \n",
      " block3_conv4 (Conv2D)       (None, 56, 56, 256)       590080    \n",
      "                                                                 \n",
      " block3_pool (MaxPooling2D)  (None, 28, 28, 256)       0         \n",
      "                                                                 \n",
      " block4_conv1 (Conv2D)       (None, 28, 28, 512)       1180160   \n",
      "                                                                 \n",
      " block4_conv2 (Conv2D)       (None, 28, 28, 512)       2359808   \n",
      "                                                                 \n",
      " block4_conv3 (Conv2D)       (None, 28, 28, 512)       2359808   \n",
      "                                                                 \n",
      " block4_conv4 (Conv2D)       (None, 28, 28, 512)       2359808   \n",
      "                                                                 \n",
      " block4_pool (MaxPooling2D)  (None, 14, 14, 512)       0         \n",
      "                                                                 \n",
      " block5_conv1 (Conv2D)       (None, 14, 14, 512)       2359808   \n",
      "                                                                 \n",
      " block5_conv2 (Conv2D)       (None, 14, 14, 512)       2359808   \n",
      "                                                                 \n",
      " block5_conv3 (Conv2D)       (None, 14, 14, 512)       2359808   \n",
      "                                                                 \n",
      " block5_conv4 (Conv2D)       (None, 14, 14, 512)       2359808   \n",
      "                                                                 \n",
      " block5_pool (MaxPooling2D)  (None, 7, 7, 512)         0         \n",
      "                                                                 \n",
      " flatten (Flatten)           (None, 25088)             0         \n",
      "                                                                 \n",
      " fc1 (Dense)                 (None, 4096)              102764544 \n",
      "                                                                 \n",
      " fc2 (Dense)                 (None, 4096)              16781312  \n",
      "                                                                 \n",
      " dense (Dense)               (None, 6)                 24582     \n",
      "                                                                 \n",
      "=================================================================\n",
      "Total params: 139,594,822\n",
      "Trainable params: 24,582\n",
      "Non-trainable params: 139,570,240\n",
      "_________________________________________________________________\n"
     ]
    }
   ],
   "source": [
    "# the final version of the model\n",
    "vgg19Model.summary()"
   ]
  },
  {
   "cell_type": "code",
   "execution_count": 16,
   "metadata": {},
   "outputs": [],
   "source": [
    "# I create compile part.\n",
    "vgg19Model.compile(loss = \"categorical_crossentropy\",\n",
    "             optimizer = \"rmsprop\",\n",
    "             metrics = [\"accuracy\"])"
   ]
  },
  {
   "attachments": {},
   "cell_type": "markdown",
   "metadata": {},
   "source": [
    "# Addestramento"
   ]
  },
  {
   "cell_type": "code",
   "execution_count": 19,
   "metadata": {},
   "outputs": [
    {
     "name": "stdout",
     "output_type": "stream",
     "text": [
      "Epoch 1/10\n",
      "50/50 [==============================] - 700s 14s/step - loss: 0.6683 - accuracy: 0.7713 - val_loss: 0.4304 - val_accuracy: 0.8600\n",
      "Epoch 2/10\n",
      "50/50 [==============================] - 622s 12s/step - loss: 0.4122 - accuracy: 0.8581 - val_loss: 0.4579 - val_accuracy: 0.8550\n",
      "Epoch 3/10\n",
      "50/50 [==============================] - 313s 6s/step - loss: 0.4227 - accuracy: 0.8588 - val_loss: 0.4613 - val_accuracy: 0.8462\n",
      "Epoch 4/10\n",
      "50/50 [==============================] - 317s 6s/step - loss: 0.3969 - accuracy: 0.8744 - val_loss: 0.4060 - val_accuracy: 0.8687\n",
      "Epoch 5/10\n",
      "50/50 [==============================] - 395s 8s/step - loss: 0.3667 - accuracy: 0.8856 - val_loss: 0.5224 - val_accuracy: 0.8388\n",
      "Epoch 6/10\n",
      "50/50 [==============================] - 319s 6s/step - loss: 0.3512 - accuracy: 0.8794 - val_loss: 0.4440 - val_accuracy: 0.8625\n",
      "Epoch 7/10\n",
      "50/50 [==============================] - 318s 6s/step - loss: 0.3539 - accuracy: 0.8850 - val_loss: 0.4862 - val_accuracy: 0.8575\n",
      "Epoch 8/10\n",
      "50/50 [==============================] - 319s 6s/step - loss: 0.3385 - accuracy: 0.8938 - val_loss: 0.4008 - val_accuracy: 0.8737\n",
      "Epoch 9/10\n",
      "50/50 [==============================] - 319s 6s/step - loss: 0.3109 - accuracy: 0.8944 - val_loss: 0.3762 - val_accuracy: 0.8963\n",
      "Epoch 10/10\n",
      "50/50 [==============================] - 317s 6s/step - loss: 0.3093 - accuracy: 0.8922 - val_loss: 0.3956 - val_accuracy: 0.8737\n"
     ]
    }
   ],
   "source": [
    "# Traning with model\n",
    "batch_size = 32\n",
    "\n",
    "# Training with my created model\n",
    "hisy_vgg19 = vgg19Model.fit_generator(train_data,\n",
    "                               steps_per_epoch = 1600 // batch_size,\n",
    "                               epochs = 10,\n",
    "                               validation_data = test_data,\n",
    "                               validation_steps = 800 // batch_size)"
   ]
  },
  {
   "attachments": {},
   "cell_type": "markdown",
   "metadata": {},
   "source": [
    "# Visualizziamo i risultati ottenuti"
   ]
  },
  {
   "cell_type": "code",
   "execution_count": 20,
   "metadata": {},
   "outputs": [
    {
     "data": {
      "image/png": "[encoded data removed]",
      "text/plain": [
       "<Figure size 640x480 with 1 Axes>"
      ]
     },
     "metadata": {},
     "output_type": "display_data"
    }
   ],
   "source": [
    "# Loss And Validation Loss\n",
    "plt.plot(hisy_vgg19.history[\"loss\"], label = \"training loss\")\n",
    "plt.plot(hisy_vgg19.history[\"val_loss\"], label = \"validation loss\")\n",
    "plt.legend()\n",
    "plt.show()"
   ]
  },
  {
   "cell_type": "code",
   "execution_count": 21,
   "metadata": {},
   "outputs": [
    {
     "data": {
      "image/png": "[encoded data removed]",
      "text/plain": [
       "<Figure size 640x480 with 1 Axes>"
      ]
     },
     "metadata": {},
     "output_type": "display_data"
    }
   ],
   "source": [
    "# Accuracy And Validation Accuracy\n",
    "plt.plot(hisy_vgg19.history[\"accuracy\"], label = \"accuracy\")\n",
    "plt.plot(hisy_vgg19.history[\"val_accuracy\"], label = \"validation accuracy\")\n",
    "plt.legend()\n",
    "plt.show()"
   ]
  }
 ],
 "metadata": {
  "kernelspec": {
   "display_name": "agrivision",
   "language": "python",
   "name": "python3"
  },
  "language_info": {
   "codemirror_mode": {
    "name": "ipython",
    "version": 3
   },
   "file_extension": ".py",
   "mimetype": "text/x-python",
   "name": "python",
   "nbconvert_exporter": "python",
   "pygments_lexer": "ipython3",
   "version": "3.8.15"
  },
  "orig_nbformat": 4,
  "vscode": {
   "interpreter": {
    "hash": "033a2480c22a6a7c8c0f850d957c0585f369c429c8c308b563cd4dfd4620b21f"
   }
  }
 },
 "nbformat": 4,
 "nbformat_minor": 2
}
