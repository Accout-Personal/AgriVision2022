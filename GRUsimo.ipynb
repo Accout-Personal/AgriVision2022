{
  "cells": [
    {
      "cell_type": "code",
      "execution_count": 68,
      "metadata": {
        "colab": {
          "base_uri": "https://localhost:8080/"
        },
        "id": "NfwVc7l_Rp8V",
        "outputId": "1f2a80b6-5e0e-45b0-c716-4c1eb1322786"
      },
      "outputs": [
        {
          "name": "stdout",
          "output_type": "stream",
          "text": [
            "Nothing done.\n"
          ]
        }
      ],
      "source": [
        "%reset"
      ]
    },
    {
      "cell_type": "code",
      "execution_count": 69,
      "metadata": {
        "id": "Sr8dJ4tnFWoK"
      },
      "outputs": [],
      "source": [
        "#Change the values to run the experiment\n",
        "\n",
        "experiment = 1 #1-> BANKEX , 2 ->Activities\n",
        "f = 20 #Size of future window in days. Change f for the number of steps-ahead. 1 or 20.\n",
        "thepath = 'sample_data' #Change the path to where you want to save the models"
      ]
    },
    {
      "cell_type": "markdown",
      "metadata": {
        "id": "3zOtJLFRkR2S"
      },
      "source": [
        "Suggested citation: Velarde, G., Brañez, P., Bueno, A., Heredia, R., & Lopez, M. (Accepted). An Open-Source and Reproducible Implementation of GRU and LSTM Networks for Time Series Forecasting. ITISE CONFERENCE: 8th International Conference on Time Series and Forecasting, June 27th-30th, 2022.\n",
        "\n",
        "MIT License\n",
        "\n",
        "Copyright (c) [2021] [Gissel Velarde, Pedro Brañez, Alejandro Bueno, Rodrigo Heredia, & Mateo Lopez]\n",
        "\n",
        "Permission is hereby granted, free of charge, to any person obtaining a copy\n",
        "of this software and associated documentation files (the \"Software\"), to deal\n",
        "in the Software without restriction, including without limitation the rights\n",
        "to use, copy, modify, merge, publish, distribute, sublicense, and/or sell\n",
        "copies of the Software, and to permit persons to whom the Software is\n",
        "furnished to do so, subject to the following conditions:\n",
        "\n",
        "The above copyright notice and this permission notice shall be included in all\n",
        "copies or substantial portions of the Software.\n",
        "\n",
        "THE SOFTWARE IS PROVIDED \"AS IS\", WITHOUT WARRANTY OF ANY KIND, EXPRESS OR\n",
        "IMPLIED, INCLUDING BUT NOT LIMITED TO THE WARRANTIES OF MERCHANTABILITY,\n",
        "FITNESS FOR A PARTICULAR PURPOSE AND NONINFRINGEMENT. IN NO EVENT SHALL THE\n",
        "AUTHORS OR COPYRIGHT HOLDERS BE LIABLE FOR ANY CLAIM, DAMAGES OR OTHER\n",
        "LIABILITY, WHETHER IN AN ACTION OF CONTRACT, TORT OR OTHERWISE, ARISING FROM,\n",
        "OUT OF OR IN CONNECTION WITH THE SOFTWARE OR THE USE OR OTHER DEALINGS IN THE\n",
        "SOFTWARE."
      ]
    },
    {
      "cell_type": "code",
      "execution_count": 70,
      "metadata": {
        "id": "B3lbm0kTBMn9"
      },
      "outputs": [],
      "source": [
        "from numpy.random import seed\n",
        "import pickle\n",
        "seed(1)\n",
        "import tensorflow\n",
        "tensorflow.random.set_seed(2)\n",
        "import math\n",
        "import numpy as np\n",
        "import pandas as pd\n",
        "from sklearn.preprocessing import MinMaxScaler\n",
        "from keras.models import Sequential\n",
        "from keras.layers import Dense, LSTM, Dropout, GRU\n",
        "from numpy import genfromtxt\n",
        "from pandas_datareader import data as pdr\n",
        "import matplotlib.cm as cm\n",
        "import matplotlib.pyplot as plt\n",
        "from sklearn.metrics import mean_squared_error\n",
        "from scipy.stats import mannwhitneyu"
      ]
    },
    {
      "cell_type": "markdown",
      "metadata": {
        "id": "3ZAzbOWLKuFk"
      },
      "source": [
        "Definitions"
      ]
    },
    {
      "cell_type": "code",
      "execution_count": 71,
      "metadata": {
        "id": "liQKD6LwhuFy"
      },
      "outputs": [],
      "source": [
        "def GRU_Model(output_window):\n",
        "  model = Sequential()\n",
        "  model.add(GRU(128, return_sequences=False, input_shape=(X.shape[1],1)))\n",
        "  model.add(Dense(output_window))\n",
        "  model.compile(optimizer='adam', loss='mean_squared_error')\n",
        "  model.summary()\n",
        "  return model"
      ]
    },
    {
      "cell_type": "code",
      "execution_count": 72,
      "metadata": {
        "id": "lRT1KY3H8AiY"
      },
      "outputs": [],
      "source": [
        "def LSTM_Model(output_window):\n",
        "  model = Sequential()\n",
        "  model.add(LSTM(128, return_sequences=False, input_shape=(X.shape[1],1)))\n",
        "  model.add(Dense(output_window))\n",
        "  model.compile(optimizer='adam', loss='mean_squared_error')\n",
        "  model.summary()\n",
        "  return model"
      ]
    },
    {
      "cell_type": "code",
      "execution_count": 73,
      "metadata": {
        "id": "fAxvIxzqyHiw"
      },
      "outputs": [],
      "source": [
        "#Based on: Computer Science: Stock Price Prediction Using Python & Machine Learning. https://www.youtube.com/watch?v=QIUxPv5PJOY (2019), accessed 25 January,\n",
        "2022\n",
        "def data_preparation(w, scaled_data, N, f):\n",
        "  X=[]\n",
        "  window = w + f\n",
        "  Q = len(scaled_data)\n",
        "  for i in range(Q-window+1):\n",
        "    X.append(scaled_data[i:i+window, 0])\n",
        "\n",
        "  X = np.array(X)\n",
        "  X = np.reshape(X, (X.shape[0],X.shape[1],1))\n",
        "\n",
        "  trainX, trainY = X[0:N,0:w], X[0:N,w:w+f]\n",
        "  testX, testY = X[N:Q-w,0:w], X[N:Q-w,w:w+f]\n",
        "  X = trainX \n",
        "  return trainX, trainY, testX, testY, X"
      ]
    },
    {
      "cell_type": "code",
      "execution_count": 74,
      "metadata": {
        "id": "wbYjRiw3oWWL"
      },
      "outputs": [],
      "source": [
        "#Repeats the last known value f times\n",
        "def baselinef(U,f):\n",
        "  last = U.shape[0]\n",
        "  yhat = np.zeros((last, f))\n",
        "  for j in range(0,last):\n",
        "    yhat[j,0:f] = np.repeat(U[j,U.shape[1]-1], f)\n",
        "  return yhat"
      ]
    },
    {
      "cell_type": "code",
      "execution_count": 75,
      "metadata": {
        "id": "6tRsk9sWAbbV"
      },
      "outputs": [],
      "source": [
        "#Directional accuracy\n",
        "#From https://gist.github.com/bshishov/5dc237f59f019b26145648e2124ca1c9\n",
        "def mda(actual: np.ndarray, predicted: np.ndarray):\n",
        "  return np.mean((np.sign(actual[1:] - actual[:-1]) == np.sign(predicted[1:] - predicted[:-1])).astype(int))"
      ]
    },
    {
      "cell_type": "code",
      "execution_count": 76,
      "metadata": {
        "id": "EJypwuvq4UG8"
      },
      "outputs": [],
      "source": [
        "#Normalize data between 0 and 1\n",
        "def scaleit(DATAX):\n",
        "  mima = np.zeros((DATAX.shape[0], 2)) #To save min and max values\n",
        "  for i in range(DATAX.shape[0]):\n",
        "    mima[i,0],mima[i,1] = DATAX[i,:].min(), DATAX[i,:].max()\n",
        "    DATAX[i,:] = (DATAX[i,:]-DATAX[i,:].min())/(DATAX[i,:].max()-DATAX[i,:].min())\n",
        "  return DATAX, mima"
      ]
    },
    {
      "cell_type": "code",
      "execution_count": 77,
      "metadata": {
        "id": "6HfqXQz2Gr8e"
      },
      "outputs": [],
      "source": [
        "#Rescale to original values\n",
        "def rescaleit(y,mima,i):\n",
        "  yt = (y*(mima[i,1]-mima[i,0]))+mima[i,0]\n",
        "  return yt"
      ]
    },
    {
      "cell_type": "code",
      "execution_count": 78,
      "metadata": {
        "id": "t_xkvHWSHvw7"
      },
      "outputs": [],
      "source": [
        "#Based on https://stackoverflow.com/questions/12236566/setting-different-color-for-each-series-in-scatter-plot-on-matplotlib\n",
        "#This code is to plot series of different colors\n",
        "def plot_series(X):\n",
        "  x = np.arange(10)\n",
        "  ys = [i+x+(i*x)**2 for i in range(10)]\n",
        "  colors = cm.rainbow(np.linspace(0, 1, len(ys)))\n",
        "  for i in range(10):\n",
        "    plt.plot(X[i], label='%s ' % (i+1), color=colors[i,:])\n",
        "    plt.legend(bbox_to_anchor=(1.04,0.5), loc=\"center left\", borderaxespad=0)\n",
        "  plt.xlabel(\"Days\")\n",
        "  plt.ylabel(\"Closing Price\")"
      ]
    },
    {
      "cell_type": "code",
      "execution_count": 79,
      "metadata": {
        "id": "UbD2iCUg73x0"
      },
      "outputs": [],
      "source": [
        "#Statistical tests\n",
        "def statisticaltests(s):\n",
        "  print('LSTM and Baseline (RMSE)')\n",
        "  U1, p = mannwhitneyu(s[:,0],s[:,2], alternative = 'two-sided')\n",
        "  print('U='+ str(U1) + '. p = ' + str(p))\n",
        "  print('GRU and Baseline (RMSE)')\n",
        "  U1, p = mannwhitneyu(s[:,1],s[:,2], alternative = 'two-sided')\n",
        "  print('U='+ str(U1) + '. p = ' + str(p)) \n",
        "  print('LSTM and GRU (RMSE)')\n",
        "  U1, p = mannwhitneyu(s[:,0],s[:,1], alternative = 'two-sided')\n",
        "  print('U='+ str(U1) + '. p = ' + str(p))\n",
        "  print('LSTM and Baseline (DA)')\n",
        "  U1, p = mannwhitneyu(s[:,0+3],s[:,2+3], alternative = 'two-sided')\n",
        "  print('U='+ str(U1) + '. p = ' + str(p))\n",
        "  print('GRU and Baseline (DA)')\n",
        "  U1, p = mannwhitneyu(s[:,1+3],s[:,2+3], alternative = 'two-sided')\n",
        "  print('U='+ str(U1) + '. p = ' + str(p))\n",
        "  print('LSTM and GRU (DA)')\n",
        "  U1, p = mannwhitneyu(s[:,0+3],s[:,1+3], alternative = 'two-sided')\n",
        "  print('U='+ str(U1) + '. p = ' + str(p))"
      ]
    },
    {
      "cell_type": "code",
      "execution_count": 80,
      "metadata": {
        "id": "FvLPXzNj-kQ-"
      },
      "outputs": [
        {
          "name": "stdout",
          "output_type": "stream",
          "text": [
            "(10, 150)\n"
          ]
        },
        {
          "data": {
            "image/png": "[encoded data removed]",
            "text/plain": [
              "<Figure size 640x480 with 1 Axes>"
            ]
          },
          "execution_count": 80,
          "metadata": {},
          "output_type": "execute_result"
        },
        {
          "data": {
            "image/png": "[encoded data removed]",
            "text/plain": [
              "<Figure size 640x480 with 1 Axes>"
            ]
          },
          "metadata": {},
          "output_type": "display_data"
        }
      ],
      "source": [
        "with open('hdvi.pickle', 'rb') as handle:\n",
        "    NDVI = pickle.load(handle)\n",
        "DATAX = np.asarray([NDVI[30].data_matrix.flatten(),NDVI[31].data_matrix.flatten(),NDVI[32].data_matrix.flatten(),NDVI[33].data_matrix.flatten(),NDVI[34].data_matrix.flatten(),NDVI[35].data_matrix.flatten(),NDVI[36].data_matrix.flatten(),NDVI[37].data_matrix.flatten(),NDVI[38].data_matrix.flatten(),NDVI[39].data_matrix.flatten()])\n",
        "\n",
        "print(DATAX.shape)\n",
        "NDVI[30].plot()"
      ]
    },
    {
      "cell_type": "code",
      "execution_count": 81,
      "metadata": {
        "colab": {
          "base_uri": "https://localhost:8080/",
          "height": 279
        },
        "id": "pjc1DJGrHyzQ",
        "outputId": "1db2e183-53d0-424f-a6c0-f5a0e269a9c2"
      },
      "outputs": [
        {
          "data": {
            "image/png": "[encoded data removed]",
            "text/plain": [
              "<Figure size 640x480 with 1 Axes>"
            ]
          },
          "metadata": {},
          "output_type": "display_data"
        }
      ],
      "source": [
        "plot_series(DATAX)"
      ]
    },
    {
      "cell_type": "code",
      "execution_count": 89,
      "metadata": {
        "colab": {
          "base_uri": "https://localhost:8080/",
          "height": 279
        },
        "id": "kEwwotjs5QBx",
        "outputId": "fb70e936-0e3c-42cc-cd0a-93b900be3658"
      },
      "outputs": [
        {
          "name": "stdout",
          "output_type": "stream",
          "text": [
            "[[0. 1.]\n",
            " [0. 1.]\n",
            " [0. 1.]\n",
            " [0. 1.]\n",
            " [0. 1.]\n",
            " [0. 1.]\n",
            " [0. 1.]\n",
            " [0. 1.]\n",
            " [0. 1.]\n",
            " [0. 1.]]\n"
          ]
        },
        {
          "data": {
            "image/png": "[encoded data removed]",
            "text/plain": [
              "<Figure size 640x480 with 1 Axes>"
            ]
          },
          "metadata": {},
          "output_type": "display_data"
        }
      ],
      "source": [
        "#Normalize data between 0 and 1\n",
        "DATAX, mima = scaleit(DATAX)\n",
        "print(mima)\n",
        "plot_series(DATAX)"
      ]
    },
    {
      "cell_type": "code",
      "execution_count": 83,
      "metadata": {
        "colab": {
          "base_uri": "https://localhost:8080/"
        },
        "id": "SXG4j7O9_4cl",
        "outputId": "6ff56632-195b-450e-a542-8b906ceb6821"
      },
      "outputs": [
        {
          "data": {
            "text/plain": [
              "(150, 1)"
            ]
          },
          "execution_count": 83,
          "metadata": {},
          "output_type": "execute_result"
        }
      ],
      "source": [
        "selected_series = 0 #Select one signal arbitrarily to train the dataset\n",
        "scaled_data = DATAX[selected_series, :] \n",
        "scaled_data = np.reshape(scaled_data, (len(scaled_data),1)) \n",
        "scaled_data.shape"
      ]
    },
    {
      "cell_type": "code",
      "execution_count": 91,
      "metadata": {
        "id": "JJVWeJfxkJNw"
      },
      "outputs": [
        {
          "name": "stdout",
          "output_type": "stream",
          "text": [
            "70\n"
          ]
        }
      ],
      "source": [
        "#w < N < Q\n",
        "window = 30 #Size of the window in days\n",
        "test_samples = 50 #Number of test samples\n",
        "N = len(scaled_data) - test_samples - window\n",
        "print(N)"
      ]
    },
    {
      "cell_type": "code",
      "execution_count": 92,
      "metadata": {
        "id": "u_5j3BuIi1e8"
      },
      "outputs": [
        {
          "name": "stdout",
          "output_type": "stream",
          "text": [
            "<class 'numpy.ndarray'>\n",
            "[[[0.61358134]\n",
            "  [0.62569854]\n",
            "  [0.6374408 ]\n",
            "  ...\n",
            "  [0.79886322]\n",
            "  [0.81040196]\n",
            "  [0.82216871]]\n",
            "\n",
            " [[0.62569854]\n",
            "  [0.6374408 ]\n",
            "  [0.64886758]\n",
            "  ...\n",
            "  [0.81040196]\n",
            "  [0.82216871]\n",
            "  [0.83398809]]\n",
            "\n",
            " [[0.6374408 ]\n",
            "  [0.64886758]\n",
            "  [0.66002978]\n",
            "  ...\n",
            "  [0.82216871]\n",
            "  [0.83398809]\n",
            "  [0.84566802]]\n",
            "\n",
            " ...\n",
            "\n",
            " [[0.86275194]\n",
            "  [0.85307854]\n",
            "  [0.84321451]\n",
            "  ...\n",
            "  [0.69342116]\n",
            "  [0.68388448]\n",
            "  [0.6743418 ]]\n",
            "\n",
            " [[0.85307854]\n",
            "  [0.84321451]\n",
            "  [0.83335652]\n",
            "  ...\n",
            "  [0.68388448]\n",
            "  [0.6743418 ]\n",
            "  [0.66458659]]\n",
            "\n",
            " [[0.84321451]\n",
            "  [0.83335652]\n",
            "  [0.82365722]\n",
            "  ...\n",
            "  [0.6743418 ]\n",
            "  [0.66458659]\n",
            "  [0.65462734]]]\n"
          ]
        }
      ],
      "source": [
        "trainX, trainY, testX, testY, X = data_preparation(window, scaled_data, N,f)\n",
        "#print(trainX)\n",
        "#print(trainY.shape)\n",
        "print(type(trainX))\n",
        "print(trainY)"
      ]
    },
    {
      "cell_type": "code",
      "execution_count": 93,
      "metadata": {
        "colab": {
          "base_uri": "https://localhost:8080/"
        },
        "id": "3rs0JtdQi69v",
        "outputId": "e9451b6e-3ce9-4191-9014-c8e1e25a1da0"
      },
      "outputs": [
        {
          "name": "stdout",
          "output_type": "stream",
          "text": [
            "Model: \"sequential_6\"\n",
            "_________________________________________________________________\n",
            " Layer (type)                Output Shape              Param #   \n",
            "=================================================================\n",
            " lstm_3 (LSTM)               (None, 128)               66560     \n",
            "                                                                 \n",
            " dense_6 (Dense)             (None, 20)                2580      \n",
            "                                                                 \n",
            "=================================================================\n",
            "Total params: 69,140\n",
            "Trainable params: 69,140\n",
            "Non-trainable params: 0\n",
            "_________________________________________________________________\n",
            "Model: \"sequential_7\"\n",
            "_________________________________________________________________\n",
            " Layer (type)                Output Shape              Param #   \n",
            "=================================================================\n",
            " gru_3 (GRU)                 (None, 128)               50304     \n",
            "                                                                 \n",
            " dense_7 (Dense)             (None, 20)                2580      \n",
            "                                                                 \n",
            "=================================================================\n",
            "Total params: 52,884\n",
            "Trainable params: 52,884\n",
            "Non-trainable params: 0\n",
            "_________________________________________________________________\n"
          ]
        }
      ],
      "source": [
        "lstm_model = LSTM_Model(f)\n",
        "gru_model = GRU_Model(f)\n",
        "epochs = 200 "
      ]
    },
    {
      "cell_type": "code",
      "execution_count": 94,
      "metadata": {
        "colab": {
          "base_uri": "https://localhost:8080/"
        },
        "id": "2yO862nLAPZn",
        "outputId": "8810092a-68c1-42dc-d94f-8a47882eca64"
      },
      "outputs": [
        {
          "name": "stdout",
          "output_type": "stream",
          "text": [
            "Epoch 1/200\n",
            "3/3 [==============================] - 2s 20ms/step - loss: 0.7350\n",
            "Epoch 2/200\n",
            "3/3 [==============================] - 0s 17ms/step - loss: 0.5880\n",
            "Epoch 3/200\n",
            "3/3 [==============================] - 0s 16ms/step - loss: 0.3596\n",
            "Epoch 4/200\n",
            "3/3 [==============================] - 0s 16ms/step - loss: 0.1231\n",
            "Epoch 5/200\n",
            "3/3 [==============================] - 0s 16ms/step - loss: 0.0939\n",
            "Epoch 6/200\n",
            "3/3 [==============================] - 0s 12ms/step - loss: 0.0240\n",
            "Epoch 7/200\n",
            "3/3 [==============================] - 0s 16ms/step - loss: 0.0420\n",
            "Epoch 8/200\n",
            "3/3 [==============================] - 0s 16ms/step - loss: 0.0234\n",
            "Epoch 9/200\n",
            "3/3 [==============================] - 0s 16ms/step - loss: 0.0220\n",
            "Epoch 10/200\n",
            "3/3 [==============================] - 0s 17ms/step - loss: 0.0151\n",
            "Epoch 11/200\n",
            "3/3 [==============================] - 0s 12ms/step - loss: 0.0092\n",
            "Epoch 12/200\n",
            "3/3 [==============================] - 0s 17ms/step - loss: 0.0108\n",
            "Epoch 13/200\n",
            "3/3 [==============================] - 0s 16ms/step - loss: 0.0109\n",
            "Epoch 14/200\n",
            "3/3 [==============================] - 0s 16ms/step - loss: 0.0093\n",
            "Epoch 15/200\n",
            "3/3 [==============================] - 0s 16ms/step - loss: 0.0088\n",
            "Epoch 16/200\n",
            "3/3 [==============================] - 0s 16ms/step - loss: 0.0081\n",
            "Epoch 17/200\n",
            "3/3 [==============================] - 0s 16ms/step - loss: 0.0071\n",
            "Epoch 18/200\n",
            "3/3 [==============================] - 0s 16ms/step - loss: 0.0072\n",
            "Epoch 19/200\n",
            "3/3 [==============================] - 0s 12ms/step - loss: 0.0075\n",
            "Epoch 20/200\n",
            "3/3 [==============================] - 0s 12ms/step - loss: 0.0074\n",
            "Epoch 21/200\n",
            "3/3 [==============================] - 0s 13ms/step - loss: 0.0070\n",
            "Epoch 22/200\n",
            "3/3 [==============================] - 0s 16ms/step - loss: 0.0070\n",
            "Epoch 23/200\n",
            "3/3 [==============================] - 0s 13ms/step - loss: 0.0070\n",
            "Epoch 24/200\n",
            "3/3 [==============================] - 0s 15ms/step - loss: 0.0069\n",
            "Epoch 25/200\n",
            "3/3 [==============================] - 0s 20ms/step - loss: 0.0068\n",
            "Epoch 26/200\n",
            "3/3 [==============================] - 0s 17ms/step - loss: 0.0068\n",
            "Epoch 27/200\n",
            "3/3 [==============================] - 0s 14ms/step - loss: 0.0068\n",
            "Epoch 28/200\n",
            "3/3 [==============================] - 0s 16ms/step - loss: 0.0068\n",
            "Epoch 29/200\n",
            "3/3 [==============================] - 0s 16ms/step - loss: 0.0067\n",
            "Epoch 30/200\n",
            "3/3 [==============================] - 0s 12ms/step - loss: 0.0066\n",
            "Epoch 31/200\n",
            "3/3 [==============================] - 0s 16ms/step - loss: 0.0066\n",
            "Epoch 32/200\n",
            "3/3 [==============================] - 0s 16ms/step - loss: 0.0066\n",
            "Epoch 33/200\n",
            "3/3 [==============================] - 0s 16ms/step - loss: 0.0065\n",
            "Epoch 34/200\n",
            "3/3 [==============================] - 0s 17ms/step - loss: 0.0065\n",
            "Epoch 35/200\n",
            "3/3 [==============================] - 0s 16ms/step - loss: 0.0065\n",
            "Epoch 36/200\n",
            "3/3 [==============================] - 0s 19ms/step - loss: 0.0065\n",
            "Epoch 37/200\n",
            "3/3 [==============================] - 0s 16ms/step - loss: 0.0065\n",
            "Epoch 38/200\n",
            "3/3 [==============================] - 0s 16ms/step - loss: 0.0065\n",
            "Epoch 39/200\n",
            "3/3 [==============================] - 0s 16ms/step - loss: 0.0065\n",
            "Epoch 40/200\n",
            "3/3 [==============================] - 0s 16ms/step - loss: 0.0065\n",
            "Epoch 41/200\n",
            "3/3 [==============================] - 0s 16ms/step - loss: 0.0066\n",
            "Epoch 42/200\n",
            "3/3 [==============================] - 0s 12ms/step - loss: 0.0065\n",
            "Epoch 43/200\n",
            "3/3 [==============================] - 0s 16ms/step - loss: 0.0065\n",
            "Epoch 44/200\n",
            "3/3 [==============================] - 0s 18ms/step - loss: 0.0065\n",
            "Epoch 45/200\n",
            "3/3 [==============================] - 0s 16ms/step - loss: 0.0063\n",
            "Epoch 46/200\n",
            "3/3 [==============================] - 0s 16ms/step - loss: 0.0066\n",
            "Epoch 47/200\n",
            "3/3 [==============================] - 0s 16ms/step - loss: 0.0063\n",
            "Epoch 48/200\n",
            "3/3 [==============================] - 0s 12ms/step - loss: 0.0067\n",
            "Epoch 49/200\n",
            "3/3 [==============================] - 0s 12ms/step - loss: 0.0064\n",
            "Epoch 50/200\n",
            "3/3 [==============================] - 0s 16ms/step - loss: 0.0063\n",
            "Epoch 51/200\n",
            "3/3 [==============================] - 0s 16ms/step - loss: 0.0063\n",
            "Epoch 52/200\n",
            "3/3 [==============================] - 0s 16ms/step - loss: 0.0062\n",
            "Epoch 53/200\n",
            "3/3 [==============================] - 0s 16ms/step - loss: 0.0062\n",
            "Epoch 54/200\n",
            "3/3 [==============================] - 0s 16ms/step - loss: 0.0063\n",
            "Epoch 55/200\n",
            "3/3 [==============================] - 0s 16ms/step - loss: 0.0062\n",
            "Epoch 56/200\n",
            "3/3 [==============================] - 0s 16ms/step - loss: 0.0063\n",
            "Epoch 57/200\n",
            "3/3 [==============================] - 0s 16ms/step - loss: 0.0063\n",
            "Epoch 58/200\n",
            "3/3 [==============================] - 0s 16ms/step - loss: 0.0061\n",
            "Epoch 59/200\n",
            "3/3 [==============================] - 0s 16ms/step - loss: 0.0061\n",
            "Epoch 60/200\n",
            "3/3 [==============================] - 0s 16ms/step - loss: 0.0060\n",
            "Epoch 61/200\n",
            "3/3 [==============================] - 0s 16ms/step - loss: 0.0061\n",
            "Epoch 62/200\n",
            "3/3 [==============================] - 0s 16ms/step - loss: 0.0060\n",
            "Epoch 63/200\n",
            "3/3 [==============================] - 0s 16ms/step - loss: 0.0060\n",
            "Epoch 64/200\n",
            "3/3 [==============================] - 0s 16ms/step - loss: 0.0060\n",
            "Epoch 65/200\n",
            "3/3 [==============================] - 0s 16ms/step - loss: 0.0060\n",
            "Epoch 66/200\n",
            "3/3 [==============================] - 0s 16ms/step - loss: 0.0060\n",
            "Epoch 67/200\n",
            "3/3 [==============================] - 0s 17ms/step - loss: 0.0060\n",
            "Epoch 68/200\n",
            "3/3 [==============================] - 0s 16ms/step - loss: 0.0059\n",
            "Epoch 69/200\n",
            "3/3 [==============================] - 0s 16ms/step - loss: 0.0059\n",
            "Epoch 70/200\n",
            "3/3 [==============================] - 0s 16ms/step - loss: 0.0058\n",
            "Epoch 71/200\n",
            "3/3 [==============================] - 0s 16ms/step - loss: 0.0058\n",
            "Epoch 72/200\n",
            "3/3 [==============================] - 0s 20ms/step - loss: 0.0058\n",
            "Epoch 73/200\n",
            "3/3 [==============================] - 0s 17ms/step - loss: 0.0058\n",
            "Epoch 74/200\n",
            "3/3 [==============================] - 0s 12ms/step - loss: 0.0060\n",
            "Epoch 75/200\n",
            "3/3 [==============================] - 0s 16ms/step - loss: 0.0058\n",
            "Epoch 76/200\n",
            "3/3 [==============================] - 0s 17ms/step - loss: 0.0058\n",
            "Epoch 77/200\n",
            "3/3 [==============================] - 0s 17ms/step - loss: 0.0059\n",
            "Epoch 78/200\n",
            "3/3 [==============================] - 0s 16ms/step - loss: 0.0055\n",
            "Epoch 79/200\n",
            "3/3 [==============================] - 0s 14ms/step - loss: 0.0058\n",
            "Epoch 80/200\n",
            "3/3 [==============================] - 0s 16ms/step - loss: 0.0057\n",
            "Epoch 81/200\n",
            "3/3 [==============================] - 0s 16ms/step - loss: 0.0056\n",
            "Epoch 82/200\n",
            "3/3 [==============================] - 0s 16ms/step - loss: 0.0055\n",
            "Epoch 83/200\n",
            "3/3 [==============================] - 0s 16ms/step - loss: 0.0054\n",
            "Epoch 84/200\n",
            "3/3 [==============================] - 0s 12ms/step - loss: 0.0056\n",
            "Epoch 85/200\n",
            "3/3 [==============================] - 0s 12ms/step - loss: 0.0058\n",
            "Epoch 86/200\n",
            "3/3 [==============================] - 0s 16ms/step - loss: 0.0052\n",
            "Epoch 87/200\n",
            "3/3 [==============================] - 0s 20ms/step - loss: 0.0059\n",
            "Epoch 88/200\n",
            "3/3 [==============================] - 0s 16ms/step - loss: 0.0054\n",
            "Epoch 89/200\n",
            "3/3 [==============================] - 0s 16ms/step - loss: 0.0055\n",
            "Epoch 90/200\n",
            "3/3 [==============================] - 0s 16ms/step - loss: 0.0054\n",
            "Epoch 91/200\n",
            "3/3 [==============================] - 0s 16ms/step - loss: 0.0053\n",
            "Epoch 92/200\n",
            "3/3 [==============================] - 0s 16ms/step - loss: 0.0053\n",
            "Epoch 93/200\n",
            "3/3 [==============================] - 0s 12ms/step - loss: 0.0051\n",
            "Epoch 94/200\n",
            "3/3 [==============================] - 0s 12ms/step - loss: 0.0050\n",
            "Epoch 95/200\n",
            "3/3 [==============================] - 0s 14ms/step - loss: 0.0050\n",
            "Epoch 96/200\n",
            "3/3 [==============================] - 0s 16ms/step - loss: 0.0050\n",
            "Epoch 97/200\n",
            "3/3 [==============================] - 0s 16ms/step - loss: 0.0051\n",
            "Epoch 98/200\n",
            "3/3 [==============================] - 0s 16ms/step - loss: 0.0048\n",
            "Epoch 99/200\n",
            "3/3 [==============================] - 0s 17ms/step - loss: 0.0048\n",
            "Epoch 100/200\n",
            "3/3 [==============================] - 0s 16ms/step - loss: 0.0047\n",
            "Epoch 101/200\n",
            "3/3 [==============================] - 0s 19ms/step - loss: 0.0047\n",
            "Epoch 102/200\n",
            "3/3 [==============================] - 0s 12ms/step - loss: 0.0045\n",
            "Epoch 103/200\n",
            "3/3 [==============================] - 0s 12ms/step - loss: 0.0049\n",
            "Epoch 104/200\n",
            "3/3 [==============================] - 0s 16ms/step - loss: 0.0046\n",
            "Epoch 105/200\n",
            "3/3 [==============================] - 0s 16ms/step - loss: 0.0045\n",
            "Epoch 106/200\n",
            "3/3 [==============================] - 0s 17ms/step - loss: 0.0043\n",
            "Epoch 107/200\n",
            "3/3 [==============================] - 0s 12ms/step - loss: 0.0044\n",
            "Epoch 108/200\n",
            "3/3 [==============================] - 0s 16ms/step - loss: 0.0043\n",
            "Epoch 109/200\n",
            "3/3 [==============================] - 0s 20ms/step - loss: 0.0040\n",
            "Epoch 110/200\n",
            "3/3 [==============================] - 0s 17ms/step - loss: 0.0051\n",
            "Epoch 111/200\n",
            "3/3 [==============================] - 0s 15ms/step - loss: 0.0049\n",
            "Epoch 112/200\n",
            "3/3 [==============================] - 0s 16ms/step - loss: 0.0046\n",
            "Epoch 113/200\n",
            "3/3 [==============================] - 0s 15ms/step - loss: 0.0047\n",
            "Epoch 114/200\n",
            "3/3 [==============================] - 0s 16ms/step - loss: 0.0046\n",
            "Epoch 115/200\n",
            "3/3 [==============================] - 0s 16ms/step - loss: 0.0045\n",
            "Epoch 116/200\n",
            "3/3 [==============================] - 0s 16ms/step - loss: 0.0042\n",
            "Epoch 117/200\n",
            "3/3 [==============================] - 0s 17ms/step - loss: 0.0042\n",
            "Epoch 118/200\n",
            "3/3 [==============================] - 0s 16ms/step - loss: 0.0038\n",
            "Epoch 119/200\n",
            "3/3 [==============================] - 0s 16ms/step - loss: 0.0038\n",
            "Epoch 120/200\n",
            "3/3 [==============================] - 0s 16ms/step - loss: 0.0036\n",
            "Epoch 121/200\n",
            "3/3 [==============================] - 0s 12ms/step - loss: 0.0041\n",
            "Epoch 122/200\n",
            "3/3 [==============================] - 0s 18ms/step - loss: 0.0037\n",
            "Epoch 123/200\n",
            "3/3 [==============================] - 0s 16ms/step - loss: 0.0032\n",
            "Epoch 124/200\n",
            "3/3 [==============================] - 0s 12ms/step - loss: 0.0029\n",
            "Epoch 125/200\n",
            "3/3 [==============================] - 0s 16ms/step - loss: 0.0026\n",
            "Epoch 126/200\n",
            "3/3 [==============================] - 0s 16ms/step - loss: 0.0025\n",
            "Epoch 127/200\n",
            "3/3 [==============================] - 0s 16ms/step - loss: 0.0022\n",
            "Epoch 128/200\n",
            "3/3 [==============================] - 0s 16ms/step - loss: 0.0032\n",
            "Epoch 129/200\n",
            "3/3 [==============================] - 0s 16ms/step - loss: 0.0036\n",
            "Epoch 130/200\n",
            "3/3 [==============================] - 0s 17ms/step - loss: 0.0062\n",
            "Epoch 131/200\n",
            "3/3 [==============================] - 0s 16ms/step - loss: 0.0026\n",
            "Epoch 132/200\n",
            "3/3 [==============================] - 0s 16ms/step - loss: 0.0027\n",
            "Epoch 133/200\n",
            "3/3 [==============================] - 0s 16ms/step - loss: 0.0025\n",
            "Epoch 134/200\n",
            "3/3 [==============================] - 0s 16ms/step - loss: 0.0027\n",
            "Epoch 135/200\n",
            "3/3 [==============================] - 0s 16ms/step - loss: 0.0038\n",
            "Epoch 136/200\n",
            "3/3 [==============================] - 0s 16ms/step - loss: 0.0027\n",
            "Epoch 137/200\n",
            "3/3 [==============================] - 0s 16ms/step - loss: 0.0051\n",
            "Epoch 138/200\n",
            "3/3 [==============================] - 0s 16ms/step - loss: 0.0033\n",
            "Epoch 139/200\n",
            "3/3 [==============================] - 0s 16ms/step - loss: 0.0030\n",
            "Epoch 140/200\n",
            "3/3 [==============================] - 0s 14ms/step - loss: 0.0025\n",
            "Epoch 141/200\n",
            "3/3 [==============================] - 0s 16ms/step - loss: 0.0024\n",
            "Epoch 142/200\n",
            "3/3 [==============================] - 0s 16ms/step - loss: 0.0020\n",
            "Epoch 143/200\n",
            "3/3 [==============================] - 0s 16ms/step - loss: 0.0018\n",
            "Epoch 144/200\n",
            "3/3 [==============================] - 0s 16ms/step - loss: 0.0017\n",
            "Epoch 145/200\n",
            "3/3 [==============================] - 0s 16ms/step - loss: 0.0015\n",
            "Epoch 146/200\n",
            "3/3 [==============================] - 0s 20ms/step - loss: 0.0013\n",
            "Epoch 147/200\n",
            "3/3 [==============================] - 0s 16ms/step - loss: 0.0015\n",
            "Epoch 148/200\n",
            "3/3 [==============================] - 0s 15ms/step - loss: 0.0019\n",
            "Epoch 149/200\n",
            "3/3 [==============================] - 0s 16ms/step - loss: 0.0021\n",
            "Epoch 150/200\n",
            "3/3 [==============================] - 0s 16ms/step - loss: 0.0024\n",
            "Epoch 151/200\n",
            "3/3 [==============================] - 0s 20ms/step - loss: 0.0020\n",
            "Epoch 152/200\n",
            "3/3 [==============================] - 0s 14ms/step - loss: 0.0022\n",
            "Epoch 153/200\n",
            "3/3 [==============================] - 0s 16ms/step - loss: 0.0014\n",
            "Epoch 154/200\n",
            "3/3 [==============================] - 0s 20ms/step - loss: 0.0016\n",
            "Epoch 155/200\n",
            "3/3 [==============================] - 0s 16ms/step - loss: 0.0024\n",
            "Epoch 156/200\n",
            "3/3 [==============================] - 0s 16ms/step - loss: 0.0017\n",
            "Epoch 157/200\n",
            "3/3 [==============================] - 0s 16ms/step - loss: 0.0015\n",
            "Epoch 158/200\n",
            "3/3 [==============================] - 0s 12ms/step - loss: 0.0015\n",
            "Epoch 159/200\n",
            "3/3 [==============================] - 0s 12ms/step - loss: 0.0011\n",
            "Epoch 160/200\n",
            "3/3 [==============================] - 0s 16ms/step - loss: 0.0011\n",
            "Epoch 161/200\n",
            "3/3 [==============================] - 0s 16ms/step - loss: 9.0709e-04\n",
            "Epoch 162/200\n",
            "3/3 [==============================] - 0s 16ms/step - loss: 0.0015\n",
            "Epoch 163/200\n",
            "3/3 [==============================] - 0s 16ms/step - loss: 0.0014\n",
            "Epoch 164/200\n",
            "3/3 [==============================] - 0s 12ms/step - loss: 9.1570e-04\n",
            "Epoch 165/200\n",
            "3/3 [==============================] - 0s 16ms/step - loss: 9.5613e-04\n",
            "Epoch 166/200\n",
            "3/3 [==============================] - 0s 16ms/step - loss: 6.5080e-04\n",
            "Epoch 167/200\n",
            "3/3 [==============================] - 0s 16ms/step - loss: 6.3438e-04\n",
            "Epoch 168/200\n",
            "3/3 [==============================] - 0s 16ms/step - loss: 5.5664e-04\n",
            "Epoch 169/200\n",
            "3/3 [==============================] - 0s 16ms/step - loss: 6.2889e-04\n",
            "Epoch 170/200\n",
            "3/3 [==============================] - 0s 20ms/step - loss: 5.3960e-04\n",
            "Epoch 171/200\n",
            "3/3 [==============================] - 0s 16ms/step - loss: 4.7281e-04\n",
            "Epoch 172/200\n",
            "3/3 [==============================] - 0s 16ms/step - loss: 6.5499e-04\n",
            "Epoch 173/200\n",
            "3/3 [==============================] - 0s 16ms/step - loss: 0.0015\n",
            "Epoch 174/200\n",
            "3/3 [==============================] - 0s 16ms/step - loss: 0.0012\n",
            "Epoch 175/200\n",
            "3/3 [==============================] - 0s 16ms/step - loss: 8.9265e-04\n",
            "Epoch 176/200\n",
            "3/3 [==============================] - 0s 16ms/step - loss: 6.8575e-04\n",
            "Epoch 177/200\n",
            "3/3 [==============================] - 0s 16ms/step - loss: 9.4401e-04\n",
            "Epoch 178/200\n",
            "3/3 [==============================] - 0s 16ms/step - loss: 4.3681e-04\n",
            "Epoch 179/200\n",
            "3/3 [==============================] - 0s 16ms/step - loss: 0.0014\n",
            "Epoch 180/200\n",
            "3/3 [==============================] - 0s 16ms/step - loss: 9.1704e-04\n",
            "Epoch 181/200\n",
            "3/3 [==============================] - 0s 16ms/step - loss: 7.4232e-04\n",
            "Epoch 182/200\n",
            "3/3 [==============================] - 0s 12ms/step - loss: 6.1031e-04\n",
            "Epoch 183/200\n",
            "3/3 [==============================] - 0s 16ms/step - loss: 9.9678e-04\n",
            "Epoch 184/200\n",
            "3/3 [==============================] - 0s 16ms/step - loss: 5.3454e-04\n",
            "Epoch 185/200\n",
            "3/3 [==============================] - 0s 16ms/step - loss: 4.4091e-04\n",
            "Epoch 186/200\n",
            "3/3 [==============================] - 0s 12ms/step - loss: 4.1741e-04\n",
            "Epoch 187/200\n",
            "3/3 [==============================] - 0s 12ms/step - loss: 4.3284e-04\n",
            "Epoch 188/200\n",
            "3/3 [==============================] - 0s 17ms/step - loss: 4.2548e-04\n",
            "Epoch 189/200\n",
            "3/3 [==============================] - 0s 24ms/step - loss: 3.7289e-04\n",
            "Epoch 190/200\n",
            "3/3 [==============================] - 0s 20ms/step - loss: 3.9762e-04\n",
            "Epoch 191/200\n",
            "3/3 [==============================] - 0s 16ms/step - loss: 4.1610e-04\n",
            "Epoch 192/200\n",
            "3/3 [==============================] - 0s 16ms/step - loss: 3.9320e-04\n",
            "Epoch 193/200\n",
            "3/3 [==============================] - 0s 16ms/step - loss: 3.6356e-04\n",
            "Epoch 194/200\n",
            "3/3 [==============================] - 0s 16ms/step - loss: 7.5215e-04\n",
            "Epoch 195/200\n",
            "3/3 [==============================] - 0s 12ms/step - loss: 7.8134e-04\n",
            "Epoch 196/200\n",
            "3/3 [==============================] - 0s 16ms/step - loss: 5.1856e-04\n",
            "Epoch 197/200\n",
            "3/3 [==============================] - 0s 16ms/step - loss: 4.7847e-04\n",
            "Epoch 198/200\n",
            "3/3 [==============================] - 0s 16ms/step - loss: 7.9159e-04\n",
            "Epoch 199/200\n",
            "3/3 [==============================] - 0s 16ms/step - loss: 4.3047e-04\n",
            "Epoch 200/200\n",
            "3/3 [==============================] - 0s 16ms/step - loss: 4.5754e-04\n",
            "Epoch 1/200\n",
            "3/3 [==============================] - 2s 15ms/step - loss: 0.7747\n",
            "Epoch 2/200\n",
            "3/3 [==============================] - 0s 16ms/step - loss: 0.6415\n",
            "Epoch 3/200\n",
            "3/3 [==============================] - 0s 16ms/step - loss: 0.5054\n",
            "Epoch 4/200\n",
            "3/3 [==============================] - 0s 12ms/step - loss: 0.3528\n",
            "Epoch 5/200\n",
            "3/3 [==============================] - 0s 12ms/step - loss: 0.1735\n",
            "Epoch 6/200\n",
            "3/3 [==============================] - 0s 12ms/step - loss: 0.0696\n",
            "Epoch 7/200\n",
            "3/3 [==============================] - 0s 12ms/step - loss: 0.0609\n",
            "Epoch 8/200\n",
            "3/3 [==============================] - 0s 12ms/step - loss: 0.0201\n",
            "Epoch 9/200\n",
            "3/3 [==============================] - 0s 16ms/step - loss: 0.0314\n",
            "Epoch 10/200\n",
            "3/3 [==============================] - 0s 16ms/step - loss: 0.0279\n",
            "Epoch 11/200\n",
            "3/3 [==============================] - 0s 12ms/step - loss: 0.0165\n",
            "Epoch 12/200\n",
            "3/3 [==============================] - 0s 12ms/step - loss: 0.0164\n",
            "Epoch 13/200\n",
            "3/3 [==============================] - 0s 12ms/step - loss: 0.0172\n",
            "Epoch 14/200\n",
            "3/3 [==============================] - 0s 12ms/step - loss: 0.0111\n",
            "Epoch 15/200\n",
            "3/3 [==============================] - 0s 12ms/step - loss: 0.0091\n",
            "Epoch 16/200\n",
            "3/3 [==============================] - 0s 16ms/step - loss: 0.0102\n",
            "Epoch 17/200\n",
            "3/3 [==============================] - 0s 16ms/step - loss: 0.0100\n",
            "Epoch 18/200\n",
            "3/3 [==============================] - 0s 16ms/step - loss: 0.0086\n",
            "Epoch 19/200\n",
            "3/3 [==============================] - 0s 16ms/step - loss: 0.0085\n",
            "Epoch 20/200\n",
            "3/3 [==============================] - 0s 16ms/step - loss: 0.0085\n",
            "Epoch 21/200\n",
            "3/3 [==============================] - 0s 16ms/step - loss: 0.0081\n",
            "Epoch 22/200\n",
            "3/3 [==============================] - 0s 16ms/step - loss: 0.0078\n",
            "Epoch 23/200\n",
            "3/3 [==============================] - 0s 12ms/step - loss: 0.0077\n",
            "Epoch 24/200\n",
            "3/3 [==============================] - 0s 16ms/step - loss: 0.0076\n",
            "Epoch 25/200\n",
            "3/3 [==============================] - 0s 16ms/step - loss: 0.0077\n",
            "Epoch 26/200\n",
            "3/3 [==============================] - 0s 16ms/step - loss: 0.0077\n",
            "Epoch 27/200\n",
            "3/3 [==============================] - 0s 16ms/step - loss: 0.0075\n",
            "Epoch 28/200\n",
            "3/3 [==============================] - 0s 12ms/step - loss: 0.0076\n",
            "Epoch 29/200\n",
            "3/3 [==============================] - 0s 12ms/step - loss: 0.0076\n",
            "Epoch 30/200\n",
            "3/3 [==============================] - 0s 12ms/step - loss: 0.0073\n",
            "Epoch 31/200\n",
            "3/3 [==============================] - 0s 16ms/step - loss: 0.0072\n",
            "Epoch 32/200\n",
            "3/3 [==============================] - 0s 15ms/step - loss: 0.0072\n",
            "Epoch 33/200\n",
            "3/3 [==============================] - 0s 16ms/step - loss: 0.0072\n",
            "Epoch 34/200\n",
            "3/3 [==============================] - 0s 16ms/step - loss: 0.0071\n",
            "Epoch 35/200\n",
            "3/3 [==============================] - 0s 16ms/step - loss: 0.0071\n",
            "Epoch 36/200\n",
            "3/3 [==============================] - 0s 16ms/step - loss: 0.0070\n",
            "Epoch 37/200\n",
            "3/3 [==============================] - 0s 13ms/step - loss: 0.0070\n",
            "Epoch 38/200\n",
            "3/3 [==============================] - 0s 12ms/step - loss: 0.0070\n",
            "Epoch 39/200\n",
            "3/3 [==============================] - 0s 15ms/step - loss: 0.0070\n",
            "Epoch 40/200\n",
            "3/3 [==============================] - 0s 14ms/step - loss: 0.0070\n",
            "Epoch 41/200\n",
            "3/3 [==============================] - 0s 12ms/step - loss: 0.0069\n",
            "Epoch 42/200\n",
            "3/3 [==============================] - 0s 12ms/step - loss: 0.0069\n",
            "Epoch 43/200\n",
            "3/3 [==============================] - 0s 16ms/step - loss: 0.0068\n",
            "Epoch 44/200\n",
            "3/3 [==============================] - 0s 20ms/step - loss: 0.0068\n",
            "Epoch 45/200\n",
            "3/3 [==============================] - 0s 16ms/step - loss: 0.0069\n",
            "Epoch 46/200\n",
            "3/3 [==============================] - 0s 16ms/step - loss: 0.0069\n",
            "Epoch 47/200\n",
            "3/3 [==============================] - 0s 16ms/step - loss: 0.0067\n",
            "Epoch 48/200\n",
            "3/3 [==============================] - 0s 16ms/step - loss: 0.0067\n",
            "Epoch 49/200\n",
            "3/3 [==============================] - 0s 16ms/step - loss: 0.0067\n",
            "Epoch 50/200\n",
            "3/3 [==============================] - 0s 24ms/step - loss: 0.0066\n",
            "Epoch 51/200\n",
            "3/3 [==============================] - 0s 16ms/step - loss: 0.0065\n",
            "Epoch 52/200\n",
            "3/3 [==============================] - 0s 17ms/step - loss: 0.0065\n",
            "Epoch 53/200\n",
            "3/3 [==============================] - 0s 16ms/step - loss: 0.0066\n",
            "Epoch 54/200\n",
            "3/3 [==============================] - 0s 12ms/step - loss: 0.0065\n",
            "Epoch 55/200\n",
            "3/3 [==============================] - 0s 12ms/step - loss: 0.0064\n",
            "Epoch 56/200\n",
            "3/3 [==============================] - 0s 16ms/step - loss: 0.0065\n",
            "Epoch 57/200\n",
            "3/3 [==============================] - 0s 16ms/step - loss: 0.0065\n",
            "Epoch 58/200\n",
            "3/3 [==============================] - 0s 16ms/step - loss: 0.0064\n",
            "Epoch 59/200\n",
            "3/3 [==============================] - 0s 16ms/step - loss: 0.0064\n",
            "Epoch 60/200\n",
            "3/3 [==============================] - 0s 12ms/step - loss: 0.0064\n",
            "Epoch 61/200\n",
            "3/3 [==============================] - 0s 12ms/step - loss: 0.0063\n",
            "Epoch 62/200\n",
            "3/3 [==============================] - 0s 16ms/step - loss: 0.0063\n",
            "Epoch 63/200\n",
            "3/3 [==============================] - 0s 12ms/step - loss: 0.0062\n",
            "Epoch 64/200\n",
            "3/3 [==============================] - 0s 16ms/step - loss: 0.0062\n",
            "Epoch 65/200\n",
            "3/3 [==============================] - 0s 16ms/step - loss: 0.0062\n",
            "Epoch 66/200\n",
            "3/3 [==============================] - 0s 16ms/step - loss: 0.0062\n",
            "Epoch 67/200\n",
            "3/3 [==============================] - 0s 16ms/step - loss: 0.0062\n",
            "Epoch 68/200\n",
            "3/3 [==============================] - 0s 15ms/step - loss: 0.0062\n",
            "Epoch 69/200\n",
            "3/3 [==============================] - 0s 14ms/step - loss: 0.0061\n",
            "Epoch 70/200\n",
            "3/3 [==============================] - 0s 12ms/step - loss: 0.0061\n",
            "Epoch 71/200\n",
            "3/3 [==============================] - 0s 16ms/step - loss: 0.0061\n",
            "Epoch 72/200\n",
            "3/3 [==============================] - 0s 17ms/step - loss: 0.0060\n",
            "Epoch 73/200\n",
            "3/3 [==============================] - 0s 16ms/step - loss: 0.0062\n",
            "Epoch 74/200\n",
            "3/3 [==============================] - 0s 16ms/step - loss: 0.0062\n",
            "Epoch 75/200\n",
            "3/3 [==============================] - 0s 16ms/step - loss: 0.0059\n",
            "Epoch 76/200\n",
            "3/3 [==============================] - 0s 24ms/step - loss: 0.0060\n",
            "Epoch 77/200\n",
            "3/3 [==============================] - 0s 12ms/step - loss: 0.0060\n",
            "Epoch 78/200\n",
            "3/3 [==============================] - 0s 17ms/step - loss: 0.0057\n",
            "Epoch 79/200\n",
            "3/3 [==============================] - 0s 13ms/step - loss: 0.0060\n",
            "Epoch 80/200\n",
            "3/3 [==============================] - 0s 16ms/step - loss: 0.0059\n",
            "Epoch 81/200\n",
            "3/3 [==============================] - 0s 17ms/step - loss: 0.0058\n",
            "Epoch 82/200\n",
            "3/3 [==============================] - 0s 16ms/step - loss: 0.0057\n",
            "Epoch 83/200\n",
            "3/3 [==============================] - 0s 16ms/step - loss: 0.0057\n",
            "Epoch 84/200\n",
            "3/3 [==============================] - 0s 16ms/step - loss: 0.0057\n",
            "Epoch 85/200\n",
            "3/3 [==============================] - 0s 12ms/step - loss: 0.0059\n",
            "Epoch 86/200\n",
            "3/3 [==============================] - 0s 16ms/step - loss: 0.0056\n",
            "Epoch 87/200\n",
            "3/3 [==============================] - 0s 16ms/step - loss: 0.0058\n",
            "Epoch 88/200\n",
            "3/3 [==============================] - 0s 16ms/step - loss: 0.0058\n",
            "Epoch 89/200\n",
            "3/3 [==============================] - 0s 16ms/step - loss: 0.0054\n",
            "Epoch 90/200\n",
            "3/3 [==============================] - 0s 16ms/step - loss: 0.0059\n",
            "Epoch 91/200\n",
            "3/3 [==============================] - 0s 16ms/step - loss: 0.0056\n",
            "Epoch 92/200\n",
            "3/3 [==============================] - 0s 16ms/step - loss: 0.0055\n",
            "Epoch 93/200\n",
            "3/3 [==============================] - 0s 12ms/step - loss: 0.0056\n",
            "Epoch 94/200\n",
            "3/3 [==============================] - 0s 12ms/step - loss: 0.0054\n",
            "Epoch 95/200\n",
            "3/3 [==============================] - 0s 12ms/step - loss: 0.0054\n",
            "Epoch 96/200\n",
            "3/3 [==============================] - 0s 16ms/step - loss: 0.0052\n",
            "Epoch 97/200\n",
            "3/3 [==============================] - 0s 16ms/step - loss: 0.0053\n",
            "Epoch 98/200\n",
            "3/3 [==============================] - 0s 16ms/step - loss: 0.0051\n",
            "Epoch 99/200\n",
            "3/3 [==============================] - 0s 16ms/step - loss: 0.0051\n",
            "Epoch 100/200\n",
            "3/3 [==============================] - 0s 16ms/step - loss: 0.0051\n",
            "Epoch 101/200\n",
            "3/3 [==============================] - 0s 16ms/step - loss: 0.0050\n",
            "Epoch 102/200\n",
            "3/3 [==============================] - 0s 16ms/step - loss: 0.0050\n",
            "Epoch 103/200\n",
            "3/3 [==============================] - 0s 16ms/step - loss: 0.0048\n",
            "Epoch 104/200\n",
            "3/3 [==============================] - 0s 16ms/step - loss: 0.0051\n",
            "Epoch 105/200\n",
            "3/3 [==============================] - 0s 16ms/step - loss: 0.0050\n",
            "Epoch 106/200\n",
            "3/3 [==============================] - 0s 16ms/step - loss: 0.0047\n",
            "Epoch 107/200\n",
            "3/3 [==============================] - 0s 16ms/step - loss: 0.0050\n",
            "Epoch 108/200\n",
            "3/3 [==============================] - 0s 16ms/step - loss: 0.0049\n",
            "Epoch 109/200\n",
            "3/3 [==============================] - 0s 16ms/step - loss: 0.0045\n",
            "Epoch 110/200\n",
            "3/3 [==============================] - 0s 12ms/step - loss: 0.0045\n",
            "Epoch 111/200\n",
            "3/3 [==============================] - 0s 16ms/step - loss: 0.0044\n",
            "Epoch 112/200\n",
            "3/3 [==============================] - 0s 16ms/step - loss: 0.0043\n",
            "Epoch 113/200\n",
            "3/3 [==============================] - 0s 14ms/step - loss: 0.0044\n",
            "Epoch 114/200\n",
            "3/3 [==============================] - 0s 12ms/step - loss: 0.0042\n",
            "Epoch 115/200\n",
            "3/3 [==============================] - 0s 16ms/step - loss: 0.0041\n",
            "Epoch 116/200\n",
            "3/3 [==============================] - 0s 16ms/step - loss: 0.0041\n",
            "Epoch 117/200\n",
            "3/3 [==============================] - 0s 11ms/step - loss: 0.0039\n",
            "Epoch 118/200\n",
            "3/3 [==============================] - 0s 16ms/step - loss: 0.0040\n",
            "Epoch 119/200\n",
            "3/3 [==============================] - 0s 16ms/step - loss: 0.0037\n",
            "Epoch 120/200\n",
            "3/3 [==============================] - 0s 16ms/step - loss: 0.0035\n",
            "Epoch 121/200\n",
            "3/3 [==============================] - 0s 16ms/step - loss: 0.0035\n",
            "Epoch 122/200\n",
            "3/3 [==============================] - 0s 16ms/step - loss: 0.0033\n",
            "Epoch 123/200\n",
            "3/3 [==============================] - 0s 12ms/step - loss: 0.0036\n",
            "Epoch 124/200\n",
            "3/3 [==============================] - 0s 12ms/step - loss: 0.0030\n",
            "Epoch 125/200\n",
            "3/3 [==============================] - 0s 16ms/step - loss: 0.0032\n",
            "Epoch 126/200\n",
            "3/3 [==============================] - 0s 16ms/step - loss: 0.0031\n",
            "Epoch 127/200\n",
            "3/3 [==============================] - 0s 16ms/step - loss: 0.0027\n",
            "Epoch 128/200\n",
            "3/3 [==============================] - 0s 16ms/step - loss: 0.0026\n",
            "Epoch 129/200\n",
            "3/3 [==============================] - 0s 17ms/step - loss: 0.0026\n",
            "Epoch 130/200\n",
            "3/3 [==============================] - 0s 20ms/step - loss: 0.0025\n",
            "Epoch 131/200\n",
            "3/3 [==============================] - 0s 12ms/step - loss: 0.0024\n",
            "Epoch 132/200\n",
            "3/3 [==============================] - 0s 12ms/step - loss: 0.0023\n",
            "Epoch 133/200\n",
            "3/3 [==============================] - 0s 16ms/step - loss: 0.0026\n",
            "Epoch 134/200\n",
            "3/3 [==============================] - 0s 16ms/step - loss: 0.0022\n",
            "Epoch 135/200\n",
            "3/3 [==============================] - 0s 16ms/step - loss: 0.0021\n",
            "Epoch 136/200\n",
            "3/3 [==============================] - 0s 12ms/step - loss: 0.0024\n",
            "Epoch 137/200\n",
            "3/3 [==============================] - 0s 12ms/step - loss: 0.0022\n",
            "Epoch 138/200\n",
            "3/3 [==============================] - 0s 12ms/step - loss: 0.0019\n",
            "Epoch 139/200\n",
            "3/3 [==============================] - 0s 16ms/step - loss: 0.0018\n",
            "Epoch 140/200\n",
            "3/3 [==============================] - 0s 16ms/step - loss: 0.0017\n",
            "Epoch 141/200\n",
            "3/3 [==============================] - 0s 16ms/step - loss: 0.0017\n",
            "Epoch 142/200\n",
            "3/3 [==============================] - 0s 16ms/step - loss: 0.0017\n",
            "Epoch 143/200\n",
            "3/3 [==============================] - 0s 12ms/step - loss: 0.0015\n",
            "Epoch 144/200\n",
            "3/3 [==============================] - 0s 16ms/step - loss: 0.0017\n",
            "Epoch 145/200\n",
            "3/3 [==============================] - 0s 24ms/step - loss: 0.0014\n",
            "Epoch 146/200\n",
            "3/3 [==============================] - 0s 16ms/step - loss: 0.0013\n",
            "Epoch 147/200\n",
            "3/3 [==============================] - 0s 16ms/step - loss: 0.0013\n",
            "Epoch 148/200\n",
            "3/3 [==============================] - 0s 16ms/step - loss: 0.0012\n",
            "Epoch 149/200\n",
            "3/3 [==============================] - 0s 16ms/step - loss: 0.0012\n",
            "Epoch 150/200\n",
            "3/3 [==============================] - 0s 12ms/step - loss: 0.0011\n",
            "Epoch 151/200\n",
            "3/3 [==============================] - 0s 15ms/step - loss: 0.0011\n",
            "Epoch 152/200\n",
            "3/3 [==============================] - 0s 12ms/step - loss: 9.7381e-04\n",
            "Epoch 153/200\n",
            "3/3 [==============================] - 0s 16ms/step - loss: 9.8997e-04\n",
            "Epoch 154/200\n",
            "3/3 [==============================] - 0s 15ms/step - loss: 8.4857e-04\n",
            "Epoch 155/200\n",
            "3/3 [==============================] - 0s 16ms/step - loss: 8.5402e-04\n",
            "Epoch 156/200\n",
            "3/3 [==============================] - 0s 16ms/step - loss: 7.1692e-04\n",
            "Epoch 157/200\n",
            "3/3 [==============================] - 0s 16ms/step - loss: 6.9369e-04\n",
            "Epoch 158/200\n",
            "3/3 [==============================] - 0s 16ms/step - loss: 6.1432e-04\n",
            "Epoch 159/200\n",
            "3/3 [==============================] - 0s 16ms/step - loss: 6.8737e-04\n",
            "Epoch 160/200\n",
            "3/3 [==============================] - 0s 12ms/step - loss: 6.0850e-04\n",
            "Epoch 161/200\n",
            "3/3 [==============================] - 0s 12ms/step - loss: 5.3770e-04\n",
            "Epoch 162/200\n",
            "3/3 [==============================] - 0s 12ms/step - loss: 4.9234e-04\n",
            "Epoch 163/200\n",
            "3/3 [==============================] - 0s 12ms/step - loss: 5.5804e-04\n",
            "Epoch 164/200\n",
            "3/3 [==============================] - 0s 16ms/step - loss: 3.9435e-04\n",
            "Epoch 165/200\n",
            "3/3 [==============================] - 0s 24ms/step - loss: 4.4576e-04\n",
            "Epoch 166/200\n",
            "3/3 [==============================] - 0s 12ms/step - loss: 4.4449e-04\n",
            "Epoch 167/200\n",
            "3/3 [==============================] - 0s 16ms/step - loss: 3.8208e-04\n",
            "Epoch 168/200\n",
            "3/3 [==============================] - 0s 12ms/step - loss: 3.0795e-04\n",
            "Epoch 169/200\n",
            "3/3 [==============================] - 0s 32ms/step - loss: 5.4404e-04\n",
            "Epoch 170/200\n",
            "3/3 [==============================] - 0s 20ms/step - loss: 4.0598e-04\n",
            "Epoch 171/200\n",
            "3/3 [==============================] - 0s 19ms/step - loss: 3.7613e-04\n",
            "Epoch 172/200\n",
            "3/3 [==============================] - 0s 14ms/step - loss: 3.1454e-04\n",
            "Epoch 173/200\n",
            "3/3 [==============================] - 0s 16ms/step - loss: 2.3019e-04\n",
            "Epoch 174/200\n",
            "3/3 [==============================] - 0s 16ms/step - loss: 3.4432e-04\n",
            "Epoch 175/200\n",
            "3/3 [==============================] - 0s 12ms/step - loss: 2.4073e-04\n",
            "Epoch 176/200\n",
            "3/3 [==============================] - 0s 16ms/step - loss: 2.3051e-04\n",
            "Epoch 177/200\n",
            "3/3 [==============================] - 0s 16ms/step - loss: 2.4030e-04\n",
            "Epoch 178/200\n",
            "3/3 [==============================] - 0s 16ms/step - loss: 2.1169e-04\n",
            "Epoch 179/200\n",
            "3/3 [==============================] - 0s 12ms/step - loss: 2.2722e-04\n",
            "Epoch 180/200\n",
            "3/3 [==============================] - 0s 12ms/step - loss: 2.0827e-04\n",
            "Epoch 181/200\n",
            "3/3 [==============================] - 0s 16ms/step - loss: 2.0214e-04\n",
            "Epoch 182/200\n",
            "3/3 [==============================] - 0s 16ms/step - loss: 1.9311e-04\n",
            "Epoch 183/200\n",
            "3/3 [==============================] - 0s 12ms/step - loss: 1.9269e-04\n",
            "Epoch 184/200\n",
            "3/3 [==============================] - 0s 24ms/step - loss: 1.8470e-04\n",
            "Epoch 185/200\n",
            "3/3 [==============================] - 0s 12ms/step - loss: 1.8211e-04\n",
            "Epoch 186/200\n",
            "3/3 [==============================] - 0s 16ms/step - loss: 1.8980e-04\n",
            "Epoch 187/200\n",
            "3/3 [==============================] - 0s 16ms/step - loss: 1.7987e-04\n",
            "Epoch 188/200\n",
            "3/3 [==============================] - 0s 16ms/step - loss: 1.8645e-04\n",
            "Epoch 189/200\n",
            "3/3 [==============================] - 0s 16ms/step - loss: 2.2039e-04\n",
            "Epoch 190/200\n",
            "3/3 [==============================] - 0s 16ms/step - loss: 2.0285e-04\n",
            "Epoch 191/200\n",
            "3/3 [==============================] - 0s 16ms/step - loss: 1.9892e-04\n",
            "Epoch 192/200\n",
            "3/3 [==============================] - 0s 16ms/step - loss: 1.9318e-04\n",
            "Epoch 193/200\n",
            "3/3 [==============================] - 0s 16ms/step - loss: 1.6690e-04\n",
            "Epoch 194/200\n",
            "3/3 [==============================] - 0s 16ms/step - loss: 1.5904e-04\n",
            "Epoch 195/200\n",
            "3/3 [==============================] - 0s 14ms/step - loss: 1.5565e-04\n",
            "Epoch 196/200\n",
            "3/3 [==============================] - 0s 16ms/step - loss: 1.5859e-04\n",
            "Epoch 197/200\n",
            "3/3 [==============================] - 0s 16ms/step - loss: 1.5765e-04\n",
            "Epoch 198/200\n",
            "3/3 [==============================] - 0s 14ms/step - loss: 1.4882e-04\n",
            "Epoch 199/200\n",
            "3/3 [==============================] - 0s 12ms/step - loss: 1.6706e-04\n",
            "Epoch 200/200\n",
            "3/3 [==============================] - 0s 12ms/step - loss: 1.5623e-04\n"
          ]
        }
      ],
      "source": [
        "# Train LSTM model\n",
        "#print(trainX)\n",
        "#print(trainY)\n",
        "lstm_trained = lstm_model.fit(trainX, trainY, shuffle=True, epochs=epochs)\n",
        "# Train GRU model\n",
        "gru_trained = gru_model.fit(trainX, trainY, shuffle=True, epochs=epochs)"
      ]
    },
    {
      "cell_type": "code",
      "execution_count": 95,
      "metadata": {
        "colab": {
          "base_uri": "https://localhost:8080/"
        },
        "id": "H8OyooiKm-ab",
        "outputId": "3109340f-f6c3-4f98-b8db-6b15e082e54e"
      },
      "outputs": [
        {
          "name": "stdout",
          "output_type": "stream",
          "text": [
            "1/1 [==============================] - 0s 437ms/step\n",
            "1/1 [==============================] - 0s 331ms/step\n",
            "(31, 20)\n",
            "1/1 [==============================] - 0s 24ms/step\n",
            "1/1 [==============================] - 0s 24ms/step\n",
            "(31, 20)\n",
            "1/1 [==============================] - 0s 24ms/step\n",
            "1/1 [==============================] - 0s 32ms/step\n",
            "(31, 20)\n",
            "1/1 [==============================] - 0s 32ms/step\n",
            "1/1 [==============================] - 0s 24ms/step\n",
            "(31, 20)\n",
            "1/1 [==============================] - 0s 24ms/step\n",
            "1/1 [==============================] - 0s 24ms/step\n",
            "(31, 20)\n",
            "1/1 [==============================] - 0s 24ms/step\n",
            "1/1 [==============================] - 0s 25ms/step\n",
            "(31, 20)\n",
            "1/1 [==============================] - 0s 24ms/step\n",
            "1/1 [==============================] - 0s 28ms/step\n",
            "(31, 20)\n",
            "1/1 [==============================] - 0s 32ms/step\n",
            "1/1 [==============================] - 0s 24ms/step\n",
            "(31, 20)\n",
            "1/1 [==============================] - 0s 32ms/step\n",
            "1/1 [==============================] - 0s 24ms/step\n",
            "(31, 20)\n",
            "1/1 [==============================] - 0s 32ms/step\n",
            "1/1 [==============================] - 0s 26ms/step\n",
            "(31, 20)\n"
          ]
        }
      ],
      "source": [
        "#Testing\n",
        "s=(10,6) \n",
        "s=np.ones(s)  #for the results\n",
        "\n",
        "for j in range(0,10):\n",
        "  scaled_data = DATAX[j, :] #Changes the index of time_series\n",
        "  scaled_data = np.reshape(scaled_data, (len(scaled_data),1)) \n",
        "  scaled_data.shape\n",
        "  _ , _ , testX, testY, _ = data_preparation(window, scaled_data, N, f)\n",
        "  y_pred_lstm = lstm_model.predict(testX)\n",
        "  y_pred_gru = gru_model.predict(testX)\n",
        "  y_baseline = baselinef(testX,f) \n",
        "  testY = np.reshape(testY, (testY.shape[0],testY.shape[1]))\n",
        "  print(testY.shape)\n",
        "  s[j,0] = np.sqrt(mean_squared_error(testY, y_pred_lstm))\n",
        "  s[j,1] = np.sqrt(mean_squared_error(testY, y_pred_gru))\n",
        "  s[j,2] = np.sqrt(mean_squared_error(testY, y_baseline))\n",
        "  s[j,0+3] = mda(testY, y_pred_lstm)\n",
        "  s[j,1+3] = mda(testY, y_pred_gru)\n",
        "  s[j,2+3] = mda(testY, y_baseline)"
      ]
    },
    {
      "cell_type": "code",
      "execution_count": 96,
      "metadata": {
        "colab": {
          "base_uri": "https://localhost:8080/"
        },
        "id": "lIkEbyAtK4BT",
        "outputId": "0abf6a35-066b-4c60-cf14-005c2964aadc"
      },
      "outputs": [
        {
          "name": "stdout",
          "output_type": "stream",
          "text": [
            "Mean values\n"
          ]
        },
        {
          "data": {
            "text/plain": [
              "array([0.22282864, 0.11656749, 0.10033622, 0.45883333, 0.674     ,\n",
              "       1.        ])"
            ]
          },
          "execution_count": 96,
          "metadata": {},
          "output_type": "execute_result"
        }
      ],
      "source": [
        "print('Mean values')\n",
        "np.mean(s, axis=0)"
      ]
    },
    {
      "cell_type": "code",
      "execution_count": 97,
      "metadata": {
        "colab": {
          "base_uri": "https://localhost:8080/"
        },
        "id": "ZLu7_ZRHK8-7",
        "outputId": "a0271685-bfc4-415c-a00b-070eeec3c352"
      },
      "outputs": [
        {
          "name": "stdout",
          "output_type": "stream",
          "text": [
            "Standard Deviation\n"
          ]
        },
        {
          "data": {
            "text/plain": [
              "array([0.00874123, 0.00608322, 0.00414677, 0.01188019, 0.01398809,\n",
              "       0.        ])"
            ]
          },
          "execution_count": 97,
          "metadata": {},
          "output_type": "execute_result"
        }
      ],
      "source": [
        "print('Standard Deviation')\n",
        "np.std(s, axis=0)"
      ]
    },
    {
      "cell_type": "code",
      "execution_count": 98,
      "metadata": {
        "colab": {
          "base_uri": "https://localhost:8080/"
        },
        "id": "GD9Nbves8XyP",
        "outputId": "4fd646c7-77b9-4d6e-ff38-957008715d08"
      },
      "outputs": [
        {
          "name": "stdout",
          "output_type": "stream",
          "text": [
            "LSTM and Baseline (RMSE)\n",
            "U=100.0. p = 0.00018267179110955002\n",
            "GRU and Baseline (RMSE)\n",
            "U=91.0. p = 0.0022022199424970783\n",
            "LSTM and GRU (RMSE)\n",
            "U=100.0. p = 0.00018267179110955002\n",
            "LSTM and Baseline (DA)\n",
            "U=0.0. p = 5.511059233578696e-05\n",
            "GRU and Baseline (DA)\n",
            "U=0.0. p = 6.248742801391496e-05\n",
            "LSTM and GRU (DA)\n",
            "U=0.0. p = 0.00016024636533588243\n"
          ]
        }
      ],
      "source": [
        "#Statistical tests\n",
        "statisticaltests(s)"
      ]
    },
    {
      "cell_type": "code",
      "execution_count": 99,
      "metadata": {
        "colab": {
          "base_uri": "https://localhost:8080/"
        },
        "id": "zsbpzEq-0HG6",
        "outputId": "416ecea8-e918-4033-e98a-0581b939db4b"
      },
      "outputs": [
        {
          "name": "stderr",
          "output_type": "stream",
          "text": [
            "WARNING:absl:Found untraced functions such as _update_step_xla, gru_cell_3_layer_call_fn, gru_cell_3_layer_call_and_return_conditional_losses while saving (showing 3 of 3). These functions will not be directly callable after loading.\n"
          ]
        },
        {
          "name": "stdout",
          "output_type": "stream",
          "text": [
            "INFO:tensorflow:Assets written to: sample_data/GRU_B20\\assets\n"
          ]
        },
        {
          "name": "stderr",
          "output_type": "stream",
          "text": [
            "INFO:tensorflow:Assets written to: sample_data/GRU_B20\\assets\n",
            "WARNING:absl:Found untraced functions such as _update_step_xla, lstm_cell_3_layer_call_fn, lstm_cell_3_layer_call_and_return_conditional_losses while saving (showing 3 of 3). These functions will not be directly callable after loading.\n"
          ]
        },
        {
          "name": "stdout",
          "output_type": "stream",
          "text": [
            "INFO:tensorflow:Assets written to: sample_data/LSTM_B20\\assets\n"
          ]
        },
        {
          "name": "stderr",
          "output_type": "stream",
          "text": [
            "INFO:tensorflow:Assets written to: sample_data/LSTM_B20\\assets\n"
          ]
        }
      ],
      "source": [
        "#use this code to save the models\n",
        "if experiment == 1:\n",
        "  ex = 'B'\n",
        "else:\n",
        "  ex = 'A'\n",
        "gru_model.save(thepath+'/GRU_'+str(ex)+str(f)) #Saves GRU\n",
        "lstm_model.save(thepath+'/LSTM_'+str(ex)+str(f)) #Saves LSTM"
      ]
    },
    {
      "cell_type": "code",
      "execution_count": 100,
      "metadata": {
        "id": "ork6jRW8tSdf"
      },
      "outputs": [],
      "source": [
        "#Rescale for visual inspection\n",
        "testY = rescaleit(testY,mima,j)\n",
        "y_pred_lstm = rescaleit(y_pred_lstm,mima,j)\n",
        "y_pred_gru = rescaleit(y_pred_gru,mima,j)\n",
        "y_baseline = rescaleit(y_baseline,mima,j)"
      ]
    },
    {
      "cell_type": "code",
      "execution_count": 101,
      "metadata": {
        "id": "cV0J2OjzBf-7"
      },
      "outputs": [],
      "source": [
        "if f == 1: \n",
        "  plt.plot(testY[0:100], label = 'Actual')\n",
        "  plt.plot(y_baseline[0:100], label = 'Baseline prediction')\n",
        "  plt.plot(y_pred_lstm[0:100], label = 'LSTM prediction')\n",
        "  plt.plot(y_pred_gru[0:100], label = 'GRU prediction')\n",
        "  \n",
        "  plt.legend(loc='upper center', bbox_to_anchor=(0.5, 1.1),\n",
        "          fancybox=True, shadow=True, ncol=5)\n",
        "  #plt.legend()\n",
        "  plt.xlabel(\"Days\")\n",
        "  if experiment ==1:\n",
        "    plt.ylabel(\"Closing Price\")\n",
        "  else:\n",
        "    plt.ylabel(\"Value\")"
      ]
    },
    {
      "cell_type": "code",
      "execution_count": 105,
      "metadata": {
        "colab": {
          "base_uri": "https://localhost:8080/",
          "height": 279
        },
        "id": "9JrOZlZlPn4X",
        "outputId": "75cf22e5-4afa-4dac-b015-eb9fbb60aeb5"
      },
      "outputs": [
        {
          "data": {
            "image/png": "[encoded data removed]",
            "text/plain": [
              "<Figure size 640x480 with 1 Axes>"
            ]
          },
          "metadata": {},
          "output_type": "display_data"
        }
      ],
      "source": [
        "g = 30 #Chooses one of the tests samples\n",
        "if f == 20:\n",
        "  plt.plot(testY[g,:], label = 'Actual')\n",
        "  plt.plot(y_baseline[g,:], label = 'Baseline prediction')\n",
        "  plt.plot(y_pred_lstm[g,:], label = 'LSTM prediction')\n",
        "  plt.plot(y_pred_gru[g,:], label = 'GRU prediction')\n",
        "  plt.legend()\n",
        "  plt.xlabel('Days')\n",
        "  days = np.arange(testY.shape[1]+1)\n",
        "  new_list = range(math.floor(min(days)), math.ceil(max(days))+1)\n",
        "  plt.xticks(new_list)\n",
        "  plt.ylabel('Value')"
      ]
    },
    {
      "cell_type": "code",
      "execution_count": 106,
      "metadata": {
        "colab": {
          "base_uri": "https://localhost:8080/",
          "height": 297
        },
        "id": "hqLCAFNF1dm5",
        "outputId": "6c06b1f4-c036-4497-893b-f9e8d43d7936"
      },
      "outputs": [
        {
          "data": {
            "text/plain": [
              "Text(0, 0.5, 'MSE Loss')"
            ]
          },
          "execution_count": 106,
          "metadata": {},
          "output_type": "execute_result"
        },
        {
          "data": {
            "image/png": "[encoded data removed]",
            "text/plain": [
              "<Figure size 640x480 with 1 Axes>"
            ]
          },
          "metadata": {},
          "output_type": "display_data"
        }
      ],
      "source": [
        "#\"\"\"Plot loss function and Predictions\"\"\"\n",
        "plt.plot(lstm_trained.history['loss'], label = 'LSTM')\n",
        "plt.plot(gru_trained.history['loss'], label = 'GRU los')\n",
        "plt.legend()\n",
        "plt.xlabel('Epochs')\n",
        "plt.ylabel('MSE Loss')"
      ]
    }
  ],
  "metadata": {
    "colab": {
      "collapsed_sections": [],
      "name": "RNN_multi.ipynb",
      "provenance": []
    },
    "kernelspec": {
      "display_name": "agrivision",
      "language": "python",
      "name": "python3"
    },
    "language_info": {
      "codemirror_mode": {
        "name": "ipython",
        "version": 3
      },
      "file_extension": ".py",
      "mimetype": "text/x-python",
      "name": "python",
      "nbconvert_exporter": "python",
      "pygments_lexer": "ipython3",
      "version": "3.8.15"
    },
    "vscode": {
      "interpreter": {
        "hash": "033a2480c22a6a7c8c0f850d957c0585f369c429c8c308b563cd4dfd4620b21f"
      }
    }
  },
  "nbformat": 4,
  "nbformat_minor": 0
}
